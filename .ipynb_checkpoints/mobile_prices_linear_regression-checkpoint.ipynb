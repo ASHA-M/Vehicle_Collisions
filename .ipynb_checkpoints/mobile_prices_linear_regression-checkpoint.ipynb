{
 "cells": [
  {
   "cell_type": "markdown",
   "id": "029df730",
   "metadata": {
    "papermill": {
     "duration": 0.02985,
     "end_time": "2023-08-07T15:28:05.653506",
     "exception": false,
     "start_time": "2023-08-07T15:28:05.623656",
     "status": "completed"
    },
    "tags": []
   },
   "source": [
    "## Import the required libraries\n"
   ]
  },
  {
   "cell_type": "markdown",
   "id": "d97c6c7f",
   "metadata": {
    "papermill": {
     "duration": 0.026676,
     "end_time": "2023-08-07T15:28:05.707195",
     "exception": false,
     "start_time": "2023-08-07T15:28:05.680519",
     "status": "completed"
    },
    "tags": []
   },
   "source": [
    "The following required modules are pre-installed in the Skills Network Labs environment. However if you run this notebook commands in a different Jupyter environment (e.g. Watson Studio or Ananconda) you will need to install these libraries by removing the `#` sign before `!mamba` in the code cell below.\n"
   ]
  },
  {
   "cell_type": "code",
   "execution_count": 1,
   "id": "53a568b9",
   "metadata": {
    "execution": {
     "iopub.execute_input": "2023-08-07T15:28:05.761823Z",
     "iopub.status.busy": "2023-08-07T15:28:05.761321Z",
     "iopub.status.idle": "2023-08-07T15:28:05.767036Z",
     "shell.execute_reply": "2023-08-07T15:28:05.765985Z"
    },
    "papermill": {
     "duration": 0.037719,
     "end_time": "2023-08-07T15:28:05.771124",
     "exception": false,
     "start_time": "2023-08-07T15:28:05.733405",
     "status": "completed"
    },
    "tags": []
   },
   "outputs": [],
   "source": [
    "# All Libraries required for this lab are listed below. The libraries pre-installed on Skills Network Labs are commented.\n",
    "# !mamba install -qy pandas==1.3.4 numpy==1.21.4 seaborn==0.9.0 matplotlib==3.5.0 scikit-learn==0.20.1\n",
    "# Note: If your environment doesn't support \"!mamba install\", use \"!pip install\""
   ]
  },
  {
   "cell_type": "code",
   "execution_count": 2,
   "id": "5c40241d",
   "metadata": {
    "execution": {
     "iopub.execute_input": "2023-08-07T15:28:05.825629Z",
     "iopub.status.busy": "2023-08-07T15:28:05.825218Z",
     "iopub.status.idle": "2023-08-07T15:28:05.836712Z",
     "shell.execute_reply": "2023-08-07T15:28:05.835663Z"
    },
    "papermill": {
     "duration": 0.041438,
     "end_time": "2023-08-07T15:28:05.839106",
     "exception": false,
     "start_time": "2023-08-07T15:28:05.797668",
     "status": "completed"
    },
    "tags": []
   },
   "outputs": [],
   "source": [
    "import pandas as pd\n",
    "import numpy as np \n",
    "import matplotlib.pyplot as plt\n"
   ]
  },
  {
   "cell_type": "markdown",
   "id": "3509636a",
   "metadata": {
    "papermill": {
     "duration": 0.027065,
     "end_time": "2023-08-07T15:28:05.892956",
     "exception": false,
     "start_time": "2023-08-07T15:28:05.865891",
     "status": "completed"
    },
    "tags": []
   },
   "source": [
    "## Importing the Dataset\n"
   ]
  },
  {
   "cell_type": "markdown",
   "id": "f1d2be55",
   "metadata": {
    "papermill": {
     "duration": 0.026438,
     "end_time": "2023-08-07T15:28:05.945982",
     "exception": false,
     "start_time": "2023-08-07T15:28:05.919544",
     "status": "completed"
    },
    "tags": []
   },
   "source": [
    "Before you begin, you will need to choose a data set that you feel passionate about. You can brainstorm with your peers about great public data sets using the discussion board in this module.\n"
   ]
  },
  {
   "cell_type": "markdown",
   "id": "f082f797",
   "metadata": {
    "papermill": {
     "duration": 0.025869,
     "end_time": "2023-08-07T15:28:05.998269",
     "exception": false,
     "start_time": "2023-08-07T15:28:05.972400",
     "status": "completed"
    },
    "tags": []
   },
   "source": [
    "Read your chosen dataset into pandas dataframe:\n"
   ]
  },
  {
   "cell_type": "code",
   "execution_count": 3,
   "id": "94e8370d",
   "metadata": {
    "execution": {
     "iopub.execute_input": "2023-08-07T15:28:06.052425Z",
     "iopub.status.busy": "2023-08-07T15:28:06.051997Z",
     "iopub.status.idle": "2023-08-07T15:28:06.113449Z",
     "shell.execute_reply": "2023-08-07T15:28:06.112362Z"
    },
    "papermill": {
     "duration": 0.0913,
     "end_time": "2023-08-07T15:28:06.115645",
     "exception": false,
     "start_time": "2023-08-07T15:28:06.024345",
     "status": "completed"
    },
    "tags": []
   },
   "outputs": [
    {
     "data": {
      "text/html": [
       "<div>\n",
       "<style scoped>\n",
       "    .dataframe tbody tr th:only-of-type {\n",
       "        vertical-align: middle;\n",
       "    }\n",
       "\n",
       "    .dataframe tbody tr th {\n",
       "        vertical-align: top;\n",
       "    }\n",
       "\n",
       "    .dataframe thead th {\n",
       "        text-align: right;\n",
       "    }\n",
       "</style>\n",
       "<table border=\"1\" class=\"dataframe\">\n",
       "  <thead>\n",
       "    <tr style=\"text-align: right;\">\n",
       "      <th></th>\n",
       "      <th>Phone Name</th>\n",
       "      <th>Rating ?/5</th>\n",
       "      <th>Number of Ratings</th>\n",
       "      <th>RAM</th>\n",
       "      <th>ROM/Storage</th>\n",
       "      <th>Back/Rare Camera</th>\n",
       "      <th>Front Camera</th>\n",
       "      <th>Battery</th>\n",
       "      <th>Processor</th>\n",
       "      <th>Price in INR</th>\n",
       "      <th>Date of Scraping</th>\n",
       "    </tr>\n",
       "  </thead>\n",
       "  <tbody>\n",
       "    <tr>\n",
       "      <th>0</th>\n",
       "      <td>POCO C50 (Royal Blue, 32 GB)</td>\n",
       "      <td>4.2</td>\n",
       "      <td>33,561</td>\n",
       "      <td>2 GB RAM</td>\n",
       "      <td>32 GB ROM</td>\n",
       "      <td>8MP Dual Camera</td>\n",
       "      <td>5MP Front Camera</td>\n",
       "      <td>5000 mAh</td>\n",
       "      <td>Mediatek Helio A22 Processor, Upto 2.0 GHz Pro...</td>\n",
       "      <td>₹5,649</td>\n",
       "      <td>2023-06-17</td>\n",
       "    </tr>\n",
       "    <tr>\n",
       "      <th>1</th>\n",
       "      <td>POCO M4 5G (Cool Blue, 64 GB)</td>\n",
       "      <td>4.2</td>\n",
       "      <td>77,128</td>\n",
       "      <td>4 GB RAM</td>\n",
       "      <td>64 GB ROM</td>\n",
       "      <td>50MP + 2MP</td>\n",
       "      <td>8MP Front Camera</td>\n",
       "      <td>5000 mAh</td>\n",
       "      <td>Mediatek Dimensity 700 Processor</td>\n",
       "      <td>₹11,999</td>\n",
       "      <td>2023-06-17</td>\n",
       "    </tr>\n",
       "    <tr>\n",
       "      <th>2</th>\n",
       "      <td>POCO C51 (Royal Blue, 64 GB)</td>\n",
       "      <td>4.3</td>\n",
       "      <td>15,175</td>\n",
       "      <td>4 GB RAM</td>\n",
       "      <td>64 GB ROM</td>\n",
       "      <td>8MP Dual Rear Camera</td>\n",
       "      <td>5MP Front Camera</td>\n",
       "      <td>5000 mAh</td>\n",
       "      <td>Helio G36 Processor</td>\n",
       "      <td>₹6,999</td>\n",
       "      <td>2023-06-17</td>\n",
       "    </tr>\n",
       "    <tr>\n",
       "      <th>3</th>\n",
       "      <td>POCO C55 (Cool Blue, 64 GB)</td>\n",
       "      <td>4.2</td>\n",
       "      <td>22,621</td>\n",
       "      <td>4 GB RAM</td>\n",
       "      <td>64 GB ROM</td>\n",
       "      <td>50MP Dual Rear Camera</td>\n",
       "      <td>5MP Front Camera</td>\n",
       "      <td>5000 mAh</td>\n",
       "      <td>Mediatek Helio G85 Processor</td>\n",
       "      <td>₹7,749</td>\n",
       "      <td>2023-06-17</td>\n",
       "    </tr>\n",
       "    <tr>\n",
       "      <th>4</th>\n",
       "      <td>POCO C51 (Power Black, 64 GB)</td>\n",
       "      <td>4.3</td>\n",
       "      <td>15,175</td>\n",
       "      <td>4 GB RAM</td>\n",
       "      <td>64 GB ROM</td>\n",
       "      <td>8MP Dual Rear Camera</td>\n",
       "      <td>5MP Front Camera</td>\n",
       "      <td>5000 mAh</td>\n",
       "      <td>Helio G36 Processor</td>\n",
       "      <td>₹6,999</td>\n",
       "      <td>2023-06-17</td>\n",
       "    </tr>\n",
       "    <tr>\n",
       "      <th>5</th>\n",
       "      <td>POCO M4 5G (Power Black, 64 GB)</td>\n",
       "      <td>4.2</td>\n",
       "      <td>77,128</td>\n",
       "      <td>4 GB RAM</td>\n",
       "      <td>64 GB ROM</td>\n",
       "      <td>50MP + 2MP</td>\n",
       "      <td>8MP Front Camera</td>\n",
       "      <td>5000 mAh</td>\n",
       "      <td>Mediatek Dimensity 700 Processor</td>\n",
       "      <td>₹11,999</td>\n",
       "      <td>2023-06-17</td>\n",
       "    </tr>\n",
       "    <tr>\n",
       "      <th>6</th>\n",
       "      <td>POCO C55 (Power Black, 64 GB)</td>\n",
       "      <td>4.2</td>\n",
       "      <td>22,621</td>\n",
       "      <td>4 GB RAM</td>\n",
       "      <td>64 GB ROM</td>\n",
       "      <td>50MP Dual Rear Camera</td>\n",
       "      <td>5MP Front Camera</td>\n",
       "      <td>5000 mAh</td>\n",
       "      <td>Mediatek Helio G85 Processor</td>\n",
       "      <td>₹7,749</td>\n",
       "      <td>2023-06-17</td>\n",
       "    </tr>\n",
       "    <tr>\n",
       "      <th>7</th>\n",
       "      <td>POCO C55 (Forest Green, 64 GB)</td>\n",
       "      <td>4.2</td>\n",
       "      <td>22,621</td>\n",
       "      <td>4 GB RAM</td>\n",
       "      <td>64 GB ROM</td>\n",
       "      <td>50MP Dual Rear Camera</td>\n",
       "      <td>5MP Front Camera</td>\n",
       "      <td>5000 mAh</td>\n",
       "      <td>Mediatek Helio G85 Processor</td>\n",
       "      <td>₹7,749</td>\n",
       "      <td>2023-06-17</td>\n",
       "    </tr>\n",
       "    <tr>\n",
       "      <th>8</th>\n",
       "      <td>POCO C55 (Cool Blue, 128 GB)</td>\n",
       "      <td>4.1</td>\n",
       "      <td>13,647</td>\n",
       "      <td>6 GB RAM</td>\n",
       "      <td>128 GB ROM</td>\n",
       "      <td>50MP Dual Rear Camera</td>\n",
       "      <td>5MP Front Camera</td>\n",
       "      <td>5000 mAh</td>\n",
       "      <td>Mediatek Helio G85 Processor</td>\n",
       "      <td>₹9,249</td>\n",
       "      <td>2023-06-17</td>\n",
       "    </tr>\n",
       "    <tr>\n",
       "      <th>9</th>\n",
       "      <td>POCO M4 5G (Yellow, 128 GB)</td>\n",
       "      <td>4.2</td>\n",
       "      <td>40,525</td>\n",
       "      <td>6 GB RAM</td>\n",
       "      <td>128 GB ROM</td>\n",
       "      <td>50MP + 2MP</td>\n",
       "      <td>8MP Front Camera</td>\n",
       "      <td>5000 mAh</td>\n",
       "      <td>Mediatek Dimensity 700 Processor</td>\n",
       "      <td>₹13,999</td>\n",
       "      <td>2023-06-17</td>\n",
       "    </tr>\n",
       "  </tbody>\n",
       "</table>\n",
       "</div>"
      ],
      "text/plain": [
       "                        Phone Name  Rating ?/5 Number of Ratings       RAM  \\\n",
       "0     POCO C50 (Royal Blue, 32 GB)         4.2            33,561  2 GB RAM   \n",
       "1    POCO M4 5G (Cool Blue, 64 GB)         4.2            77,128  4 GB RAM   \n",
       "2     POCO C51 (Royal Blue, 64 GB)         4.3            15,175  4 GB RAM   \n",
       "3      POCO C55 (Cool Blue, 64 GB)         4.2            22,621  4 GB RAM   \n",
       "4    POCO C51 (Power Black, 64 GB)         4.3            15,175  4 GB RAM   \n",
       "5  POCO M4 5G (Power Black, 64 GB)         4.2            77,128  4 GB RAM   \n",
       "6    POCO C55 (Power Black, 64 GB)         4.2            22,621  4 GB RAM   \n",
       "7   POCO C55 (Forest Green, 64 GB)         4.2            22,621  4 GB RAM   \n",
       "8     POCO C55 (Cool Blue, 128 GB)         4.1            13,647  6 GB RAM   \n",
       "9      POCO M4 5G (Yellow, 128 GB)         4.2            40,525  6 GB RAM   \n",
       "\n",
       "  ROM/Storage       Back/Rare Camera      Front Camera   Battery  \\\n",
       "0   32 GB ROM        8MP Dual Camera  5MP Front Camera  5000 mAh   \n",
       "1   64 GB ROM             50MP + 2MP  8MP Front Camera  5000 mAh   \n",
       "2   64 GB ROM   8MP Dual Rear Camera  5MP Front Camera  5000 mAh   \n",
       "3   64 GB ROM  50MP Dual Rear Camera  5MP Front Camera  5000 mAh   \n",
       "4   64 GB ROM   8MP Dual Rear Camera  5MP Front Camera  5000 mAh   \n",
       "5   64 GB ROM             50MP + 2MP  8MP Front Camera  5000 mAh   \n",
       "6   64 GB ROM  50MP Dual Rear Camera  5MP Front Camera  5000 mAh   \n",
       "7   64 GB ROM  50MP Dual Rear Camera  5MP Front Camera  5000 mAh   \n",
       "8  128 GB ROM  50MP Dual Rear Camera  5MP Front Camera  5000 mAh   \n",
       "9  128 GB ROM             50MP + 2MP  8MP Front Camera  5000 mAh   \n",
       "\n",
       "                                           Processor Price in INR  \\\n",
       "0  Mediatek Helio A22 Processor, Upto 2.0 GHz Pro...       ₹5,649   \n",
       "1                   Mediatek Dimensity 700 Processor      ₹11,999   \n",
       "2                                Helio G36 Processor       ₹6,999   \n",
       "3                       Mediatek Helio G85 Processor       ₹7,749   \n",
       "4                                Helio G36 Processor       ₹6,999   \n",
       "5                   Mediatek Dimensity 700 Processor      ₹11,999   \n",
       "6                       Mediatek Helio G85 Processor       ₹7,749   \n",
       "7                       Mediatek Helio G85 Processor       ₹7,749   \n",
       "8                       Mediatek Helio G85 Processor       ₹9,249   \n",
       "9                   Mediatek Dimensity 700 Processor      ₹13,999   \n",
       "\n",
       "  Date of Scraping  \n",
       "0       2023-06-17  \n",
       "1       2023-06-17  \n",
       "2       2023-06-17  \n",
       "3       2023-06-17  \n",
       "4       2023-06-17  \n",
       "5       2023-06-17  \n",
       "6       2023-06-17  \n",
       "7       2023-06-17  \n",
       "8       2023-06-17  \n",
       "9       2023-06-17  "
      ]
     },
     "execution_count": 3,
     "metadata": {},
     "output_type": "execute_result"
    }
   ],
   "source": [
    "data = pd.read_csv('/kaggle/input/mobile-prices-2023/mobile_prices_2023.csv')\n",
    "data.head(10)"
   ]
  },
  {
   "cell_type": "markdown",
   "id": "1d62b16c",
   "metadata": {
    "papermill": {
     "duration": 0.026458,
     "end_time": "2023-08-07T15:28:06.169191",
     "exception": false,
     "start_time": "2023-08-07T15:28:06.142733",
     "status": "completed"
    },
    "tags": []
   },
   "source": [
    "# 1. About the Data\n"
   ]
  },
  {
   "cell_type": "code",
   "execution_count": 4,
   "id": "d0d7e255",
   "metadata": {
    "execution": {
     "iopub.execute_input": "2023-08-07T15:28:06.224638Z",
     "iopub.status.busy": "2023-08-07T15:28:06.223843Z",
     "iopub.status.idle": "2023-08-07T15:28:06.256493Z",
     "shell.execute_reply": "2023-08-07T15:28:06.255091Z"
    },
    "papermill": {
     "duration": 0.062583,
     "end_time": "2023-08-07T15:28:06.258650",
     "exception": false,
     "start_time": "2023-08-07T15:28:06.196067",
     "status": "completed"
    },
    "tags": []
   },
   "outputs": [
    {
     "name": "stdout",
     "output_type": "stream",
     "text": [
      "<class 'pandas.core.frame.DataFrame'>\n",
      "RangeIndex: 1836 entries, 0 to 1835\n",
      "Data columns (total 11 columns):\n",
      " #   Column             Non-Null Count  Dtype  \n",
      "---  ------             --------------  -----  \n",
      " 0   Phone Name         1836 non-null   object \n",
      " 1   Rating ?/5         1836 non-null   float64\n",
      " 2   Number of Ratings  1836 non-null   object \n",
      " 3   RAM                1836 non-null   object \n",
      " 4   ROM/Storage        1662 non-null   object \n",
      " 5   Back/Rare Camera   1827 non-null   object \n",
      " 6   Front Camera       1435 non-null   object \n",
      " 7   Battery            1826 non-null   object \n",
      " 8   Processor          1781 non-null   object \n",
      " 9   Price in INR       1836 non-null   object \n",
      " 10  Date of Scraping   1836 non-null   object \n",
      "dtypes: float64(1), object(10)\n",
      "memory usage: 157.9+ KB\n"
     ]
    }
   ],
   "source": [
    "mobile_data = data #copy the data \n",
    "mobile_data.info()"
   ]
  },
  {
   "cell_type": "code",
   "execution_count": 5,
   "id": "d6c2e547",
   "metadata": {
    "execution": {
     "iopub.execute_input": "2023-08-07T15:28:06.314429Z",
     "iopub.status.busy": "2023-08-07T15:28:06.313488Z",
     "iopub.status.idle": "2023-08-07T15:28:06.325147Z",
     "shell.execute_reply": "2023-08-07T15:28:06.324082Z"
    },
    "papermill": {
     "duration": 0.0419,
     "end_time": "2023-08-07T15:28:06.327457",
     "exception": false,
     "start_time": "2023-08-07T15:28:06.285557",
     "status": "completed"
    },
    "tags": []
   },
   "outputs": [
    {
     "data": {
      "text/plain": [
       "count       1836\n",
       "unique       519\n",
       "top       ₹9,999\n",
       "freq          47\n",
       "Name: Price in INR, dtype: object"
      ]
     },
     "execution_count": 5,
     "metadata": {},
     "output_type": "execute_result"
    }
   ],
   "source": [
    "mobile_data['Price in INR'].describe()"
   ]
  },
  {
   "cell_type": "code",
   "execution_count": 6,
   "id": "a5c2b834",
   "metadata": {
    "execution": {
     "iopub.execute_input": "2023-08-07T15:28:06.383686Z",
     "iopub.status.busy": "2023-08-07T15:28:06.382578Z",
     "iopub.status.idle": "2023-08-07T15:28:06.389074Z",
     "shell.execute_reply": "2023-08-07T15:28:06.388186Z"
    },
    "papermill": {
     "duration": 0.036669,
     "end_time": "2023-08-07T15:28:06.391169",
     "exception": false,
     "start_time": "2023-08-07T15:28:06.354500",
     "status": "completed"
    },
    "tags": []
   },
   "outputs": [
    {
     "data": {
      "text/plain": [
       "(1836, 11)"
      ]
     },
     "execution_count": 6,
     "metadata": {},
     "output_type": "execute_result"
    }
   ],
   "source": [
    "mobile_data.shape"
   ]
  },
  {
   "cell_type": "code",
   "execution_count": 7,
   "id": "0113ad87",
   "metadata": {
    "execution": {
     "iopub.execute_input": "2023-08-07T15:28:06.446920Z",
     "iopub.status.busy": "2023-08-07T15:28:06.446232Z",
     "iopub.status.idle": "2023-08-07T15:28:06.455088Z",
     "shell.execute_reply": "2023-08-07T15:28:06.453860Z"
    },
    "papermill": {
     "duration": 0.039194,
     "end_time": "2023-08-07T15:28:06.457351",
     "exception": false,
     "start_time": "2023-08-07T15:28:06.418157",
     "status": "completed"
    },
    "tags": []
   },
   "outputs": [
    {
     "data": {
      "text/plain": [
       "object     10\n",
       "float64     1\n",
       "dtype: int64"
      ]
     },
     "execution_count": 7,
     "metadata": {},
     "output_type": "execute_result"
    }
   ],
   "source": [
    "mobile_data.dtypes.value_counts()"
   ]
  },
  {
   "cell_type": "markdown",
   "id": "fe90e443",
   "metadata": {
    "papermill": {
     "duration": 0.026742,
     "end_time": "2023-08-07T15:28:06.511169",
     "exception": false,
     "start_time": "2023-08-07T15:28:06.484427",
     "status": "completed"
    },
    "tags": []
   },
   "source": [
    "# Data Cleaning Part \n",
    "\n"
   ]
  },
  {
   "cell_type": "markdown",
   "id": "406ac988",
   "metadata": {
    "papermill": {
     "duration": 0.02736,
     "end_time": "2023-08-07T15:28:06.565602",
     "exception": false,
     "start_time": "2023-08-07T15:28:06.538242",
     "status": "completed"
    },
    "tags": []
   },
   "source": [
    "## check for null values "
   ]
  },
  {
   "cell_type": "code",
   "execution_count": 8,
   "id": "b03042e2",
   "metadata": {
    "execution": {
     "iopub.execute_input": "2023-08-07T15:28:06.621640Z",
     "iopub.status.busy": "2023-08-07T15:28:06.621236Z",
     "iopub.status.idle": "2023-08-07T15:28:06.636638Z",
     "shell.execute_reply": "2023-08-07T15:28:06.635616Z"
    },
    "papermill": {
     "duration": 0.045933,
     "end_time": "2023-08-07T15:28:06.638861",
     "exception": false,
     "start_time": "2023-08-07T15:28:06.592928",
     "status": "completed"
    },
    "tags": []
   },
   "outputs": [
    {
     "data": {
      "text/plain": [
       "Phone Name             0\n",
       "Rating ?/5             0\n",
       "Number of Ratings      0\n",
       "RAM                    0\n",
       "ROM/Storage          174\n",
       "Back/Rare Camera       9\n",
       "Front Camera         401\n",
       "Battery               10\n",
       "Processor             55\n",
       "Price in INR           0\n",
       "Date of Scraping       0\n",
       "dtype: int64"
      ]
     },
     "execution_count": 8,
     "metadata": {},
     "output_type": "execute_result"
    }
   ],
   "source": [
    "mobile_data.isnull().sum()"
   ]
  },
  {
   "cell_type": "code",
   "execution_count": 9,
   "id": "1d1fd4b1",
   "metadata": {
    "execution": {
     "iopub.execute_input": "2023-08-07T15:28:06.697432Z",
     "iopub.status.busy": "2023-08-07T15:28:06.697021Z",
     "iopub.status.idle": "2023-08-07T15:28:06.709356Z",
     "shell.execute_reply": "2023-08-07T15:28:06.708596Z"
    },
    "papermill": {
     "duration": 0.043301,
     "end_time": "2023-08-07T15:28:06.711546",
     "exception": false,
     "start_time": "2023-08-07T15:28:06.668245",
     "status": "completed"
    },
    "tags": []
   },
   "outputs": [],
   "source": [
    "mobile_data=mobile_data.dropna()"
   ]
  },
  {
   "cell_type": "code",
   "execution_count": 10,
   "id": "2f80d4b6",
   "metadata": {
    "execution": {
     "iopub.execute_input": "2023-08-07T15:28:06.768890Z",
     "iopub.status.busy": "2023-08-07T15:28:06.768186Z",
     "iopub.status.idle": "2023-08-07T15:28:06.774777Z",
     "shell.execute_reply": "2023-08-07T15:28:06.773959Z"
    },
    "papermill": {
     "duration": 0.038113,
     "end_time": "2023-08-07T15:28:06.777125",
     "exception": false,
     "start_time": "2023-08-07T15:28:06.739012",
     "status": "completed"
    },
    "tags": []
   },
   "outputs": [
    {
     "data": {
      "text/plain": [
       "(1291, 11)"
      ]
     },
     "execution_count": 10,
     "metadata": {},
     "output_type": "execute_result"
    }
   ],
   "source": [
    "mobile_data.shape"
   ]
  },
  {
   "cell_type": "markdown",
   "id": "9700293f",
   "metadata": {
    "papermill": {
     "duration": 0.027045,
     "end_time": "2023-08-07T15:28:06.831941",
     "exception": false,
     "start_time": "2023-08-07T15:28:06.804896",
     "status": "completed"
    },
    "tags": []
   },
   "source": [
    "## Handling the Duplicates"
   ]
  },
  {
   "cell_type": "code",
   "execution_count": 11,
   "id": "1c17c22b",
   "metadata": {
    "execution": {
     "iopub.execute_input": "2023-08-07T15:28:06.889954Z",
     "iopub.status.busy": "2023-08-07T15:28:06.889197Z",
     "iopub.status.idle": "2023-08-07T15:28:06.895945Z",
     "shell.execute_reply": "2023-08-07T15:28:06.894854Z"
    },
    "papermill": {
     "duration": 0.038748,
     "end_time": "2023-08-07T15:28:06.898208",
     "exception": false,
     "start_time": "2023-08-07T15:28:06.859460",
     "status": "completed"
    },
    "tags": []
   },
   "outputs": [
    {
     "data": {
      "text/plain": [
       "True"
      ]
     },
     "execution_count": 11,
     "metadata": {},
     "output_type": "execute_result"
    }
   ],
   "source": [
    "mobile_data.index.is_unique"
   ]
  },
  {
   "cell_type": "markdown",
   "id": "f8e5dc84",
   "metadata": {
    "papermill": {
     "duration": 0.02742,
     "end_time": "2023-08-07T15:28:06.953249",
     "exception": false,
     "start_time": "2023-08-07T15:28:06.925829",
     "status": "completed"
    },
    "tags": []
   },
   "source": [
    "The index.is_unique value returns True that means there are no duplicates values in our mobile dataset "
   ]
  },
  {
   "cell_type": "code",
   "execution_count": 12,
   "id": "e80ea354",
   "metadata": {
    "execution": {
     "iopub.execute_input": "2023-08-07T15:28:07.010422Z",
     "iopub.status.busy": "2023-08-07T15:28:07.010027Z",
     "iopub.status.idle": "2023-08-07T15:28:07.030603Z",
     "shell.execute_reply": "2023-08-07T15:28:07.029515Z"
    },
    "papermill": {
     "duration": 0.05196,
     "end_time": "2023-08-07T15:28:07.033072",
     "exception": false,
     "start_time": "2023-08-07T15:28:06.981112",
     "status": "completed"
    },
    "tags": []
   },
   "outputs": [
    {
     "data": {
      "text/html": [
       "<div>\n",
       "<style scoped>\n",
       "    .dataframe tbody tr th:only-of-type {\n",
       "        vertical-align: middle;\n",
       "    }\n",
       "\n",
       "    .dataframe tbody tr th {\n",
       "        vertical-align: top;\n",
       "    }\n",
       "\n",
       "    .dataframe thead th {\n",
       "        text-align: right;\n",
       "    }\n",
       "</style>\n",
       "<table border=\"1\" class=\"dataframe\">\n",
       "  <thead>\n",
       "    <tr style=\"text-align: right;\">\n",
       "      <th></th>\n",
       "      <th>Phone Name</th>\n",
       "      <th>Rating ?/5</th>\n",
       "      <th>Number of Ratings</th>\n",
       "      <th>RAM</th>\n",
       "      <th>ROM/Storage</th>\n",
       "      <th>Back/Rare Camera</th>\n",
       "      <th>Front Camera</th>\n",
       "      <th>Battery</th>\n",
       "      <th>Processor</th>\n",
       "      <th>Price in INR</th>\n",
       "      <th>Date of Scraping</th>\n",
       "    </tr>\n",
       "  </thead>\n",
       "  <tbody>\n",
       "    <tr>\n",
       "      <th>0</th>\n",
       "      <td>POCO C50 (Royal Blue, 32 GB)</td>\n",
       "      <td>4.2</td>\n",
       "      <td>33,561</td>\n",
       "      <td>2 GB RAM</td>\n",
       "      <td>32 GB ROM</td>\n",
       "      <td>8MP Dual Camera</td>\n",
       "      <td>5MP Front Camera</td>\n",
       "      <td>5000 mAh</td>\n",
       "      <td>Mediatek Helio A22 Processor, Upto 2.0 GHz Pro...</td>\n",
       "      <td>₹5,649</td>\n",
       "      <td>2023-06-17</td>\n",
       "    </tr>\n",
       "    <tr>\n",
       "      <th>1</th>\n",
       "      <td>POCO M4 5G (Cool Blue, 64 GB)</td>\n",
       "      <td>4.2</td>\n",
       "      <td>77,128</td>\n",
       "      <td>4 GB RAM</td>\n",
       "      <td>64 GB ROM</td>\n",
       "      <td>50MP + 2MP</td>\n",
       "      <td>8MP Front Camera</td>\n",
       "      <td>5000 mAh</td>\n",
       "      <td>Mediatek Dimensity 700 Processor</td>\n",
       "      <td>₹11,999</td>\n",
       "      <td>2023-06-17</td>\n",
       "    </tr>\n",
       "    <tr>\n",
       "      <th>2</th>\n",
       "      <td>POCO C51 (Royal Blue, 64 GB)</td>\n",
       "      <td>4.3</td>\n",
       "      <td>15,175</td>\n",
       "      <td>4 GB RAM</td>\n",
       "      <td>64 GB ROM</td>\n",
       "      <td>8MP Dual Rear Camera</td>\n",
       "      <td>5MP Front Camera</td>\n",
       "      <td>5000 mAh</td>\n",
       "      <td>Helio G36 Processor</td>\n",
       "      <td>₹6,999</td>\n",
       "      <td>2023-06-17</td>\n",
       "    </tr>\n",
       "    <tr>\n",
       "      <th>3</th>\n",
       "      <td>POCO C55 (Cool Blue, 64 GB)</td>\n",
       "      <td>4.2</td>\n",
       "      <td>22,621</td>\n",
       "      <td>4 GB RAM</td>\n",
       "      <td>64 GB ROM</td>\n",
       "      <td>50MP Dual Rear Camera</td>\n",
       "      <td>5MP Front Camera</td>\n",
       "      <td>5000 mAh</td>\n",
       "      <td>Mediatek Helio G85 Processor</td>\n",
       "      <td>₹7,749</td>\n",
       "      <td>2023-06-17</td>\n",
       "    </tr>\n",
       "    <tr>\n",
       "      <th>4</th>\n",
       "      <td>POCO C51 (Power Black, 64 GB)</td>\n",
       "      <td>4.3</td>\n",
       "      <td>15,175</td>\n",
       "      <td>4 GB RAM</td>\n",
       "      <td>64 GB ROM</td>\n",
       "      <td>8MP Dual Rear Camera</td>\n",
       "      <td>5MP Front Camera</td>\n",
       "      <td>5000 mAh</td>\n",
       "      <td>Helio G36 Processor</td>\n",
       "      <td>₹6,999</td>\n",
       "      <td>2023-06-17</td>\n",
       "    </tr>\n",
       "    <tr>\n",
       "      <th>5</th>\n",
       "      <td>POCO M4 5G (Power Black, 64 GB)</td>\n",
       "      <td>4.2</td>\n",
       "      <td>77,128</td>\n",
       "      <td>4 GB RAM</td>\n",
       "      <td>64 GB ROM</td>\n",
       "      <td>50MP + 2MP</td>\n",
       "      <td>8MP Front Camera</td>\n",
       "      <td>5000 mAh</td>\n",
       "      <td>Mediatek Dimensity 700 Processor</td>\n",
       "      <td>₹11,999</td>\n",
       "      <td>2023-06-17</td>\n",
       "    </tr>\n",
       "    <tr>\n",
       "      <th>6</th>\n",
       "      <td>POCO C55 (Power Black, 64 GB)</td>\n",
       "      <td>4.2</td>\n",
       "      <td>22,621</td>\n",
       "      <td>4 GB RAM</td>\n",
       "      <td>64 GB ROM</td>\n",
       "      <td>50MP Dual Rear Camera</td>\n",
       "      <td>5MP Front Camera</td>\n",
       "      <td>5000 mAh</td>\n",
       "      <td>Mediatek Helio G85 Processor</td>\n",
       "      <td>₹7,749</td>\n",
       "      <td>2023-06-17</td>\n",
       "    </tr>\n",
       "    <tr>\n",
       "      <th>7</th>\n",
       "      <td>POCO C55 (Forest Green, 64 GB)</td>\n",
       "      <td>4.2</td>\n",
       "      <td>22,621</td>\n",
       "      <td>4 GB RAM</td>\n",
       "      <td>64 GB ROM</td>\n",
       "      <td>50MP Dual Rear Camera</td>\n",
       "      <td>5MP Front Camera</td>\n",
       "      <td>5000 mAh</td>\n",
       "      <td>Mediatek Helio G85 Processor</td>\n",
       "      <td>₹7,749</td>\n",
       "      <td>2023-06-17</td>\n",
       "    </tr>\n",
       "    <tr>\n",
       "      <th>8</th>\n",
       "      <td>POCO C55 (Cool Blue, 128 GB)</td>\n",
       "      <td>4.1</td>\n",
       "      <td>13,647</td>\n",
       "      <td>6 GB RAM</td>\n",
       "      <td>128 GB ROM</td>\n",
       "      <td>50MP Dual Rear Camera</td>\n",
       "      <td>5MP Front Camera</td>\n",
       "      <td>5000 mAh</td>\n",
       "      <td>Mediatek Helio G85 Processor</td>\n",
       "      <td>₹9,249</td>\n",
       "      <td>2023-06-17</td>\n",
       "    </tr>\n",
       "    <tr>\n",
       "      <th>9</th>\n",
       "      <td>POCO M4 5G (Yellow, 128 GB)</td>\n",
       "      <td>4.2</td>\n",
       "      <td>40,525</td>\n",
       "      <td>6 GB RAM</td>\n",
       "      <td>128 GB ROM</td>\n",
       "      <td>50MP + 2MP</td>\n",
       "      <td>8MP Front Camera</td>\n",
       "      <td>5000 mAh</td>\n",
       "      <td>Mediatek Dimensity 700 Processor</td>\n",
       "      <td>₹13,999</td>\n",
       "      <td>2023-06-17</td>\n",
       "    </tr>\n",
       "  </tbody>\n",
       "</table>\n",
       "</div>"
      ],
      "text/plain": [
       "                        Phone Name  Rating ?/5 Number of Ratings       RAM  \\\n",
       "0     POCO C50 (Royal Blue, 32 GB)         4.2            33,561  2 GB RAM   \n",
       "1    POCO M4 5G (Cool Blue, 64 GB)         4.2            77,128  4 GB RAM   \n",
       "2     POCO C51 (Royal Blue, 64 GB)         4.3            15,175  4 GB RAM   \n",
       "3      POCO C55 (Cool Blue, 64 GB)         4.2            22,621  4 GB RAM   \n",
       "4    POCO C51 (Power Black, 64 GB)         4.3            15,175  4 GB RAM   \n",
       "5  POCO M4 5G (Power Black, 64 GB)         4.2            77,128  4 GB RAM   \n",
       "6    POCO C55 (Power Black, 64 GB)         4.2            22,621  4 GB RAM   \n",
       "7   POCO C55 (Forest Green, 64 GB)         4.2            22,621  4 GB RAM   \n",
       "8     POCO C55 (Cool Blue, 128 GB)         4.1            13,647  6 GB RAM   \n",
       "9      POCO M4 5G (Yellow, 128 GB)         4.2            40,525  6 GB RAM   \n",
       "\n",
       "  ROM/Storage       Back/Rare Camera      Front Camera   Battery  \\\n",
       "0   32 GB ROM        8MP Dual Camera  5MP Front Camera  5000 mAh   \n",
       "1   64 GB ROM             50MP + 2MP  8MP Front Camera  5000 mAh   \n",
       "2   64 GB ROM   8MP Dual Rear Camera  5MP Front Camera  5000 mAh   \n",
       "3   64 GB ROM  50MP Dual Rear Camera  5MP Front Camera  5000 mAh   \n",
       "4   64 GB ROM   8MP Dual Rear Camera  5MP Front Camera  5000 mAh   \n",
       "5   64 GB ROM             50MP + 2MP  8MP Front Camera  5000 mAh   \n",
       "6   64 GB ROM  50MP Dual Rear Camera  5MP Front Camera  5000 mAh   \n",
       "7   64 GB ROM  50MP Dual Rear Camera  5MP Front Camera  5000 mAh   \n",
       "8  128 GB ROM  50MP Dual Rear Camera  5MP Front Camera  5000 mAh   \n",
       "9  128 GB ROM             50MP + 2MP  8MP Front Camera  5000 mAh   \n",
       "\n",
       "                                           Processor Price in INR  \\\n",
       "0  Mediatek Helio A22 Processor, Upto 2.0 GHz Pro...       ₹5,649   \n",
       "1                   Mediatek Dimensity 700 Processor      ₹11,999   \n",
       "2                                Helio G36 Processor       ₹6,999   \n",
       "3                       Mediatek Helio G85 Processor       ₹7,749   \n",
       "4                                Helio G36 Processor       ₹6,999   \n",
       "5                   Mediatek Dimensity 700 Processor      ₹11,999   \n",
       "6                       Mediatek Helio G85 Processor       ₹7,749   \n",
       "7                       Mediatek Helio G85 Processor       ₹7,749   \n",
       "8                       Mediatek Helio G85 Processor       ₹9,249   \n",
       "9                   Mediatek Dimensity 700 Processor      ₹13,999   \n",
       "\n",
       "  Date of Scraping  \n",
       "0       2023-06-17  \n",
       "1       2023-06-17  \n",
       "2       2023-06-17  \n",
       "3       2023-06-17  \n",
       "4       2023-06-17  \n",
       "5       2023-06-17  \n",
       "6       2023-06-17  \n",
       "7       2023-06-17  \n",
       "8       2023-06-17  \n",
       "9       2023-06-17  "
      ]
     },
     "execution_count": 12,
     "metadata": {},
     "output_type": "execute_result"
    }
   ],
   "source": [
    "mobile_data.head(10)"
   ]
  },
  {
   "cell_type": "code",
   "execution_count": 13,
   "id": "52c9bd98",
   "metadata": {
    "execution": {
     "iopub.execute_input": "2023-08-07T15:28:07.090907Z",
     "iopub.status.busy": "2023-08-07T15:28:07.090541Z",
     "iopub.status.idle": "2023-08-07T15:28:07.096651Z",
     "shell.execute_reply": "2023-08-07T15:28:07.095619Z"
    },
    "papermill": {
     "duration": 0.037317,
     "end_time": "2023-08-07T15:28:07.098614",
     "exception": false,
     "start_time": "2023-08-07T15:28:07.061297",
     "status": "completed"
    },
    "tags": []
   },
   "outputs": [],
   "source": [
    "X_data = mobile_data.drop('Price in INR', axis=1)\n",
    "y_data = mobile_data['Price in INR']"
   ]
  },
  {
   "cell_type": "code",
   "execution_count": 14,
   "id": "d83d89bb",
   "metadata": {
    "execution": {
     "iopub.execute_input": "2023-08-07T15:28:07.156609Z",
     "iopub.status.busy": "2023-08-07T15:28:07.155861Z",
     "iopub.status.idle": "2023-08-07T15:28:07.162920Z",
     "shell.execute_reply": "2023-08-07T15:28:07.161779Z"
    },
    "papermill": {
     "duration": 0.038232,
     "end_time": "2023-08-07T15:28:07.164955",
     "exception": false,
     "start_time": "2023-08-07T15:28:07.126723",
     "status": "completed"
    },
    "tags": []
   },
   "outputs": [
    {
     "data": {
      "text/plain": [
       "(1291, 10)"
      ]
     },
     "execution_count": 14,
     "metadata": {},
     "output_type": "execute_result"
    }
   ],
   "source": [
    "X_data.shape"
   ]
  },
  {
   "cell_type": "code",
   "execution_count": 15,
   "id": "3dd6ea54",
   "metadata": {
    "execution": {
     "iopub.execute_input": "2023-08-07T15:28:07.223619Z",
     "iopub.status.busy": "2023-08-07T15:28:07.222367Z",
     "iopub.status.idle": "2023-08-07T15:28:07.229183Z",
     "shell.execute_reply": "2023-08-07T15:28:07.228064Z"
    },
    "papermill": {
     "duration": 0.038505,
     "end_time": "2023-08-07T15:28:07.231525",
     "exception": false,
     "start_time": "2023-08-07T15:28:07.193020",
     "status": "completed"
    },
    "tags": []
   },
   "outputs": [
    {
     "data": {
      "text/plain": [
       "(1291,)"
      ]
     },
     "execution_count": 15,
     "metadata": {},
     "output_type": "execute_result"
    }
   ],
   "source": [
    "y_data.shape"
   ]
  },
  {
   "cell_type": "code",
   "execution_count": 16,
   "id": "539543f8",
   "metadata": {
    "execution": {
     "iopub.execute_input": "2023-08-07T15:28:07.290278Z",
     "iopub.status.busy": "2023-08-07T15:28:07.289085Z",
     "iopub.status.idle": "2023-08-07T15:28:07.296481Z",
     "shell.execute_reply": "2023-08-07T15:28:07.295502Z"
    },
    "papermill": {
     "duration": 0.038586,
     "end_time": "2023-08-07T15:28:07.298462",
     "exception": false,
     "start_time": "2023-08-07T15:28:07.259876",
     "status": "completed"
    },
    "tags": []
   },
   "outputs": [
    {
     "data": {
      "text/plain": [
       "dtype('O')"
      ]
     },
     "execution_count": 16,
     "metadata": {},
     "output_type": "execute_result"
    }
   ],
   "source": [
    "y_data.dtype"
   ]
  },
  {
   "cell_type": "markdown",
   "id": "2bb794e2",
   "metadata": {
    "papermill": {
     "duration": 0.028085,
     "end_time": "2023-08-07T15:28:07.354974",
     "exception": false,
     "start_time": "2023-08-07T15:28:07.326889",
     "status": "completed"
    },
    "tags": []
   },
   "source": [
    "## Transform y_data obj--> float"
   ]
  },
  {
   "cell_type": "code",
   "execution_count": 17,
   "id": "736911e1",
   "metadata": {
    "execution": {
     "iopub.execute_input": "2023-08-07T15:28:07.413974Z",
     "iopub.status.busy": "2023-08-07T15:28:07.413582Z",
     "iopub.status.idle": "2023-08-07T15:28:07.422471Z",
     "shell.execute_reply": "2023-08-07T15:28:07.421442Z"
    },
    "papermill": {
     "duration": 0.041075,
     "end_time": "2023-08-07T15:28:07.424765",
     "exception": false,
     "start_time": "2023-08-07T15:28:07.383690",
     "status": "completed"
    },
    "tags": []
   },
   "outputs": [
    {
     "data": {
      "text/plain": [
       "0        ₹5,649\n",
       "1       ₹11,999\n",
       "2        ₹6,999\n",
       "3        ₹7,749\n",
       "4        ₹6,999\n",
       "         ...   \n",
       "1831    ₹14,999\n",
       "1832    ₹14,999\n",
       "1833    ₹14,999\n",
       "1834    ₹18,999\n",
       "1835    ₹10,999\n",
       "Name: Price in INR, Length: 1291, dtype: object"
      ]
     },
     "execution_count": 17,
     "metadata": {},
     "output_type": "execute_result"
    }
   ],
   "source": [
    "mobile_data['Price in INR']"
   ]
  },
  {
   "cell_type": "code",
   "execution_count": 18,
   "id": "db47524a",
   "metadata": {
    "execution": {
     "iopub.execute_input": "2023-08-07T15:28:07.484311Z",
     "iopub.status.busy": "2023-08-07T15:28:07.483652Z",
     "iopub.status.idle": "2023-08-07T15:28:07.489064Z",
     "shell.execute_reply": "2023-08-07T15:28:07.488113Z"
    },
    "papermill": {
     "duration": 0.037687,
     "end_time": "2023-08-07T15:28:07.491300",
     "exception": false,
     "start_time": "2023-08-07T15:28:07.453613",
     "status": "completed"
    },
    "tags": []
   },
   "outputs": [],
   "source": [
    "def remove_rupee_sign(data):\n",
    "    return [item.replace('₹', '') for item in data]"
   ]
  },
  {
   "cell_type": "code",
   "execution_count": 19,
   "id": "f4743c6a",
   "metadata": {
    "execution": {
     "iopub.execute_input": "2023-08-07T15:28:07.550065Z",
     "iopub.status.busy": "2023-08-07T15:28:07.549638Z",
     "iopub.status.idle": "2023-08-07T15:28:07.555249Z",
     "shell.execute_reply": "2023-08-07T15:28:07.554255Z"
    },
    "papermill": {
     "duration": 0.037736,
     "end_time": "2023-08-07T15:28:07.557448",
     "exception": false,
     "start_time": "2023-08-07T15:28:07.519712",
     "status": "completed"
    },
    "tags": []
   },
   "outputs": [],
   "source": [
    "cleaned_data_set = remove_rupee_sign(mobile_data['Price in INR'])"
   ]
  },
  {
   "cell_type": "code",
   "execution_count": 20,
   "id": "09ea5a40",
   "metadata": {
    "execution": {
     "iopub.execute_input": "2023-08-07T15:28:07.617222Z",
     "iopub.status.busy": "2023-08-07T15:28:07.616826Z",
     "iopub.status.idle": "2023-08-07T15:28:07.626895Z",
     "shell.execute_reply": "2023-08-07T15:28:07.625841Z"
    },
    "papermill": {
     "duration": 0.042527,
     "end_time": "2023-08-07T15:28:07.629276",
     "exception": false,
     "start_time": "2023-08-07T15:28:07.586749",
     "status": "completed"
    },
    "tags": []
   },
   "outputs": [
    {
     "name": "stderr",
     "output_type": "stream",
     "text": [
      "/tmp/ipykernel_21/191916712.py:1: SettingWithCopyWarning: \n",
      "A value is trying to be set on a copy of a slice from a DataFrame.\n",
      "Try using .loc[row_indexer,col_indexer] = value instead\n",
      "\n",
      "See the caveats in the documentation: https://pandas.pydata.org/pandas-docs/stable/user_guide/indexing.html#returning-a-view-versus-a-copy\n",
      "  mobile_data['Price in INR']= cleaned_data_set\n"
     ]
    },
    {
     "data": {
      "text/plain": [
       "0        5,649\n",
       "1       11,999\n",
       "2        6,999\n",
       "3        7,749\n",
       "4        6,999\n",
       "         ...  \n",
       "1831    14,999\n",
       "1832    14,999\n",
       "1833    14,999\n",
       "1834    18,999\n",
       "1835    10,999\n",
       "Name: Price in INR, Length: 1291, dtype: object"
      ]
     },
     "execution_count": 20,
     "metadata": {},
     "output_type": "execute_result"
    }
   ],
   "source": [
    "mobile_data['Price in INR']= cleaned_data_set\n",
    "mobile_data['Price in INR']"
   ]
  },
  {
   "cell_type": "code",
   "execution_count": 21,
   "id": "e4770ced",
   "metadata": {
    "execution": {
     "iopub.execute_input": "2023-08-07T15:28:07.691748Z",
     "iopub.status.busy": "2023-08-07T15:28:07.691253Z",
     "iopub.status.idle": "2023-08-07T15:28:07.699738Z",
     "shell.execute_reply": "2023-08-07T15:28:07.698889Z"
    },
    "papermill": {
     "duration": 0.043352,
     "end_time": "2023-08-07T15:28:07.702171",
     "exception": false,
     "start_time": "2023-08-07T15:28:07.658819",
     "status": "completed"
    },
    "tags": []
   },
   "outputs": [
    {
     "name": "stderr",
     "output_type": "stream",
     "text": [
      "/tmp/ipykernel_21/3781029139.py:1: SettingWithCopyWarning: \n",
      "A value is trying to be set on a copy of a slice from a DataFrame.\n",
      "Try using .loc[row_indexer,col_indexer] = value instead\n",
      "\n",
      "See the caveats in the documentation: https://pandas.pydata.org/pandas-docs/stable/user_guide/indexing.html#returning-a-view-versus-a-copy\n",
      "  mobile_data['Price in INR'] = mobile_data['Price in INR'].str.replace(',', '').astype(float)\n"
     ]
    }
   ],
   "source": [
    "mobile_data['Price in INR'] = mobile_data['Price in INR'].str.replace(',', '').astype(float)"
   ]
  },
  {
   "cell_type": "code",
   "execution_count": 22,
   "id": "98ce841f",
   "metadata": {
    "execution": {
     "iopub.execute_input": "2023-08-07T15:28:07.763608Z",
     "iopub.status.busy": "2023-08-07T15:28:07.762544Z",
     "iopub.status.idle": "2023-08-07T15:28:07.771405Z",
     "shell.execute_reply": "2023-08-07T15:28:07.770612Z"
    },
    "papermill": {
     "duration": 0.041396,
     "end_time": "2023-08-07T15:28:07.773394",
     "exception": false,
     "start_time": "2023-08-07T15:28:07.731998",
     "status": "completed"
    },
    "tags": []
   },
   "outputs": [
    {
     "data": {
      "text/plain": [
       "0        5649.0\n",
       "1       11999.0\n",
       "2        6999.0\n",
       "3        7749.0\n",
       "4        6999.0\n",
       "         ...   \n",
       "1831    14999.0\n",
       "1832    14999.0\n",
       "1833    14999.0\n",
       "1834    18999.0\n",
       "1835    10999.0\n",
       "Name: Price in INR, Length: 1291, dtype: float64"
      ]
     },
     "execution_count": 22,
     "metadata": {},
     "output_type": "execute_result"
    }
   ],
   "source": [
    "mobile_data['Price in INR']"
   ]
  },
  {
   "cell_type": "code",
   "execution_count": 23,
   "id": "0f323c88",
   "metadata": {
    "execution": {
     "iopub.execute_input": "2023-08-07T15:28:07.834304Z",
     "iopub.status.busy": "2023-08-07T15:28:07.833891Z",
     "iopub.status.idle": "2023-08-07T15:28:07.838593Z",
     "shell.execute_reply": "2023-08-07T15:28:07.837567Z"
    },
    "papermill": {
     "duration": 0.038231,
     "end_time": "2023-08-07T15:28:07.841120",
     "exception": false,
     "start_time": "2023-08-07T15:28:07.802889",
     "status": "completed"
    },
    "tags": []
   },
   "outputs": [],
   "source": [
    "y_data = mobile_data['Price in INR']"
   ]
  },
  {
   "cell_type": "code",
   "execution_count": 24,
   "id": "8067df5f",
   "metadata": {
    "execution": {
     "iopub.execute_input": "2023-08-07T15:28:07.903887Z",
     "iopub.status.busy": "2023-08-07T15:28:07.903460Z",
     "iopub.status.idle": "2023-08-07T15:28:07.910783Z",
     "shell.execute_reply": "2023-08-07T15:28:07.909575Z"
    },
    "papermill": {
     "duration": 0.041649,
     "end_time": "2023-08-07T15:28:07.913131",
     "exception": false,
     "start_time": "2023-08-07T15:28:07.871482",
     "status": "completed"
    },
    "tags": []
   },
   "outputs": [
    {
     "data": {
      "text/plain": [
       "dtype('float64')"
      ]
     },
     "execution_count": 24,
     "metadata": {},
     "output_type": "execute_result"
    }
   ],
   "source": [
    "y_data.dtypes"
   ]
  },
  {
   "cell_type": "code",
   "execution_count": 25,
   "id": "2f0a76c4",
   "metadata": {
    "execution": {
     "iopub.execute_input": "2023-08-07T15:28:07.974408Z",
     "iopub.status.busy": "2023-08-07T15:28:07.973997Z",
     "iopub.status.idle": "2023-08-07T15:28:07.982103Z",
     "shell.execute_reply": "2023-08-07T15:28:07.981269Z"
    },
    "papermill": {
     "duration": 0.041007,
     "end_time": "2023-08-07T15:28:07.984114",
     "exception": false,
     "start_time": "2023-08-07T15:28:07.943107",
     "status": "completed"
    },
    "tags": []
   },
   "outputs": [
    {
     "data": {
      "text/plain": [
       "0     5649.0\n",
       "1    11999.0\n",
       "2     6999.0\n",
       "3     7749.0\n",
       "4     6999.0\n",
       "5    11999.0\n",
       "6     7749.0\n",
       "7     7749.0\n",
       "8     9249.0\n",
       "9    13999.0\n",
       "Name: Price in INR, dtype: float64"
      ]
     },
     "execution_count": 25,
     "metadata": {},
     "output_type": "execute_result"
    }
   ],
   "source": [
    "y_data[:10]"
   ]
  },
  {
   "cell_type": "markdown",
   "id": "0390d008",
   "metadata": {
    "papermill": {
     "duration": 0.029503,
     "end_time": "2023-08-07T15:28:08.044292",
     "exception": false,
     "start_time": "2023-08-07T15:28:08.014789",
     "status": "completed"
    },
    "tags": []
   },
   "source": [
    "# Label Encoding"
   ]
  },
  {
   "cell_type": "code",
   "execution_count": 26,
   "id": "aa13457c",
   "metadata": {
    "execution": {
     "iopub.execute_input": "2023-08-07T15:28:08.105294Z",
     "iopub.status.busy": "2023-08-07T15:28:08.104649Z",
     "iopub.status.idle": "2023-08-07T15:28:09.153831Z",
     "shell.execute_reply": "2023-08-07T15:28:09.153012Z"
    },
    "papermill": {
     "duration": 1.082322,
     "end_time": "2023-08-07T15:28:09.156292",
     "exception": false,
     "start_time": "2023-08-07T15:28:08.073970",
     "status": "completed"
    },
    "tags": []
   },
   "outputs": [
    {
     "name": "stderr",
     "output_type": "stream",
     "text": [
      "/opt/conda/lib/python3.10/site-packages/scipy/__init__.py:146: UserWarning: A NumPy version >=1.16.5 and <1.23.0 is required for this version of SciPy (detected version 1.23.5\n",
      "  warnings.warn(f\"A NumPy version >={np_minversion} and <{np_maxversion}\"\n"
     ]
    }
   ],
   "source": [
    "from sklearn.preprocessing import LabelEncoder"
   ]
  },
  {
   "cell_type": "code",
   "execution_count": 27,
   "id": "0f3a1b4e",
   "metadata": {
    "execution": {
     "iopub.execute_input": "2023-08-07T15:28:09.219185Z",
     "iopub.status.busy": "2023-08-07T15:28:09.218352Z",
     "iopub.status.idle": "2023-08-07T15:28:09.223413Z",
     "shell.execute_reply": "2023-08-07T15:28:09.222390Z"
    },
    "papermill": {
     "duration": 0.039235,
     "end_time": "2023-08-07T15:28:09.225817",
     "exception": false,
     "start_time": "2023-08-07T15:28:09.186582",
     "status": "completed"
    },
    "tags": []
   },
   "outputs": [],
   "source": [
    "lst=[\"Phone Name\",\"Rating ?/5\" ,\"Number of Ratings\",\"RAM\",\"ROM/Storage\",\"Back/Rare Camera\",\"Front Camera\" ,\"Battery\" ,\"Processor\" ,\"Date of Scraping\"]"
   ]
  },
  {
   "cell_type": "code",
   "execution_count": 28,
   "id": "0f0f4e12",
   "metadata": {
    "execution": {
     "iopub.execute_input": "2023-08-07T15:28:09.287639Z",
     "iopub.status.busy": "2023-08-07T15:28:09.286926Z",
     "iopub.status.idle": "2023-08-07T15:28:09.291266Z",
     "shell.execute_reply": "2023-08-07T15:28:09.290480Z"
    },
    "papermill": {
     "duration": 0.037718,
     "end_time": "2023-08-07T15:28:09.293418",
     "exception": false,
     "start_time": "2023-08-07T15:28:09.255700",
     "status": "completed"
    },
    "tags": []
   },
   "outputs": [],
   "source": [
    "le=LabelEncoder()"
   ]
  },
  {
   "cell_type": "code",
   "execution_count": 29,
   "id": "15cc9be3",
   "metadata": {
    "execution": {
     "iopub.execute_input": "2023-08-07T15:28:09.357141Z",
     "iopub.status.busy": "2023-08-07T15:28:09.356395Z",
     "iopub.status.idle": "2023-08-07T15:28:09.385418Z",
     "shell.execute_reply": "2023-08-07T15:28:09.384616Z"
    },
    "papermill": {
     "duration": 0.064082,
     "end_time": "2023-08-07T15:28:09.387479",
     "exception": false,
     "start_time": "2023-08-07T15:28:09.323397",
     "status": "completed"
    },
    "tags": []
   },
   "outputs": [
    {
     "data": {
      "text/html": [
       "<div>\n",
       "<style scoped>\n",
       "    .dataframe tbody tr th:only-of-type {\n",
       "        vertical-align: middle;\n",
       "    }\n",
       "\n",
       "    .dataframe tbody tr th {\n",
       "        vertical-align: top;\n",
       "    }\n",
       "\n",
       "    .dataframe thead th {\n",
       "        text-align: right;\n",
       "    }\n",
       "</style>\n",
       "<table border=\"1\" class=\"dataframe\">\n",
       "  <thead>\n",
       "    <tr style=\"text-align: right;\">\n",
       "      <th></th>\n",
       "      <th>Phone Name</th>\n",
       "      <th>Rating ?/5</th>\n",
       "      <th>Number of Ratings</th>\n",
       "      <th>RAM</th>\n",
       "      <th>ROM/Storage</th>\n",
       "      <th>Back/Rare Camera</th>\n",
       "      <th>Front Camera</th>\n",
       "      <th>Battery</th>\n",
       "      <th>Processor</th>\n",
       "      <th>Date of Scraping</th>\n",
       "    </tr>\n",
       "  </thead>\n",
       "  <tbody>\n",
       "    <tr>\n",
       "      <th>0</th>\n",
       "      <td>450</td>\n",
       "      <td>8</td>\n",
       "      <td>318</td>\n",
       "      <td>4</td>\n",
       "      <td>4</td>\n",
       "      <td>144</td>\n",
       "      <td>26</td>\n",
       "      <td>65</td>\n",
       "      <td>116</td>\n",
       "      <td>0</td>\n",
       "    </tr>\n",
       "    <tr>\n",
       "      <th>1</th>\n",
       "      <td>493</td>\n",
       "      <td>8</td>\n",
       "      <td>481</td>\n",
       "      <td>6</td>\n",
       "      <td>7</td>\n",
       "      <td>99</td>\n",
       "      <td>31</td>\n",
       "      <td>65</td>\n",
       "      <td>102</td>\n",
       "      <td>0</td>\n",
       "    </tr>\n",
       "    <tr>\n",
       "      <th>2</th>\n",
       "      <td>452</td>\n",
       "      <td>9</td>\n",
       "      <td>140</td>\n",
       "      <td>6</td>\n",
       "      <td>7</td>\n",
       "      <td>145</td>\n",
       "      <td>26</td>\n",
       "      <td>65</td>\n",
       "      <td>40</td>\n",
       "      <td>0</td>\n",
       "    </tr>\n",
       "    <tr>\n",
       "      <th>3</th>\n",
       "      <td>454</td>\n",
       "      <td>8</td>\n",
       "      <td>227</td>\n",
       "      <td>6</td>\n",
       "      <td>7</td>\n",
       "      <td>118</td>\n",
       "      <td>26</td>\n",
       "      <td>65</td>\n",
       "      <td>122</td>\n",
       "      <td>0</td>\n",
       "    </tr>\n",
       "    <tr>\n",
       "      <th>4</th>\n",
       "      <td>451</td>\n",
       "      <td>9</td>\n",
       "      <td>140</td>\n",
       "      <td>6</td>\n",
       "      <td>7</td>\n",
       "      <td>145</td>\n",
       "      <td>26</td>\n",
       "      <td>65</td>\n",
       "      <td>40</td>\n",
       "      <td>0</td>\n",
       "    </tr>\n",
       "    <tr>\n",
       "      <th>...</th>\n",
       "      <td>...</td>\n",
       "      <td>...</td>\n",
       "      <td>...</td>\n",
       "      <td>...</td>\n",
       "      <td>...</td>\n",
       "      <td>...</td>\n",
       "      <td>...</td>\n",
       "      <td>...</td>\n",
       "      <td>...</td>\n",
       "      <td>...</td>\n",
       "    </tr>\n",
       "    <tr>\n",
       "      <th>1831</th>\n",
       "      <td>112</td>\n",
       "      <td>9</td>\n",
       "      <td>241</td>\n",
       "      <td>6</td>\n",
       "      <td>7</td>\n",
       "      <td>69</td>\n",
       "      <td>12</td>\n",
       "      <td>65</td>\n",
       "      <td>75</td>\n",
       "      <td>0</td>\n",
       "    </tr>\n",
       "    <tr>\n",
       "      <th>1832</th>\n",
       "      <td>111</td>\n",
       "      <td>9</td>\n",
       "      <td>241</td>\n",
       "      <td>6</td>\n",
       "      <td>7</td>\n",
       "      <td>69</td>\n",
       "      <td>12</td>\n",
       "      <td>65</td>\n",
       "      <td>75</td>\n",
       "      <td>0</td>\n",
       "    </tr>\n",
       "    <tr>\n",
       "      <th>1833</th>\n",
       "      <td>110</td>\n",
       "      <td>9</td>\n",
       "      <td>241</td>\n",
       "      <td>6</td>\n",
       "      <td>7</td>\n",
       "      <td>69</td>\n",
       "      <td>12</td>\n",
       "      <td>65</td>\n",
       "      <td>75</td>\n",
       "      <td>0</td>\n",
       "    </tr>\n",
       "    <tr>\n",
       "      <th>1834</th>\n",
       "      <td>151</td>\n",
       "      <td>8</td>\n",
       "      <td>460</td>\n",
       "      <td>9</td>\n",
       "      <td>1</td>\n",
       "      <td>77</td>\n",
       "      <td>10</td>\n",
       "      <td>51</td>\n",
       "      <td>80</td>\n",
       "      <td>0</td>\n",
       "    </tr>\n",
       "    <tr>\n",
       "      <th>1835</th>\n",
       "      <td>113</td>\n",
       "      <td>9</td>\n",
       "      <td>143</td>\n",
       "      <td>6</td>\n",
       "      <td>7</td>\n",
       "      <td>50</td>\n",
       "      <td>20</td>\n",
       "      <td>32</td>\n",
       "      <td>43</td>\n",
       "      <td>0</td>\n",
       "    </tr>\n",
       "  </tbody>\n",
       "</table>\n",
       "<p>1291 rows × 10 columns</p>\n",
       "</div>"
      ],
      "text/plain": [
       "      Phone Name  Rating ?/5  Number of Ratings  RAM  ROM/Storage  \\\n",
       "0            450           8                318    4            4   \n",
       "1            493           8                481    6            7   \n",
       "2            452           9                140    6            7   \n",
       "3            454           8                227    6            7   \n",
       "4            451           9                140    6            7   \n",
       "...          ...         ...                ...  ...          ...   \n",
       "1831         112           9                241    6            7   \n",
       "1832         111           9                241    6            7   \n",
       "1833         110           9                241    6            7   \n",
       "1834         151           8                460    9            1   \n",
       "1835         113           9                143    6            7   \n",
       "\n",
       "      Back/Rare Camera  Front Camera  Battery  Processor  Date of Scraping  \n",
       "0                  144            26       65        116                 0  \n",
       "1                   99            31       65        102                 0  \n",
       "2                  145            26       65         40                 0  \n",
       "3                  118            26       65        122                 0  \n",
       "4                  145            26       65         40                 0  \n",
       "...                ...           ...      ...        ...               ...  \n",
       "1831                69            12       65         75                 0  \n",
       "1832                69            12       65         75                 0  \n",
       "1833                69            12       65         75                 0  \n",
       "1834                77            10       51         80                 0  \n",
       "1835                50            20       32         43                 0  \n",
       "\n",
       "[1291 rows x 10 columns]"
      ]
     },
     "execution_count": 29,
     "metadata": {},
     "output_type": "execute_result"
    }
   ],
   "source": [
    "for i in lst:\n",
    "    X_data[i]=le.fit_transform(X_data[i])\n",
    "X_data"
   ]
  },
  {
   "cell_type": "markdown",
   "id": "0bebc1fc",
   "metadata": {
    "papermill": {
     "duration": 0.030089,
     "end_time": "2023-08-07T15:28:09.448177",
     "exception": false,
     "start_time": "2023-08-07T15:28:09.418088",
     "status": "completed"
    },
    "tags": []
   },
   "source": [
    "# Determining Normality\n"
   ]
  },
  {
   "cell_type": "code",
   "execution_count": 30,
   "id": "9c7232d0",
   "metadata": {
    "execution": {
     "iopub.execute_input": "2023-08-07T15:28:09.510312Z",
     "iopub.status.busy": "2023-08-07T15:28:09.509624Z",
     "iopub.status.idle": "2023-08-07T15:28:09.513847Z",
     "shell.execute_reply": "2023-08-07T15:28:09.513105Z"
    },
    "papermill": {
     "duration": 0.037763,
     "end_time": "2023-08-07T15:28:09.516202",
     "exception": false,
     "start_time": "2023-08-07T15:28:09.478439",
     "status": "completed"
    },
    "tags": []
   },
   "outputs": [],
   "source": [
    "from scipy.stats.mstats import normaltest"
   ]
  },
  {
   "cell_type": "code",
   "execution_count": 31,
   "id": "9fa2b88a",
   "metadata": {
    "execution": {
     "iopub.execute_input": "2023-08-07T15:28:09.578664Z",
     "iopub.status.busy": "2023-08-07T15:28:09.577676Z",
     "iopub.status.idle": "2023-08-07T15:28:09.943781Z",
     "shell.execute_reply": "2023-08-07T15:28:09.942591Z"
    },
    "papermill": {
     "duration": 0.399779,
     "end_time": "2023-08-07T15:28:09.946010",
     "exception": false,
     "start_time": "2023-08-07T15:28:09.546231",
     "status": "completed"
    },
    "tags": []
   },
   "outputs": [
    {
     "data": {
      "text/plain": [
       "<Axes: >"
      ]
     },
     "execution_count": 31,
     "metadata": {},
     "output_type": "execute_result"
    },
    {
     "data": {
      "image/png": "[encoded data removed]",
      "text/plain": [
       "<Figure size 640x480 with 1 Axes>"
      ]
     },
     "metadata": {},
     "output_type": "display_data"
    }
   ],
   "source": [
    "y_data.hist()"
   ]
  },
  {
   "cell_type": "code",
   "execution_count": 32,
   "id": "440bd362",
   "metadata": {
    "execution": {
     "iopub.execute_input": "2023-08-07T15:28:10.009556Z",
     "iopub.status.busy": "2023-08-07T15:28:10.009157Z",
     "iopub.status.idle": "2023-08-07T15:28:10.021751Z",
     "shell.execute_reply": "2023-08-07T15:28:10.020733Z"
    },
    "papermill": {
     "duration": 0.046742,
     "end_time": "2023-08-07T15:28:10.023777",
     "exception": false,
     "start_time": "2023-08-07T15:28:09.977035",
     "status": "completed"
    },
    "tags": []
   },
   "outputs": [
    {
     "data": {
      "text/plain": [
       "NormaltestResult(statistic=938.1332742111816, pvalue=1.9361894978680232e-204)"
      ]
     },
     "execution_count": 32,
     "metadata": {},
     "output_type": "execute_result"
    }
   ],
   "source": [
    "normaltest(y_data)"
   ]
  },
  {
   "cell_type": "markdown",
   "id": "9d407de2",
   "metadata": {
    "papermill": {
     "duration": 0.03107,
     "end_time": "2023-08-07T15:28:10.086670",
     "exception": false,
     "start_time": "2023-08-07T15:28:10.055600",
     "status": "completed"
    },
    "tags": []
   },
   "source": [
    "p-value extremely low. Frequentist statisticians would say that you accept that the distribution is normal (more specifically: fail to reject the null hypothesis that it is normal) if p > 0.05.\n",
    "\n",
    "Linear Regression assumes a normally distributed residuals which can be aided by transforming y variable. Let's try some common transformations to try and get y to be normally distributed:\n"
   ]
  },
  {
   "cell_type": "markdown",
   "id": "ff0bec28",
   "metadata": {
    "papermill": {
     "duration": 0.030622,
     "end_time": "2023-08-07T15:28:10.148226",
     "exception": false,
     "start_time": "2023-08-07T15:28:10.117604",
     "status": "completed"
    },
    "tags": []
   },
   "source": [
    "### Testing Log transformation "
   ]
  },
  {
   "cell_type": "code",
   "execution_count": 33,
   "id": "a3e311fa",
   "metadata": {
    "execution": {
     "iopub.execute_input": "2023-08-07T15:28:10.210989Z",
     "iopub.status.busy": "2023-08-07T15:28:10.210563Z",
     "iopub.status.idle": "2023-08-07T15:28:10.215847Z",
     "shell.execute_reply": "2023-08-07T15:28:10.214825Z"
    },
    "papermill": {
     "duration": 0.039046,
     "end_time": "2023-08-07T15:28:10.218110",
     "exception": false,
     "start_time": "2023-08-07T15:28:10.179064",
     "status": "completed"
    },
    "tags": []
   },
   "outputs": [],
   "source": [
    "log_price = np.log(y_data)"
   ]
  },
  {
   "cell_type": "code",
   "execution_count": 34,
   "id": "ce228064",
   "metadata": {
    "execution": {
     "iopub.execute_input": "2023-08-07T15:28:10.280708Z",
     "iopub.status.busy": "2023-08-07T15:28:10.280338Z",
     "iopub.status.idle": "2023-08-07T15:28:10.617772Z",
     "shell.execute_reply": "2023-08-07T15:28:10.616624Z"
    },
    "papermill": {
     "duration": 0.371614,
     "end_time": "2023-08-07T15:28:10.620219",
     "exception": false,
     "start_time": "2023-08-07T15:28:10.248605",
     "status": "completed"
    },
    "tags": []
   },
   "outputs": [
    {
     "data": {
      "text/plain": [
       "<Axes: >"
      ]
     },
     "execution_count": 34,
     "metadata": {},
     "output_type": "execute_result"
    },
    {
     "data": {
      "image/png": "[encoded data removed]",
      "text/plain": [
       "<Figure size 640x480 with 1 Axes>"
      ]
     },
     "metadata": {},
     "output_type": "display_data"
    }
   ],
   "source": [
    "log_price.hist()"
   ]
  },
  {
   "cell_type": "code",
   "execution_count": 35,
   "id": "b7c7d43c",
   "metadata": {
    "execution": {
     "iopub.execute_input": "2023-08-07T15:28:10.687012Z",
     "iopub.status.busy": "2023-08-07T15:28:10.686227Z",
     "iopub.status.idle": "2023-08-07T15:28:10.700522Z",
     "shell.execute_reply": "2023-08-07T15:28:10.699268Z"
    },
    "papermill": {
     "duration": 0.051117,
     "end_time": "2023-08-07T15:28:10.702915",
     "exception": false,
     "start_time": "2023-08-07T15:28:10.651798",
     "status": "completed"
    },
    "tags": []
   },
   "outputs": [
    {
     "data": {
      "text/plain": [
       "NormaltestResult(statistic=76.70745025160653, pvalue=2.2038844336558304e-17)"
      ]
     },
     "execution_count": 35,
     "metadata": {},
     "output_type": "execute_result"
    }
   ],
   "source": [
    "log_t_pvalue =normaltest(log_price)\n",
    "log_t_pvalue"
   ]
  },
  {
   "cell_type": "markdown",
   "id": "7d6f0f0f",
   "metadata": {
    "papermill": {
     "duration": 0.030991,
     "end_time": "2023-08-07T15:28:10.766260",
     "exception": false,
     "start_time": "2023-08-07T15:28:10.735269",
     "status": "completed"
    },
    "tags": []
   },
   "source": [
    "### Testing Square root transformation"
   ]
  },
  {
   "cell_type": "code",
   "execution_count": 36,
   "id": "45e42a7c",
   "metadata": {
    "execution": {
     "iopub.execute_input": "2023-08-07T15:28:10.831676Z",
     "iopub.status.busy": "2023-08-07T15:28:10.830601Z",
     "iopub.status.idle": "2023-08-07T15:28:10.836768Z",
     "shell.execute_reply": "2023-08-07T15:28:10.835510Z"
    },
    "papermill": {
     "duration": 0.041207,
     "end_time": "2023-08-07T15:28:10.838985",
     "exception": false,
     "start_time": "2023-08-07T15:28:10.797778",
     "status": "completed"
    },
    "tags": []
   },
   "outputs": [],
   "source": [
    "sqrt_price = np.sqrt(y_data)"
   ]
  },
  {
   "cell_type": "code",
   "execution_count": 37,
   "id": "79d9466b",
   "metadata": {
    "execution": {
     "iopub.execute_input": "2023-08-07T15:28:10.905082Z",
     "iopub.status.busy": "2023-08-07T15:28:10.904647Z",
     "iopub.status.idle": "2023-08-07T15:28:11.194269Z",
     "shell.execute_reply": "2023-08-07T15:28:11.193376Z"
    },
    "papermill": {
     "duration": 0.32587,
     "end_time": "2023-08-07T15:28:11.196383",
     "exception": false,
     "start_time": "2023-08-07T15:28:10.870513",
     "status": "completed"
    },
    "tags": []
   },
   "outputs": [
    {
     "data": {
      "text/plain": [
       "<Axes: >"
      ]
     },
     "execution_count": 37,
     "metadata": {},
     "output_type": "execute_result"
    },
    {
     "data": {
      "image/png": "[encoded data removed]",
      "text/plain": [
       "<Figure size 640x480 with 1 Axes>"
      ]
     },
     "metadata": {},
     "output_type": "display_data"
    }
   ],
   "source": [
    "sqrt_price.hist()"
   ]
  },
  {
   "cell_type": "code",
   "execution_count": 38,
   "id": "c9d8931e",
   "metadata": {
    "execution": {
     "iopub.execute_input": "2023-08-07T15:28:11.261717Z",
     "iopub.status.busy": "2023-08-07T15:28:11.261012Z",
     "iopub.status.idle": "2023-08-07T15:28:11.271334Z",
     "shell.execute_reply": "2023-08-07T15:28:11.270305Z"
    },
    "papermill": {
     "duration": 0.045327,
     "end_time": "2023-08-07T15:28:11.273459",
     "exception": false,
     "start_time": "2023-08-07T15:28:11.228132",
     "status": "completed"
    },
    "tags": []
   },
   "outputs": [
    {
     "data": {
      "text/plain": [
       "NormaltestResult(statistic=451.6857481127224, pvalue=8.273438065634487e-99)"
      ]
     },
     "execution_count": 38,
     "metadata": {},
     "output_type": "execute_result"
    }
   ],
   "source": [
    "normaltest(sqrt_price)"
   ]
  },
  {
   "cell_type": "markdown",
   "id": "54ac62b9",
   "metadata": {
    "papermill": {
     "duration": 0.031335,
     "end_time": "2023-08-07T15:28:11.336542",
     "exception": false,
     "start_time": "2023-08-07T15:28:11.305207",
     "status": "completed"
    },
    "tags": []
   },
   "source": [
    "### Box Cox\n"
   ]
  },
  {
   "cell_type": "code",
   "execution_count": 39,
   "id": "f1ab3d4a",
   "metadata": {
    "execution": {
     "iopub.execute_input": "2023-08-07T15:28:11.401273Z",
     "iopub.status.busy": "2023-08-07T15:28:11.400687Z",
     "iopub.status.idle": "2023-08-07T15:28:11.405733Z",
     "shell.execute_reply": "2023-08-07T15:28:11.404895Z"
    },
    "papermill": {
     "duration": 0.03959,
     "end_time": "2023-08-07T15:28:11.407898",
     "exception": false,
     "start_time": "2023-08-07T15:28:11.368308",
     "status": "completed"
    },
    "tags": []
   },
   "outputs": [],
   "source": [
    "from scipy.stats import boxcox"
   ]
  },
  {
   "cell_type": "code",
   "execution_count": 40,
   "id": "f28c8fcd",
   "metadata": {
    "execution": {
     "iopub.execute_input": "2023-08-07T15:28:11.474977Z",
     "iopub.status.busy": "2023-08-07T15:28:11.473711Z",
     "iopub.status.idle": "2023-08-07T15:28:11.482603Z",
     "shell.execute_reply": "2023-08-07T15:28:11.481691Z"
    },
    "papermill": {
     "duration": 0.044822,
     "end_time": "2023-08-07T15:28:11.484970",
     "exception": false,
     "start_time": "2023-08-07T15:28:11.440148",
     "status": "completed"
    },
    "tags": []
   },
   "outputs": [],
   "source": [
    "boxcx = boxcox(y_data)\n",
    "bxcx_price= boxcx[0]\n",
    "lam = boxcx[1]"
   ]
  },
  {
   "cell_type": "code",
   "execution_count": 41,
   "id": "b9b3b43e",
   "metadata": {
    "execution": {
     "iopub.execute_input": "2023-08-07T15:28:11.551675Z",
     "iopub.status.busy": "2023-08-07T15:28:11.550375Z",
     "iopub.status.idle": "2023-08-07T15:28:11.862500Z",
     "shell.execute_reply": "2023-08-07T15:28:11.861251Z"
    },
    "papermill": {
     "duration": 0.348123,
     "end_time": "2023-08-07T15:28:11.864973",
     "exception": false,
     "start_time": "2023-08-07T15:28:11.516850",
     "status": "completed"
    },
    "tags": []
   },
   "outputs": [
    {
     "data": {
      "text/plain": [
       "(array([  2.,   1.,   1.,  44., 176., 315., 401., 225., 103.,  23.]),\n",
       " array([2.81367114, 2.83121414, 2.84875715, 2.86630015, 2.88384316,\n",
       "        2.90138617, 2.91892917, 2.93647218, 2.95401519, 2.97155819,\n",
       "        2.9891012 ]),\n",
       " <BarContainer object of 10 artists>)"
      ]
     },
     "execution_count": 41,
     "metadata": {},
     "output_type": "execute_result"
    },
    {
     "data": {
      "image/png": "[encoded data removed]",
      "text/plain": [
       "<Figure size 640x480 with 1 Axes>"
      ]
     },
     "metadata": {},
     "output_type": "display_data"
    }
   ],
   "source": [
    "plt.hist(bxcx_price)"
   ]
  },
  {
   "cell_type": "code",
   "execution_count": 42,
   "id": "fa7f70f0",
   "metadata": {
    "execution": {
     "iopub.execute_input": "2023-08-07T15:28:11.934348Z",
     "iopub.status.busy": "2023-08-07T15:28:11.933922Z",
     "iopub.status.idle": "2023-08-07T15:28:11.946693Z",
     "shell.execute_reply": "2023-08-07T15:28:11.945484Z"
    },
    "papermill": {
     "duration": 0.050382,
     "end_time": "2023-08-07T15:28:11.949286",
     "exception": false,
     "start_time": "2023-08-07T15:28:11.898904",
     "status": "completed"
    },
    "tags": []
   },
   "outputs": [
    {
     "data": {
      "text/plain": [
       "NormaltestResult(statistic=2.7419156530561306, pvalue=0.2538636856916525)"
      ]
     },
     "execution_count": 42,
     "metadata": {},
     "output_type": "execute_result"
    }
   ],
   "source": [
    "normaltest(bxcx_price)"
   ]
  },
  {
   "cell_type": "code",
   "execution_count": null,
   "id": "1b9844f5",
   "metadata": {
    "papermill": {
     "duration": 0.033114,
     "end_time": "2023-08-07T15:28:12.016457",
     "exception": false,
     "start_time": "2023-08-07T15:28:11.983343",
     "status": "completed"
    },
    "tags": []
   },
   "outputs": [],
   "source": []
  },
  {
   "cell_type": "markdown",
   "id": "255f5210",
   "metadata": {
    "papermill": {
     "duration": 0.03299,
     "end_time": "2023-08-07T15:28:12.082137",
     "exception": false,
     "start_time": "2023-08-07T15:28:12.049147",
     "status": "completed"
    },
    "tags": []
   },
   "source": [
    "# Data Splitting\n"
   ]
  },
  {
   "cell_type": "code",
   "execution_count": 43,
   "id": "32747a72",
   "metadata": {
    "execution": {
     "iopub.execute_input": "2023-08-07T15:28:12.149024Z",
     "iopub.status.busy": "2023-08-07T15:28:12.148384Z",
     "iopub.status.idle": "2023-08-07T15:28:12.252880Z",
     "shell.execute_reply": "2023-08-07T15:28:12.251405Z"
    },
    "papermill": {
     "duration": 0.140947,
     "end_time": "2023-08-07T15:28:12.255512",
     "exception": false,
     "start_time": "2023-08-07T15:28:12.114565",
     "status": "completed"
    },
    "tags": []
   },
   "outputs": [],
   "source": [
    "from sklearn.model_selection import train_test_split"
   ]
  },
  {
   "cell_type": "code",
   "execution_count": 44,
   "id": "05aaf832",
   "metadata": {
    "execution": {
     "iopub.execute_input": "2023-08-07T15:28:12.322490Z",
     "iopub.status.busy": "2023-08-07T15:28:12.322104Z",
     "iopub.status.idle": "2023-08-07T15:28:12.332650Z",
     "shell.execute_reply": "2023-08-07T15:28:12.331571Z"
    },
    "papermill": {
     "duration": 0.046402,
     "end_time": "2023-08-07T15:28:12.334932",
     "exception": false,
     "start_time": "2023-08-07T15:28:12.288530",
     "status": "completed"
    },
    "tags": []
   },
   "outputs": [],
   "source": [
    "X_train , X_test, y_train , y_test = train_test_split(X_data, y_data, test_size =0.3 , random_state = 42)"
   ]
  },
  {
   "cell_type": "code",
   "execution_count": 45,
   "id": "8465ccc7",
   "metadata": {
    "execution": {
     "iopub.execute_input": "2023-08-07T15:28:12.401288Z",
     "iopub.status.busy": "2023-08-07T15:28:12.400886Z",
     "iopub.status.idle": "2023-08-07T15:28:12.407604Z",
     "shell.execute_reply": "2023-08-07T15:28:12.406333Z"
    },
    "papermill": {
     "duration": 0.042448,
     "end_time": "2023-08-07T15:28:12.409700",
     "exception": false,
     "start_time": "2023-08-07T15:28:12.367252",
     "status": "completed"
    },
    "tags": []
   },
   "outputs": [
    {
     "name": "stdout",
     "output_type": "stream",
     "text": [
      "X_train shape : (903, 10)\n",
      "y_train shape : (903,)\n",
      "X_test shape : (388, 10)\n",
      "y_test shape : (388,)\n"
     ]
    }
   ],
   "source": [
    "print(\"X_train shape :\", X_train.shape)\n",
    "print(\"y_train shape :\", y_train.shape)\n",
    "print(\"X_test shape :\", X_test.shape)\n",
    "print(\"y_test shape :\", y_test.shape)"
   ]
  },
  {
   "cell_type": "code",
   "execution_count": 46,
   "id": "d683b04e",
   "metadata": {
    "execution": {
     "iopub.execute_input": "2023-08-07T15:28:12.476465Z",
     "iopub.status.busy": "2023-08-07T15:28:12.476044Z",
     "iopub.status.idle": "2023-08-07T15:28:12.485992Z",
     "shell.execute_reply": "2023-08-07T15:28:12.485237Z"
    },
    "papermill": {
     "duration": 0.045529,
     "end_time": "2023-08-07T15:28:12.487944",
     "exception": false,
     "start_time": "2023-08-07T15:28:12.442415",
     "status": "completed"
    },
    "tags": []
   },
   "outputs": [
    {
     "data": {
      "text/plain": [
       "-0.3441524282487279"
      ]
     },
     "execution_count": 46,
     "metadata": {},
     "output_type": "execute_result"
    }
   ],
   "source": [
    "boxcox = boxcox(y_train)\n",
    "y_train_bc = boxcox[0]\n",
    "lam1 = boxcox[1]\n",
    "lam1"
   ]
  },
  {
   "cell_type": "code",
   "execution_count": 47,
   "id": "5eee0f41",
   "metadata": {
    "execution": {
     "iopub.execute_input": "2023-08-07T15:28:12.555571Z",
     "iopub.status.busy": "2023-08-07T15:28:12.554851Z",
     "iopub.status.idle": "2023-08-07T15:28:12.565472Z",
     "shell.execute_reply": "2023-08-07T15:28:12.564561Z"
    },
    "papermill": {
     "duration": 0.047059,
     "end_time": "2023-08-07T15:28:12.567581",
     "exception": false,
     "start_time": "2023-08-07T15:28:12.520522",
     "status": "completed"
    },
    "tags": []
   },
   "outputs": [
    {
     "data": {
      "text/plain": [
       "NormaltestResult(statistic=0.25142753227005643, pvalue=0.8818672309271487)"
      ]
     },
     "execution_count": 47,
     "metadata": {},
     "output_type": "execute_result"
    }
   ],
   "source": [
    "normaltest(y_train_bc)"
   ]
  },
  {
   "cell_type": "code",
   "execution_count": null,
   "id": "236473b8",
   "metadata": {
    "papermill": {
     "duration": 0.033559,
     "end_time": "2023-08-07T15:28:12.635276",
     "exception": false,
     "start_time": "2023-08-07T15:28:12.601717",
     "status": "completed"
    },
    "tags": []
   },
   "outputs": [],
   "source": []
  },
  {
   "cell_type": "markdown",
   "id": "bcbec0d6",
   "metadata": {
    "papermill": {
     "duration": 0.0326,
     "end_time": "2023-08-07T15:28:12.700716",
     "exception": false,
     "start_time": "2023-08-07T15:28:12.668116",
     "status": "completed"
    },
    "tags": []
   },
   "source": [
    "# 3. Linear Regression Models\n"
   ]
  },
  {
   "cell_type": "code",
   "execution_count": 48,
   "id": "9ff0755f",
   "metadata": {
    "execution": {
     "iopub.execute_input": "2023-08-07T15:28:12.770339Z",
     "iopub.status.busy": "2023-08-07T15:28:12.769607Z",
     "iopub.status.idle": "2023-08-07T15:28:12.866022Z",
     "shell.execute_reply": "2023-08-07T15:28:12.864926Z"
    },
    "papermill": {
     "duration": 0.133601,
     "end_time": "2023-08-07T15:28:12.868915",
     "exception": false,
     "start_time": "2023-08-07T15:28:12.735314",
     "status": "completed"
    },
    "tags": []
   },
   "outputs": [],
   "source": [
    "from sklearn.linear_model import LinearRegression,Ridge,Lasso,ElasticNet\n",
    "from sklearn.metrics import r2_score\n",
    "from sklearn.preprocessing import StandardScaler"
   ]
  },
  {
   "cell_type": "code",
   "execution_count": 49,
   "id": "07dde9e1",
   "metadata": {
    "execution": {
     "iopub.execute_input": "2023-08-07T15:28:12.938772Z",
     "iopub.status.busy": "2023-08-07T15:28:12.938388Z",
     "iopub.status.idle": "2023-08-07T15:28:12.943217Z",
     "shell.execute_reply": "2023-08-07T15:28:12.942166Z"
    },
    "papermill": {
     "duration": 0.041794,
     "end_time": "2023-08-07T15:28:12.945664",
     "exception": false,
     "start_time": "2023-08-07T15:28:12.903870",
     "status": "completed"
    },
    "tags": []
   },
   "outputs": [],
   "source": [
    "s = StandardScaler()\n",
    "lr = LinearRegression()"
   ]
  },
  {
   "cell_type": "code",
   "execution_count": 50,
   "id": "f9d2695e",
   "metadata": {
    "execution": {
     "iopub.execute_input": "2023-08-07T15:28:13.014778Z",
     "iopub.status.busy": "2023-08-07T15:28:13.013694Z",
     "iopub.status.idle": "2023-08-07T15:28:13.022759Z",
     "shell.execute_reply": "2023-08-07T15:28:13.021995Z"
    },
    "papermill": {
     "duration": 0.045902,
     "end_time": "2023-08-07T15:28:13.024892",
     "exception": false,
     "start_time": "2023-08-07T15:28:12.978990",
     "status": "completed"
    },
    "tags": []
   },
   "outputs": [],
   "source": [
    "X_train_tran = s.fit_transform(X_train)"
   ]
  },
  {
   "cell_type": "code",
   "execution_count": 51,
   "id": "8960f443",
   "metadata": {
    "execution": {
     "iopub.execute_input": "2023-08-07T15:28:13.092812Z",
     "iopub.status.busy": "2023-08-07T15:28:13.091993Z",
     "iopub.status.idle": "2023-08-07T15:28:13.098479Z",
     "shell.execute_reply": "2023-08-07T15:28:13.097679Z"
    },
    "papermill": {
     "duration": 0.042592,
     "end_time": "2023-08-07T15:28:13.100443",
     "exception": false,
     "start_time": "2023-08-07T15:28:13.057851",
     "status": "completed"
    },
    "tags": []
   },
   "outputs": [
    {
     "data": {
      "text/plain": [
       "(903, 10)"
      ]
     },
     "execution_count": 51,
     "metadata": {},
     "output_type": "execute_result"
    }
   ],
   "source": [
    "X_train_tran.shape"
   ]
  },
  {
   "cell_type": "code",
   "execution_count": 52,
   "id": "442ddd64",
   "metadata": {
    "execution": {
     "iopub.execute_input": "2023-08-07T15:28:13.169241Z",
     "iopub.status.busy": "2023-08-07T15:28:13.168731Z",
     "iopub.status.idle": "2023-08-07T15:28:13.201371Z",
     "shell.execute_reply": "2023-08-07T15:28:13.200039Z"
    },
    "papermill": {
     "duration": 0.0697,
     "end_time": "2023-08-07T15:28:13.203891",
     "exception": false,
     "start_time": "2023-08-07T15:28:13.134191",
     "status": "completed"
    },
    "tags": []
   },
   "outputs": [
    {
     "data": {
      "text/html": [
       "<style>#sk-container-id-1 {color: black;background-color: white;}#sk-container-id-1 pre{padding: 0;}#sk-container-id-1 div.sk-toggleable {background-color: white;}#sk-container-id-1 label.sk-toggleable__label {cursor: pointer;display: block;width: 100%;margin-bottom: 0;padding: 0.3em;box-sizing: border-box;text-align: center;}#sk-container-id-1 label.sk-toggleable__label-arrow:before {content: \"▸\";float: left;margin-right: 0.25em;color: #696969;}#sk-container-id-1 label.sk-toggleable__label-arrow:hover:before {color: black;}#sk-container-id-1 div.sk-estimator:hover label.sk-toggleable__label-arrow:before {color: black;}#sk-container-id-1 div.sk-toggleable__content {max-height: 0;max-width: 0;overflow: hidden;text-align: left;background-color: #f0f8ff;}#sk-container-id-1 div.sk-toggleable__content pre {margin: 0.2em;color: black;border-radius: 0.25em;background-color: #f0f8ff;}#sk-container-id-1 input.sk-toggleable__control:checked~div.sk-toggleable__content {max-height: 200px;max-width: 100%;overflow: auto;}#sk-container-id-1 input.sk-toggleable__control:checked~label.sk-toggleable__label-arrow:before {content: \"▾\";}#sk-container-id-1 div.sk-estimator input.sk-toggleable__control:checked~label.sk-toggleable__label {background-color: #d4ebff;}#sk-container-id-1 div.sk-label input.sk-toggleable__control:checked~label.sk-toggleable__label {background-color: #d4ebff;}#sk-container-id-1 input.sk-hidden--visually {border: 0;clip: rect(1px 1px 1px 1px);clip: rect(1px, 1px, 1px, 1px);height: 1px;margin: -1px;overflow: hidden;padding: 0;position: absolute;width: 1px;}#sk-container-id-1 div.sk-estimator {font-family: monospace;background-color: #f0f8ff;border: 1px dotted black;border-radius: 0.25em;box-sizing: border-box;margin-bottom: 0.5em;}#sk-container-id-1 div.sk-estimator:hover {background-color: #d4ebff;}#sk-container-id-1 div.sk-parallel-item::after {content: \"\";width: 100%;border-bottom: 1px solid gray;flex-grow: 1;}#sk-container-id-1 div.sk-label:hover label.sk-toggleable__label {background-color: #d4ebff;}#sk-container-id-1 div.sk-serial::before {content: \"\";position: absolute;border-left: 1px solid gray;box-sizing: border-box;top: 0;bottom: 0;left: 50%;z-index: 0;}#sk-container-id-1 div.sk-serial {display: flex;flex-direction: column;align-items: center;background-color: white;padding-right: 0.2em;padding-left: 0.2em;position: relative;}#sk-container-id-1 div.sk-item {position: relative;z-index: 1;}#sk-container-id-1 div.sk-parallel {display: flex;align-items: stretch;justify-content: center;background-color: white;position: relative;}#sk-container-id-1 div.sk-item::before, #sk-container-id-1 div.sk-parallel-item::before {content: \"\";position: absolute;border-left: 1px solid gray;box-sizing: border-box;top: 0;bottom: 0;left: 50%;z-index: -1;}#sk-container-id-1 div.sk-parallel-item {display: flex;flex-direction: column;z-index: 1;position: relative;background-color: white;}#sk-container-id-1 div.sk-parallel-item:first-child::after {align-self: flex-end;width: 50%;}#sk-container-id-1 div.sk-parallel-item:last-child::after {align-self: flex-start;width: 50%;}#sk-container-id-1 div.sk-parallel-item:only-child::after {width: 0;}#sk-container-id-1 div.sk-dashed-wrapped {border: 1px dashed gray;margin: 0 0.4em 0.5em 0.4em;box-sizing: border-box;padding-bottom: 0.4em;background-color: white;}#sk-container-id-1 div.sk-label label {font-family: monospace;font-weight: bold;display: inline-block;line-height: 1.2em;}#sk-container-id-1 div.sk-label-container {text-align: center;}#sk-container-id-1 div.sk-container {/* jupyter's `normalize.less` sets `[hidden] { display: none; }` but bootstrap.min.css set `[hidden] { display: none !important; }` so we also need the `!important` here to be able to override the default hidden behavior on the sphinx rendered scikit-learn.org. See: https://github.com/scikit-learn/scikit-learn/issues/21755 */display: inline-block !important;position: relative;}#sk-container-id-1 div.sk-text-repr-fallback {display: none;}</style><div id=\"sk-container-id-1\" class=\"sk-top-container\"><div class=\"sk-text-repr-fallback\"><pre>LinearRegression()</pre><b>In a Jupyter environment, please rerun this cell to show the HTML representation or trust the notebook. <br />On GitHub, the HTML representation is unable to render, please try loading this page with nbviewer.org.</b></div><div class=\"sk-container\" hidden><div class=\"sk-item\"><div class=\"sk-estimator sk-toggleable\"><input class=\"sk-toggleable__control sk-hidden--visually\" id=\"sk-estimator-id-1\" type=\"checkbox\" checked><label for=\"sk-estimator-id-1\" class=\"sk-toggleable__label sk-toggleable__label-arrow\">LinearRegression</label><div class=\"sk-toggleable__content\"><pre>LinearRegression()</pre></div></div></div></div></div>"
      ],
      "text/plain": [
       "LinearRegression()"
      ]
     },
     "execution_count": 52,
     "metadata": {},
     "output_type": "execute_result"
    }
   ],
   "source": [
    "lr.fit(X_train_tran , y_train_bc)"
   ]
  },
  {
   "cell_type": "code",
   "execution_count": 53,
   "id": "434220ca",
   "metadata": {
    "execution": {
     "iopub.execute_input": "2023-08-07T15:28:13.272940Z",
     "iopub.status.busy": "2023-08-07T15:28:13.272498Z",
     "iopub.status.idle": "2023-08-07T15:28:13.282307Z",
     "shell.execute_reply": "2023-08-07T15:28:13.281100Z"
    },
    "papermill": {
     "duration": 0.047056,
     "end_time": "2023-08-07T15:28:13.284540",
     "exception": false,
     "start_time": "2023-08-07T15:28:13.237484",
     "status": "completed"
    },
    "tags": []
   },
   "outputs": [],
   "source": [
    "X_test_tran = s.fit_transform(X_test)"
   ]
  },
  {
   "cell_type": "code",
   "execution_count": 54,
   "id": "58e03829",
   "metadata": {
    "execution": {
     "iopub.execute_input": "2023-08-07T15:28:13.353284Z",
     "iopub.status.busy": "2023-08-07T15:28:13.352858Z",
     "iopub.status.idle": "2023-08-07T15:28:13.359361Z",
     "shell.execute_reply": "2023-08-07T15:28:13.358491Z"
    },
    "papermill": {
     "duration": 0.043454,
     "end_time": "2023-08-07T15:28:13.361419",
     "exception": false,
     "start_time": "2023-08-07T15:28:13.317965",
     "status": "completed"
    },
    "tags": []
   },
   "outputs": [
    {
     "data": {
      "text/plain": [
       "(388, 10)"
      ]
     },
     "execution_count": 54,
     "metadata": {},
     "output_type": "execute_result"
    }
   ],
   "source": [
    "X_test_tran.shape"
   ]
  },
  {
   "cell_type": "code",
   "execution_count": 55,
   "id": "d1a7c648",
   "metadata": {
    "execution": {
     "iopub.execute_input": "2023-08-07T15:28:13.430999Z",
     "iopub.status.busy": "2023-08-07T15:28:13.430300Z",
     "iopub.status.idle": "2023-08-07T15:28:13.435213Z",
     "shell.execute_reply": "2023-08-07T15:28:13.434431Z"
    },
    "papermill": {
     "duration": 0.042125,
     "end_time": "2023-08-07T15:28:13.437252",
     "exception": false,
     "start_time": "2023-08-07T15:28:13.395127",
     "status": "completed"
    },
    "tags": []
   },
   "outputs": [],
   "source": [
    "y_test_pred_bc = lr.predict(X_test_tran)\n",
    "y_train_pred_bc = lr.predict(X_train_tran)"
   ]
  },
  {
   "cell_type": "code",
   "execution_count": 56,
   "id": "3f95f6af",
   "metadata": {
    "execution": {
     "iopub.execute_input": "2023-08-07T15:28:13.506659Z",
     "iopub.status.busy": "2023-08-07T15:28:13.505951Z",
     "iopub.status.idle": "2023-08-07T15:28:13.511721Z",
     "shell.execute_reply": "2023-08-07T15:28:13.510869Z"
    },
    "papermill": {
     "duration": 0.042947,
     "end_time": "2023-08-07T15:28:13.513926",
     "exception": false,
     "start_time": "2023-08-07T15:28:13.470979",
     "status": "completed"
    },
    "tags": []
   },
   "outputs": [
    {
     "data": {
      "text/plain": [
       "(388,)"
      ]
     },
     "execution_count": 56,
     "metadata": {},
     "output_type": "execute_result"
    }
   ],
   "source": [
    "y_test_pred_bc.shape"
   ]
  },
  {
   "cell_type": "markdown",
   "id": "6692162c",
   "metadata": {
    "papermill": {
     "duration": 0.034597,
     "end_time": "2023-08-07T15:28:13.583124",
     "exception": false,
     "start_time": "2023-08-07T15:28:13.548527",
     "status": "completed"
    },
    "tags": []
   },
   "source": [
    "### Inverse BoxCox"
   ]
  },
  {
   "cell_type": "code",
   "execution_count": 57,
   "id": "c1cfe5e8",
   "metadata": {
    "execution": {
     "iopub.execute_input": "2023-08-07T15:28:13.656490Z",
     "iopub.status.busy": "2023-08-07T15:28:13.655834Z",
     "iopub.status.idle": "2023-08-07T15:28:13.660476Z",
     "shell.execute_reply": "2023-08-07T15:28:13.659458Z"
    },
    "papermill": {
     "duration": 0.04255,
     "end_time": "2023-08-07T15:28:13.662640",
     "exception": false,
     "start_time": "2023-08-07T15:28:13.620090",
     "status": "completed"
    },
    "tags": []
   },
   "outputs": [],
   "source": [
    "from scipy.special import inv_boxcox"
   ]
  },
  {
   "cell_type": "code",
   "execution_count": 58,
   "id": "f2a4945e",
   "metadata": {
    "execution": {
     "iopub.execute_input": "2023-08-07T15:28:13.732966Z",
     "iopub.status.busy": "2023-08-07T15:28:13.732565Z",
     "iopub.status.idle": "2023-08-07T15:28:13.738146Z",
     "shell.execute_reply": "2023-08-07T15:28:13.737027Z"
    },
    "papermill": {
     "duration": 0.043801,
     "end_time": "2023-08-07T15:28:13.740183",
     "exception": false,
     "start_time": "2023-08-07T15:28:13.696382",
     "status": "completed"
    },
    "tags": []
   },
   "outputs": [],
   "source": [
    "y_test_pred= inv_boxcox(y_test_pred_bc,lam1)\n",
    "y_train_pred = inv_boxcox(y_train_pred_bc, lam1)"
   ]
  },
  {
   "cell_type": "code",
   "execution_count": 59,
   "id": "e78cfaf9",
   "metadata": {
    "execution": {
     "iopub.execute_input": "2023-08-07T15:28:13.821782Z",
     "iopub.status.busy": "2023-08-07T15:28:13.820872Z",
     "iopub.status.idle": "2023-08-07T15:28:13.828848Z",
     "shell.execute_reply": "2023-08-07T15:28:13.827762Z"
    },
    "papermill": {
     "duration": 0.054689,
     "end_time": "2023-08-07T15:28:13.831425",
     "exception": false,
     "start_time": "2023-08-07T15:28:13.776736",
     "status": "completed"
    },
    "tags": []
   },
   "outputs": [
    {
     "data": {
      "text/plain": [
       "array([12350.6794971 , 13613.25762051, 17470.45146694, 10624.39119083,\n",
       "       26152.68101168, 21076.92754149,  9935.5301923 , 13581.0527407 ,\n",
       "       21127.39101938, 18853.42199266])"
      ]
     },
     "execution_count": 59,
     "metadata": {},
     "output_type": "execute_result"
    }
   ],
   "source": [
    "y_test_pred[:10]"
   ]
  },
  {
   "cell_type": "markdown",
   "id": "bfc72137",
   "metadata": {
    "papermill": {
     "duration": 0.034386,
     "end_time": "2023-08-07T15:28:13.904001",
     "exception": false,
     "start_time": "2023-08-07T15:28:13.869615",
     "status": "completed"
    },
    "tags": []
   },
   "source": [
    "#### R^2 Score check"
   ]
  },
  {
   "cell_type": "code",
   "execution_count": 60,
   "id": "03f06cff",
   "metadata": {
    "execution": {
     "iopub.execute_input": "2023-08-07T15:28:13.974144Z",
     "iopub.status.busy": "2023-08-07T15:28:13.972999Z",
     "iopub.status.idle": "2023-08-07T15:28:13.980932Z",
     "shell.execute_reply": "2023-08-07T15:28:13.979823Z"
    },
    "papermill": {
     "duration": 0.045566,
     "end_time": "2023-08-07T15:28:13.983495",
     "exception": false,
     "start_time": "2023-08-07T15:28:13.937929",
     "status": "completed"
    },
    "tags": []
   },
   "outputs": [
    {
     "name": "stdout",
     "output_type": "stream",
     "text": [
      "R^2 on training  data  -4.0971490204233225\n",
      "R^2 on testing data  -5.459684539056389\n"
     ]
    }
   ],
   "source": [
    "print(\"R^2 on training  data \",r2_score(y_train_pred, y_train))\n",
    "print(\"R^2 on testing data \",r2_score(y_test_pred,y_test))"
   ]
  },
  {
   "cell_type": "markdown",
   "id": "a5a2af2a",
   "metadata": {
    "papermill": {
     "duration": 0.033524,
     "end_time": "2023-08-07T15:28:14.051912",
     "exception": false,
     "start_time": "2023-08-07T15:28:14.018388",
     "status": "completed"
    },
    "tags": []
   },
   "source": [
    "## Ridge Regression Using Pipe Line "
   ]
  },
  {
   "cell_type": "code",
   "execution_count": 61,
   "id": "ddf58b27",
   "metadata": {
    "execution": {
     "iopub.execute_input": "2023-08-07T15:28:14.120594Z",
     "iopub.status.busy": "2023-08-07T15:28:14.120212Z",
     "iopub.status.idle": "2023-08-07T15:28:14.133598Z",
     "shell.execute_reply": "2023-08-07T15:28:14.132569Z"
    },
    "papermill": {
     "duration": 0.050292,
     "end_time": "2023-08-07T15:28:14.135874",
     "exception": false,
     "start_time": "2023-08-07T15:28:14.085582",
     "status": "completed"
    },
    "tags": []
   },
   "outputs": [],
   "source": [
    "from sklearn.preprocessing import PolynomialFeatures\n",
    "from sklearn.pipeline import Pipeline\n",
    "from sklearn.model_selection import GridSearchCV"
   ]
  },
  {
   "cell_type": "code",
   "execution_count": 62,
   "id": "ff082ad6",
   "metadata": {
    "execution": {
     "iopub.execute_input": "2023-08-07T15:28:14.206794Z",
     "iopub.status.busy": "2023-08-07T15:28:14.206353Z",
     "iopub.status.idle": "2023-08-07T15:28:14.212575Z",
     "shell.execute_reply": "2023-08-07T15:28:14.211349Z"
    },
    "papermill": {
     "duration": 0.044434,
     "end_time": "2023-08-07T15:28:14.215090",
     "exception": false,
     "start_time": "2023-08-07T15:28:14.170656",
     "status": "completed"
    },
    "tags": []
   },
   "outputs": [],
   "source": [
    "Input=[ ('polynomial', PolynomialFeatures(include_bias=False,degree=2)),('ss',StandardScaler() ), ('model',Ridge(alpha=1))]\n",
    "pipe = Pipeline(Input)"
   ]
  },
  {
   "cell_type": "code",
   "execution_count": 63,
   "id": "a0fac59e",
   "metadata": {
    "execution": {
     "iopub.execute_input": "2023-08-07T15:28:14.284608Z",
     "iopub.status.busy": "2023-08-07T15:28:14.284196Z",
     "iopub.status.idle": "2023-08-07T15:28:14.340723Z",
     "shell.execute_reply": "2023-08-07T15:28:14.339596Z"
    },
    "papermill": {
     "duration": 0.095149,
     "end_time": "2023-08-07T15:28:14.344349",
     "exception": false,
     "start_time": "2023-08-07T15:28:14.249200",
     "status": "completed"
    },
    "tags": []
   },
   "outputs": [
    {
     "data": {
      "text/html": [
       "<style>#sk-container-id-2 {color: black;background-color: white;}#sk-container-id-2 pre{padding: 0;}#sk-container-id-2 div.sk-toggleable {background-color: white;}#sk-container-id-2 label.sk-toggleable__label {cursor: pointer;display: block;width: 100%;margin-bottom: 0;padding: 0.3em;box-sizing: border-box;text-align: center;}#sk-container-id-2 label.sk-toggleable__label-arrow:before {content: \"▸\";float: left;margin-right: 0.25em;color: #696969;}#sk-container-id-2 label.sk-toggleable__label-arrow:hover:before {color: black;}#sk-container-id-2 div.sk-estimator:hover label.sk-toggleable__label-arrow:before {color: black;}#sk-container-id-2 div.sk-toggleable__content {max-height: 0;max-width: 0;overflow: hidden;text-align: left;background-color: #f0f8ff;}#sk-container-id-2 div.sk-toggleable__content pre {margin: 0.2em;color: black;border-radius: 0.25em;background-color: #f0f8ff;}#sk-container-id-2 input.sk-toggleable__control:checked~div.sk-toggleable__content {max-height: 200px;max-width: 100%;overflow: auto;}#sk-container-id-2 input.sk-toggleable__control:checked~label.sk-toggleable__label-arrow:before {content: \"▾\";}#sk-container-id-2 div.sk-estimator input.sk-toggleable__control:checked~label.sk-toggleable__label {background-color: #d4ebff;}#sk-container-id-2 div.sk-label input.sk-toggleable__control:checked~label.sk-toggleable__label {background-color: #d4ebff;}#sk-container-id-2 input.sk-hidden--visually {border: 0;clip: rect(1px 1px 1px 1px);clip: rect(1px, 1px, 1px, 1px);height: 1px;margin: -1px;overflow: hidden;padding: 0;position: absolute;width: 1px;}#sk-container-id-2 div.sk-estimator {font-family: monospace;background-color: #f0f8ff;border: 1px dotted black;border-radius: 0.25em;box-sizing: border-box;margin-bottom: 0.5em;}#sk-container-id-2 div.sk-estimator:hover {background-color: #d4ebff;}#sk-container-id-2 div.sk-parallel-item::after {content: \"\";width: 100%;border-bottom: 1px solid gray;flex-grow: 1;}#sk-container-id-2 div.sk-label:hover label.sk-toggleable__label {background-color: #d4ebff;}#sk-container-id-2 div.sk-serial::before {content: \"\";position: absolute;border-left: 1px solid gray;box-sizing: border-box;top: 0;bottom: 0;left: 50%;z-index: 0;}#sk-container-id-2 div.sk-serial {display: flex;flex-direction: column;align-items: center;background-color: white;padding-right: 0.2em;padding-left: 0.2em;position: relative;}#sk-container-id-2 div.sk-item {position: relative;z-index: 1;}#sk-container-id-2 div.sk-parallel {display: flex;align-items: stretch;justify-content: center;background-color: white;position: relative;}#sk-container-id-2 div.sk-item::before, #sk-container-id-2 div.sk-parallel-item::before {content: \"\";position: absolute;border-left: 1px solid gray;box-sizing: border-box;top: 0;bottom: 0;left: 50%;z-index: -1;}#sk-container-id-2 div.sk-parallel-item {display: flex;flex-direction: column;z-index: 1;position: relative;background-color: white;}#sk-container-id-2 div.sk-parallel-item:first-child::after {align-self: flex-end;width: 50%;}#sk-container-id-2 div.sk-parallel-item:last-child::after {align-self: flex-start;width: 50%;}#sk-container-id-2 div.sk-parallel-item:only-child::after {width: 0;}#sk-container-id-2 div.sk-dashed-wrapped {border: 1px dashed gray;margin: 0 0.4em 0.5em 0.4em;box-sizing: border-box;padding-bottom: 0.4em;background-color: white;}#sk-container-id-2 div.sk-label label {font-family: monospace;font-weight: bold;display: inline-block;line-height: 1.2em;}#sk-container-id-2 div.sk-label-container {text-align: center;}#sk-container-id-2 div.sk-container {/* jupyter's `normalize.less` sets `[hidden] { display: none; }` but bootstrap.min.css set `[hidden] { display: none !important; }` so we also need the `!important` here to be able to override the default hidden behavior on the sphinx rendered scikit-learn.org. See: https://github.com/scikit-learn/scikit-learn/issues/21755 */display: inline-block !important;position: relative;}#sk-container-id-2 div.sk-text-repr-fallback {display: none;}</style><div id=\"sk-container-id-2\" class=\"sk-top-container\"><div class=\"sk-text-repr-fallback\"><pre>Pipeline(steps=[(&#x27;polynomial&#x27;, PolynomialFeatures(include_bias=False)),\n",
       "                (&#x27;ss&#x27;, StandardScaler()), (&#x27;model&#x27;, Ridge(alpha=1))])</pre><b>In a Jupyter environment, please rerun this cell to show the HTML representation or trust the notebook. <br />On GitHub, the HTML representation is unable to render, please try loading this page with nbviewer.org.</b></div><div class=\"sk-container\" hidden><div class=\"sk-item sk-dashed-wrapped\"><div class=\"sk-label-container\"><div class=\"sk-label sk-toggleable\"><input class=\"sk-toggleable__control sk-hidden--visually\" id=\"sk-estimator-id-2\" type=\"checkbox\" ><label for=\"sk-estimator-id-2\" class=\"sk-toggleable__label sk-toggleable__label-arrow\">Pipeline</label><div class=\"sk-toggleable__content\"><pre>Pipeline(steps=[(&#x27;polynomial&#x27;, PolynomialFeatures(include_bias=False)),\n",
       "                (&#x27;ss&#x27;, StandardScaler()), (&#x27;model&#x27;, Ridge(alpha=1))])</pre></div></div></div><div class=\"sk-serial\"><div class=\"sk-item\"><div class=\"sk-estimator sk-toggleable\"><input class=\"sk-toggleable__control sk-hidden--visually\" id=\"sk-estimator-id-3\" type=\"checkbox\" ><label for=\"sk-estimator-id-3\" class=\"sk-toggleable__label sk-toggleable__label-arrow\">PolynomialFeatures</label><div class=\"sk-toggleable__content\"><pre>PolynomialFeatures(include_bias=False)</pre></div></div></div><div class=\"sk-item\"><div class=\"sk-estimator sk-toggleable\"><input class=\"sk-toggleable__control sk-hidden--visually\" id=\"sk-estimator-id-4\" type=\"checkbox\" ><label for=\"sk-estimator-id-4\" class=\"sk-toggleable__label sk-toggleable__label-arrow\">StandardScaler</label><div class=\"sk-toggleable__content\"><pre>StandardScaler()</pre></div></div></div><div class=\"sk-item\"><div class=\"sk-estimator sk-toggleable\"><input class=\"sk-toggleable__control sk-hidden--visually\" id=\"sk-estimator-id-5\" type=\"checkbox\" ><label for=\"sk-estimator-id-5\" class=\"sk-toggleable__label sk-toggleable__label-arrow\">Ridge</label><div class=\"sk-toggleable__content\"><pre>Ridge(alpha=1)</pre></div></div></div></div></div></div></div>"
      ],
      "text/plain": [
       "Pipeline(steps=[('polynomial', PolynomialFeatures(include_bias=False)),\n",
       "                ('ss', StandardScaler()), ('model', Ridge(alpha=1))])"
      ]
     },
     "execution_count": 63,
     "metadata": {},
     "output_type": "execute_result"
    }
   ],
   "source": [
    "pipe.fit(X_train, y_train)"
   ]
  },
  {
   "cell_type": "code",
   "execution_count": 64,
   "id": "fa60ea8b",
   "metadata": {
    "execution": {
     "iopub.execute_input": "2023-08-07T15:28:14.474629Z",
     "iopub.status.busy": "2023-08-07T15:28:14.474259Z",
     "iopub.status.idle": "2023-08-07T15:28:14.485245Z",
     "shell.execute_reply": "2023-08-07T15:28:14.484231Z"
    },
    "papermill": {
     "duration": 0.048472,
     "end_time": "2023-08-07T15:28:14.487234",
     "exception": false,
     "start_time": "2023-08-07T15:28:14.438762",
     "status": "completed"
    },
    "tags": []
   },
   "outputs": [
    {
     "data": {
      "text/plain": [
       "array([13733.86413832, 13087.2471346 , 15040.78350062, 10209.65284033,\n",
       "       34430.12840169, 32877.91022055, 11519.50187544, 13646.73732036,\n",
       "       18675.09859656, 23567.05049421])"
      ]
     },
     "execution_count": 64,
     "metadata": {},
     "output_type": "execute_result"
    }
   ],
   "source": [
    "predicted_Y=pipe.predict(X_test)\n",
    "predicted_Y[:10]"
   ]
  },
  {
   "cell_type": "code",
   "execution_count": 65,
   "id": "23d4ac69",
   "metadata": {
    "execution": {
     "iopub.execute_input": "2023-08-07T15:28:14.612728Z",
     "iopub.status.busy": "2023-08-07T15:28:14.612370Z",
     "iopub.status.idle": "2023-08-07T15:28:14.629063Z",
     "shell.execute_reply": "2023-08-07T15:28:14.627712Z"
    },
    "papermill": {
     "duration": 0.083691,
     "end_time": "2023-08-07T15:28:14.632173",
     "exception": false,
     "start_time": "2023-08-07T15:28:14.548482",
     "status": "completed"
    },
    "tags": []
   },
   "outputs": [
    {
     "name": "stdout",
     "output_type": "stream",
     "text": [
      "R^2 on training  data  0.6225953725184723\n",
      "R^2 on testing data  0.5148528560192447\n"
     ]
    }
   ],
   "source": [
    "print(\"R^2 on training  data \",pipe.score(X_train, y_train))\n",
    "print(\"R^2 on testing data \",pipe.score(X_test,y_test))"
   ]
  },
  {
   "cell_type": "markdown",
   "id": "bd3b08d7",
   "metadata": {
    "papermill": {
     "duration": 0.05684,
     "end_time": "2023-08-07T15:28:14.762777",
     "exception": false,
     "start_time": "2023-08-07T15:28:14.705937",
     "status": "completed"
    },
    "tags": []
   },
   "source": [
    "# Grid Search CV"
   ]
  },
  {
   "cell_type": "code",
   "execution_count": 66,
   "id": "06f70dc0",
   "metadata": {
    "execution": {
     "iopub.execute_input": "2023-08-07T15:28:14.834450Z",
     "iopub.status.busy": "2023-08-07T15:28:14.833441Z",
     "iopub.status.idle": "2023-08-07T15:28:14.838676Z",
     "shell.execute_reply": "2023-08-07T15:28:14.837774Z"
    },
    "papermill": {
     "duration": 0.043577,
     "end_time": "2023-08-07T15:28:14.841087",
     "exception": false,
     "start_time": "2023-08-07T15:28:14.797510",
     "status": "completed"
    },
    "tags": []
   },
   "outputs": [],
   "source": [
    "param_grid = {\n",
    "    \"polynomial__degree\": [1,2,3,4],\n",
    "    \"model__alpha\":[0.0001,0.001,0.01,0.1,1,10]\n",
    "}"
   ]
  },
  {
   "cell_type": "code",
   "execution_count": 67,
   "id": "118a32da",
   "metadata": {
    "execution": {
     "iopub.execute_input": "2023-08-07T15:28:14.912725Z",
     "iopub.status.busy": "2023-08-07T15:28:14.912367Z",
     "iopub.status.idle": "2023-08-07T15:28:20.331706Z",
     "shell.execute_reply": "2023-08-07T15:28:20.329409Z"
    },
    "papermill": {
     "duration": 5.458934,
     "end_time": "2023-08-07T15:28:20.335549",
     "exception": false,
     "start_time": "2023-08-07T15:28:14.876615",
     "status": "completed"
    },
    "tags": []
   },
   "outputs": [
    {
     "name": "stderr",
     "output_type": "stream",
     "text": [
      "/opt/conda/lib/python3.10/site-packages/scipy/__init__.py:146: UserWarning: A NumPy version >=1.16.5 and <1.23.0 is required for this version of SciPy (detected version 1.23.5\n",
      "  warnings.warn(f\"A NumPy version >={np_minversion} and <{np_maxversion}\"\n",
      "/opt/conda/lib/python3.10/site-packages/scipy/__init__.py:146: UserWarning: A NumPy version >=1.16.5 and <1.23.0 is required for this version of SciPy (detected version 1.23.5\n",
      "  warnings.warn(f\"A NumPy version >={np_minversion} and <{np_maxversion}\"\n"
     ]
    },
    {
     "data": {
      "text/html": [
       "<style>#sk-container-id-3 {color: black;background-color: white;}#sk-container-id-3 pre{padding: 0;}#sk-container-id-3 div.sk-toggleable {background-color: white;}#sk-container-id-3 label.sk-toggleable__label {cursor: pointer;display: block;width: 100%;margin-bottom: 0;padding: 0.3em;box-sizing: border-box;text-align: center;}#sk-container-id-3 label.sk-toggleable__label-arrow:before {content: \"▸\";float: left;margin-right: 0.25em;color: #696969;}#sk-container-id-3 label.sk-toggleable__label-arrow:hover:before {color: black;}#sk-container-id-3 div.sk-estimator:hover label.sk-toggleable__label-arrow:before {color: black;}#sk-container-id-3 div.sk-toggleable__content {max-height: 0;max-width: 0;overflow: hidden;text-align: left;background-color: #f0f8ff;}#sk-container-id-3 div.sk-toggleable__content pre {margin: 0.2em;color: black;border-radius: 0.25em;background-color: #f0f8ff;}#sk-container-id-3 input.sk-toggleable__control:checked~div.sk-toggleable__content {max-height: 200px;max-width: 100%;overflow: auto;}#sk-container-id-3 input.sk-toggleable__control:checked~label.sk-toggleable__label-arrow:before {content: \"▾\";}#sk-container-id-3 div.sk-estimator input.sk-toggleable__control:checked~label.sk-toggleable__label {background-color: #d4ebff;}#sk-container-id-3 div.sk-label input.sk-toggleable__control:checked~label.sk-toggleable__label {background-color: #d4ebff;}#sk-container-id-3 input.sk-hidden--visually {border: 0;clip: rect(1px 1px 1px 1px);clip: rect(1px, 1px, 1px, 1px);height: 1px;margin: -1px;overflow: hidden;padding: 0;position: absolute;width: 1px;}#sk-container-id-3 div.sk-estimator {font-family: monospace;background-color: #f0f8ff;border: 1px dotted black;border-radius: 0.25em;box-sizing: border-box;margin-bottom: 0.5em;}#sk-container-id-3 div.sk-estimator:hover {background-color: #d4ebff;}#sk-container-id-3 div.sk-parallel-item::after {content: \"\";width: 100%;border-bottom: 1px solid gray;flex-grow: 1;}#sk-container-id-3 div.sk-label:hover label.sk-toggleable__label {background-color: #d4ebff;}#sk-container-id-3 div.sk-serial::before {content: \"\";position: absolute;border-left: 1px solid gray;box-sizing: border-box;top: 0;bottom: 0;left: 50%;z-index: 0;}#sk-container-id-3 div.sk-serial {display: flex;flex-direction: column;align-items: center;background-color: white;padding-right: 0.2em;padding-left: 0.2em;position: relative;}#sk-container-id-3 div.sk-item {position: relative;z-index: 1;}#sk-container-id-3 div.sk-parallel {display: flex;align-items: stretch;justify-content: center;background-color: white;position: relative;}#sk-container-id-3 div.sk-item::before, #sk-container-id-3 div.sk-parallel-item::before {content: \"\";position: absolute;border-left: 1px solid gray;box-sizing: border-box;top: 0;bottom: 0;left: 50%;z-index: -1;}#sk-container-id-3 div.sk-parallel-item {display: flex;flex-direction: column;z-index: 1;position: relative;background-color: white;}#sk-container-id-3 div.sk-parallel-item:first-child::after {align-self: flex-end;width: 50%;}#sk-container-id-3 div.sk-parallel-item:last-child::after {align-self: flex-start;width: 50%;}#sk-container-id-3 div.sk-parallel-item:only-child::after {width: 0;}#sk-container-id-3 div.sk-dashed-wrapped {border: 1px dashed gray;margin: 0 0.4em 0.5em 0.4em;box-sizing: border-box;padding-bottom: 0.4em;background-color: white;}#sk-container-id-3 div.sk-label label {font-family: monospace;font-weight: bold;display: inline-block;line-height: 1.2em;}#sk-container-id-3 div.sk-label-container {text-align: center;}#sk-container-id-3 div.sk-container {/* jupyter's `normalize.less` sets `[hidden] { display: none; }` but bootstrap.min.css set `[hidden] { display: none !important; }` so we also need the `!important` here to be able to override the default hidden behavior on the sphinx rendered scikit-learn.org. See: https://github.com/scikit-learn/scikit-learn/issues/21755 */display: inline-block !important;position: relative;}#sk-container-id-3 div.sk-text-repr-fallback {display: none;}</style><div id=\"sk-container-id-3\" class=\"sk-top-container\"><div class=\"sk-text-repr-fallback\"><pre>GridSearchCV(estimator=Pipeline(steps=[(&#x27;polynomial&#x27;,\n",
       "                                        PolynomialFeatures(include_bias=False)),\n",
       "                                       (&#x27;ss&#x27;, StandardScaler()),\n",
       "                                       (&#x27;model&#x27;, Ridge(alpha=1))]),\n",
       "             n_jobs=2,\n",
       "             param_grid={&#x27;model__alpha&#x27;: [0.0001, 0.001, 0.01, 0.1, 1, 10],\n",
       "                         &#x27;polynomial__degree&#x27;: [1, 2, 3, 4]})</pre><b>In a Jupyter environment, please rerun this cell to show the HTML representation or trust the notebook. <br />On GitHub, the HTML representation is unable to render, please try loading this page with nbviewer.org.</b></div><div class=\"sk-container\" hidden><div class=\"sk-item sk-dashed-wrapped\"><div class=\"sk-label-container\"><div class=\"sk-label sk-toggleable\"><input class=\"sk-toggleable__control sk-hidden--visually\" id=\"sk-estimator-id-6\" type=\"checkbox\" ><label for=\"sk-estimator-id-6\" class=\"sk-toggleable__label sk-toggleable__label-arrow\">GridSearchCV</label><div class=\"sk-toggleable__content\"><pre>GridSearchCV(estimator=Pipeline(steps=[(&#x27;polynomial&#x27;,\n",
       "                                        PolynomialFeatures(include_bias=False)),\n",
       "                                       (&#x27;ss&#x27;, StandardScaler()),\n",
       "                                       (&#x27;model&#x27;, Ridge(alpha=1))]),\n",
       "             n_jobs=2,\n",
       "             param_grid={&#x27;model__alpha&#x27;: [0.0001, 0.001, 0.01, 0.1, 1, 10],\n",
       "                         &#x27;polynomial__degree&#x27;: [1, 2, 3, 4]})</pre></div></div></div><div class=\"sk-parallel\"><div class=\"sk-parallel-item\"><div class=\"sk-item\"><div class=\"sk-label-container\"><div class=\"sk-label sk-toggleable\"><input class=\"sk-toggleable__control sk-hidden--visually\" id=\"sk-estimator-id-7\" type=\"checkbox\" ><label for=\"sk-estimator-id-7\" class=\"sk-toggleable__label sk-toggleable__label-arrow\">estimator: Pipeline</label><div class=\"sk-toggleable__content\"><pre>Pipeline(steps=[(&#x27;polynomial&#x27;, PolynomialFeatures(include_bias=False)),\n",
       "                (&#x27;ss&#x27;, StandardScaler()), (&#x27;model&#x27;, Ridge(alpha=1))])</pre></div></div></div><div class=\"sk-serial\"><div class=\"sk-item\"><div class=\"sk-serial\"><div class=\"sk-item\"><div class=\"sk-estimator sk-toggleable\"><input class=\"sk-toggleable__control sk-hidden--visually\" id=\"sk-estimator-id-8\" type=\"checkbox\" ><label for=\"sk-estimator-id-8\" class=\"sk-toggleable__label sk-toggleable__label-arrow\">PolynomialFeatures</label><div class=\"sk-toggleable__content\"><pre>PolynomialFeatures(include_bias=False)</pre></div></div></div><div class=\"sk-item\"><div class=\"sk-estimator sk-toggleable\"><input class=\"sk-toggleable__control sk-hidden--visually\" id=\"sk-estimator-id-9\" type=\"checkbox\" ><label for=\"sk-estimator-id-9\" class=\"sk-toggleable__label sk-toggleable__label-arrow\">StandardScaler</label><div class=\"sk-toggleable__content\"><pre>StandardScaler()</pre></div></div></div><div class=\"sk-item\"><div class=\"sk-estimator sk-toggleable\"><input class=\"sk-toggleable__control sk-hidden--visually\" id=\"sk-estimator-id-10\" type=\"checkbox\" ><label for=\"sk-estimator-id-10\" class=\"sk-toggleable__label sk-toggleable__label-arrow\">Ridge</label><div class=\"sk-toggleable__content\"><pre>Ridge(alpha=1)</pre></div></div></div></div></div></div></div></div></div></div></div></div>"
      ],
      "text/plain": [
       "GridSearchCV(estimator=Pipeline(steps=[('polynomial',\n",
       "                                        PolynomialFeatures(include_bias=False)),\n",
       "                                       ('ss', StandardScaler()),\n",
       "                                       ('model', Ridge(alpha=1))]),\n",
       "             n_jobs=2,\n",
       "             param_grid={'model__alpha': [0.0001, 0.001, 0.01, 0.1, 1, 10],\n",
       "                         'polynomial__degree': [1, 2, 3, 4]})"
      ]
     },
     "execution_count": 67,
     "metadata": {},
     "output_type": "execute_result"
    }
   ],
   "source": [
    "search = GridSearchCV(pipe, param_grid, n_jobs=2)\n",
    "\n",
    "search.fit(X_train, y_train)\n",
    "search"
   ]
  },
  {
   "cell_type": "code",
   "execution_count": 68,
   "id": "98de6464",
   "metadata": {
    "execution": {
     "iopub.execute_input": "2023-08-07T15:28:20.428504Z",
     "iopub.status.busy": "2023-08-07T15:28:20.428115Z",
     "iopub.status.idle": "2023-08-07T15:28:20.454179Z",
     "shell.execute_reply": "2023-08-07T15:28:20.453178Z"
    },
    "papermill": {
     "duration": 0.065613,
     "end_time": "2023-08-07T15:28:20.456291",
     "exception": false,
     "start_time": "2023-08-07T15:28:20.390678",
     "status": "completed"
    },
    "tags": []
   },
   "outputs": [
    {
     "data": {
      "text/html": [
       "<div>\n",
       "<style scoped>\n",
       "    .dataframe tbody tr th:only-of-type {\n",
       "        vertical-align: middle;\n",
       "    }\n",
       "\n",
       "    .dataframe tbody tr th {\n",
       "        vertical-align: top;\n",
       "    }\n",
       "\n",
       "    .dataframe thead th {\n",
       "        text-align: right;\n",
       "    }\n",
       "</style>\n",
       "<table border=\"1\" class=\"dataframe\">\n",
       "  <thead>\n",
       "    <tr style=\"text-align: right;\">\n",
       "      <th></th>\n",
       "      <th>mean_fit_time</th>\n",
       "      <th>std_fit_time</th>\n",
       "      <th>mean_score_time</th>\n",
       "      <th>std_score_time</th>\n",
       "      <th>param_model__alpha</th>\n",
       "      <th>param_polynomial__degree</th>\n",
       "      <th>params</th>\n",
       "      <th>split0_test_score</th>\n",
       "      <th>split1_test_score</th>\n",
       "      <th>split2_test_score</th>\n",
       "      <th>split3_test_score</th>\n",
       "      <th>split4_test_score</th>\n",
       "      <th>mean_test_score</th>\n",
       "      <th>std_test_score</th>\n",
       "      <th>rank_test_score</th>\n",
       "    </tr>\n",
       "  </thead>\n",
       "  <tbody>\n",
       "    <tr>\n",
       "      <th>0</th>\n",
       "      <td>0.006177</td>\n",
       "      <td>0.000751</td>\n",
       "      <td>0.002277</td>\n",
       "      <td>0.000258</td>\n",
       "      <td>0.0001</td>\n",
       "      <td>1</td>\n",
       "      <td>{'model__alpha': 0.0001, 'polynomial__degree': 1}</td>\n",
       "      <td>0.159186</td>\n",
       "      <td>0.250873</td>\n",
       "      <td>0.110936</td>\n",
       "      <td>0.244761</td>\n",
       "      <td>0.104949</td>\n",
       "      <td>0.174141</td>\n",
       "      <td>0.063057</td>\n",
       "      <td>20</td>\n",
       "    </tr>\n",
       "    <tr>\n",
       "      <th>1</th>\n",
       "      <td>0.019382</td>\n",
       "      <td>0.012167</td>\n",
       "      <td>0.007192</td>\n",
       "      <td>0.004002</td>\n",
       "      <td>0.0001</td>\n",
       "      <td>2</td>\n",
       "      <td>{'model__alpha': 0.0001, 'polynomial__degree': 2}</td>\n",
       "      <td>0.465339</td>\n",
       "      <td>0.499733</td>\n",
       "      <td>0.548748</td>\n",
       "      <td>0.606756</td>\n",
       "      <td>0.572296</td>\n",
       "      <td>0.538575</td>\n",
       "      <td>0.050520</td>\n",
       "      <td>7</td>\n",
       "    </tr>\n",
       "    <tr>\n",
       "      <th>2</th>\n",
       "      <td>0.060526</td>\n",
       "      <td>0.013721</td>\n",
       "      <td>0.013047</td>\n",
       "      <td>0.008871</td>\n",
       "      <td>0.0001</td>\n",
       "      <td>3</td>\n",
       "      <td>{'model__alpha': 0.0001, 'polynomial__degree': 3}</td>\n",
       "      <td>-1.247478</td>\n",
       "      <td>0.342367</td>\n",
       "      <td>0.087995</td>\n",
       "      <td>0.457714</td>\n",
       "      <td>0.485683</td>\n",
       "      <td>0.025256</td>\n",
       "      <td>0.651669</td>\n",
       "      <td>22</td>\n",
       "    </tr>\n",
       "    <tr>\n",
       "      <th>3</th>\n",
       "      <td>0.183284</td>\n",
       "      <td>0.012583</td>\n",
       "      <td>0.018421</td>\n",
       "      <td>0.007110</td>\n",
       "      <td>0.0001</td>\n",
       "      <td>4</td>\n",
       "      <td>{'model__alpha': 0.0001, 'polynomial__degree': 4}</td>\n",
       "      <td>-0.668714</td>\n",
       "      <td>-0.567231</td>\n",
       "      <td>-0.347498</td>\n",
       "      <td>-0.037773</td>\n",
       "      <td>-0.634274</td>\n",
       "      <td>-0.451098</td>\n",
       "      <td>0.234933</td>\n",
       "      <td>24</td>\n",
       "    </tr>\n",
       "    <tr>\n",
       "      <th>4</th>\n",
       "      <td>0.007369</td>\n",
       "      <td>0.000461</td>\n",
       "      <td>0.002861</td>\n",
       "      <td>0.000059</td>\n",
       "      <td>0.001</td>\n",
       "      <td>1</td>\n",
       "      <td>{'model__alpha': 0.001, 'polynomial__degree': 1}</td>\n",
       "      <td>0.159187</td>\n",
       "      <td>0.250873</td>\n",
       "      <td>0.110936</td>\n",
       "      <td>0.244761</td>\n",
       "      <td>0.104949</td>\n",
       "      <td>0.174141</td>\n",
       "      <td>0.063057</td>\n",
       "      <td>19</td>\n",
       "    </tr>\n",
       "  </tbody>\n",
       "</table>\n",
       "</div>"
      ],
      "text/plain": [
       "   mean_fit_time  std_fit_time  mean_score_time  std_score_time  \\\n",
       "0       0.006177      0.000751         0.002277        0.000258   \n",
       "1       0.019382      0.012167         0.007192        0.004002   \n",
       "2       0.060526      0.013721         0.013047        0.008871   \n",
       "3       0.183284      0.012583         0.018421        0.007110   \n",
       "4       0.007369      0.000461         0.002861        0.000059   \n",
       "\n",
       "  param_model__alpha param_polynomial__degree  \\\n",
       "0             0.0001                        1   \n",
       "1             0.0001                        2   \n",
       "2             0.0001                        3   \n",
       "3             0.0001                        4   \n",
       "4              0.001                        1   \n",
       "\n",
       "                                              params  split0_test_score  \\\n",
       "0  {'model__alpha': 0.0001, 'polynomial__degree': 1}           0.159186   \n",
       "1  {'model__alpha': 0.0001, 'polynomial__degree': 2}           0.465339   \n",
       "2  {'model__alpha': 0.0001, 'polynomial__degree': 3}          -1.247478   \n",
       "3  {'model__alpha': 0.0001, 'polynomial__degree': 4}          -0.668714   \n",
       "4   {'model__alpha': 0.001, 'polynomial__degree': 1}           0.159187   \n",
       "\n",
       "   split1_test_score  split2_test_score  split3_test_score  split4_test_score  \\\n",
       "0           0.250873           0.110936           0.244761           0.104949   \n",
       "1           0.499733           0.548748           0.606756           0.572296   \n",
       "2           0.342367           0.087995           0.457714           0.485683   \n",
       "3          -0.567231          -0.347498          -0.037773          -0.634274   \n",
       "4           0.250873           0.110936           0.244761           0.104949   \n",
       "\n",
       "   mean_test_score  std_test_score  rank_test_score  \n",
       "0         0.174141        0.063057               20  \n",
       "1         0.538575        0.050520                7  \n",
       "2         0.025256        0.651669               22  \n",
       "3        -0.451098        0.234933               24  \n",
       "4         0.174141        0.063057               19  "
      ]
     },
     "execution_count": 68,
     "metadata": {},
     "output_type": "execute_result"
    }
   ],
   "source": [
    "pd.DataFrame(search.cv_results_).head()"
   ]
  },
  {
   "cell_type": "code",
   "execution_count": 69,
   "id": "d3572e0f",
   "metadata": {
    "execution": {
     "iopub.execute_input": "2023-08-07T15:28:20.528785Z",
     "iopub.status.busy": "2023-08-07T15:28:20.528156Z",
     "iopub.status.idle": "2023-08-07T15:28:20.533508Z",
     "shell.execute_reply": "2023-08-07T15:28:20.532507Z"
    },
    "papermill": {
     "duration": 0.044097,
     "end_time": "2023-08-07T15:28:20.535685",
     "exception": false,
     "start_time": "2023-08-07T15:28:20.491588",
     "status": "completed"
    },
    "tags": []
   },
   "outputs": [
    {
     "name": "stdout",
     "output_type": "stream",
     "text": [
      "best_score_:  0.6377549804708257\n",
      "best_params_:  {'model__alpha': 10, 'polynomial__degree': 4}\n"
     ]
    }
   ],
   "source": [
    "print(\"best_score_: \",search.best_score_)\n",
    "print(\"best_params_: \",search.best_params_)"
   ]
  },
  {
   "cell_type": "code",
   "execution_count": 70,
   "id": "ccb5ff3a",
   "metadata": {
    "execution": {
     "iopub.execute_input": "2023-08-07T15:28:20.609314Z",
     "iopub.status.busy": "2023-08-07T15:28:20.608153Z",
     "iopub.status.idle": "2023-08-07T15:28:20.631513Z",
     "shell.execute_reply": "2023-08-07T15:28:20.630054Z"
    },
    "papermill": {
     "duration": 0.064204,
     "end_time": "2023-08-07T15:28:20.635355",
     "exception": false,
     "start_time": "2023-08-07T15:28:20.571151",
     "status": "completed"
    },
    "tags": []
   },
   "outputs": [
    {
     "data": {
      "text/plain": [
       "array([11406.3583246 ,  8943.0926944 , 20315.89239506,  6649.9554078 ,\n",
       "       28959.16562316, 28783.39283894, 16087.25718283,  7095.78409345,\n",
       "       16489.81681875, 27523.54629523])"
      ]
     },
     "execution_count": 70,
     "metadata": {},
     "output_type": "execute_result"
    }
   ],
   "source": [
    "predict = search.predict(X_test)\n",
    "predict[:10]"
   ]
  },
  {
   "cell_type": "code",
   "execution_count": 71,
   "id": "5661840a",
   "metadata": {
    "execution": {
     "iopub.execute_input": "2023-08-07T15:28:20.767760Z",
     "iopub.status.busy": "2023-08-07T15:28:20.767383Z",
     "iopub.status.idle": "2023-08-07T15:28:20.779828Z",
     "shell.execute_reply": "2023-08-07T15:28:20.779085Z"
    },
    "papermill": {
     "duration": 0.069895,
     "end_time": "2023-08-07T15:28:20.781796",
     "exception": false,
     "start_time": "2023-08-07T15:28:20.711901",
     "status": "completed"
    },
    "tags": []
   },
   "outputs": [
    {
     "data": {
      "text/html": [
       "<style>#sk-container-id-4 {color: black;background-color: white;}#sk-container-id-4 pre{padding: 0;}#sk-container-id-4 div.sk-toggleable {background-color: white;}#sk-container-id-4 label.sk-toggleable__label {cursor: pointer;display: block;width: 100%;margin-bottom: 0;padding: 0.3em;box-sizing: border-box;text-align: center;}#sk-container-id-4 label.sk-toggleable__label-arrow:before {content: \"▸\";float: left;margin-right: 0.25em;color: #696969;}#sk-container-id-4 label.sk-toggleable__label-arrow:hover:before {color: black;}#sk-container-id-4 div.sk-estimator:hover label.sk-toggleable__label-arrow:before {color: black;}#sk-container-id-4 div.sk-toggleable__content {max-height: 0;max-width: 0;overflow: hidden;text-align: left;background-color: #f0f8ff;}#sk-container-id-4 div.sk-toggleable__content pre {margin: 0.2em;color: black;border-radius: 0.25em;background-color: #f0f8ff;}#sk-container-id-4 input.sk-toggleable__control:checked~div.sk-toggleable__content {max-height: 200px;max-width: 100%;overflow: auto;}#sk-container-id-4 input.sk-toggleable__control:checked~label.sk-toggleable__label-arrow:before {content: \"▾\";}#sk-container-id-4 div.sk-estimator input.sk-toggleable__control:checked~label.sk-toggleable__label {background-color: #d4ebff;}#sk-container-id-4 div.sk-label input.sk-toggleable__control:checked~label.sk-toggleable__label {background-color: #d4ebff;}#sk-container-id-4 input.sk-hidden--visually {border: 0;clip: rect(1px 1px 1px 1px);clip: rect(1px, 1px, 1px, 1px);height: 1px;margin: -1px;overflow: hidden;padding: 0;position: absolute;width: 1px;}#sk-container-id-4 div.sk-estimator {font-family: monospace;background-color: #f0f8ff;border: 1px dotted black;border-radius: 0.25em;box-sizing: border-box;margin-bottom: 0.5em;}#sk-container-id-4 div.sk-estimator:hover {background-color: #d4ebff;}#sk-container-id-4 div.sk-parallel-item::after {content: \"\";width: 100%;border-bottom: 1px solid gray;flex-grow: 1;}#sk-container-id-4 div.sk-label:hover label.sk-toggleable__label {background-color: #d4ebff;}#sk-container-id-4 div.sk-serial::before {content: \"\";position: absolute;border-left: 1px solid gray;box-sizing: border-box;top: 0;bottom: 0;left: 50%;z-index: 0;}#sk-container-id-4 div.sk-serial {display: flex;flex-direction: column;align-items: center;background-color: white;padding-right: 0.2em;padding-left: 0.2em;position: relative;}#sk-container-id-4 div.sk-item {position: relative;z-index: 1;}#sk-container-id-4 div.sk-parallel {display: flex;align-items: stretch;justify-content: center;background-color: white;position: relative;}#sk-container-id-4 div.sk-item::before, #sk-container-id-4 div.sk-parallel-item::before {content: \"\";position: absolute;border-left: 1px solid gray;box-sizing: border-box;top: 0;bottom: 0;left: 50%;z-index: -1;}#sk-container-id-4 div.sk-parallel-item {display: flex;flex-direction: column;z-index: 1;position: relative;background-color: white;}#sk-container-id-4 div.sk-parallel-item:first-child::after {align-self: flex-end;width: 50%;}#sk-container-id-4 div.sk-parallel-item:last-child::after {align-self: flex-start;width: 50%;}#sk-container-id-4 div.sk-parallel-item:only-child::after {width: 0;}#sk-container-id-4 div.sk-dashed-wrapped {border: 1px dashed gray;margin: 0 0.4em 0.5em 0.4em;box-sizing: border-box;padding-bottom: 0.4em;background-color: white;}#sk-container-id-4 div.sk-label label {font-family: monospace;font-weight: bold;display: inline-block;line-height: 1.2em;}#sk-container-id-4 div.sk-label-container {text-align: center;}#sk-container-id-4 div.sk-container {/* jupyter's `normalize.less` sets `[hidden] { display: none; }` but bootstrap.min.css set `[hidden] { display: none !important; }` so we also need the `!important` here to be able to override the default hidden behavior on the sphinx rendered scikit-learn.org. See: https://github.com/scikit-learn/scikit-learn/issues/21755 */display: inline-block !important;position: relative;}#sk-container-id-4 div.sk-text-repr-fallback {display: none;}</style><div id=\"sk-container-id-4\" class=\"sk-top-container\"><div class=\"sk-text-repr-fallback\"><pre>Pipeline(steps=[(&#x27;polynomial&#x27;,\n",
       "                 PolynomialFeatures(degree=4, include_bias=False)),\n",
       "                (&#x27;ss&#x27;, StandardScaler()), (&#x27;model&#x27;, Ridge(alpha=10))])</pre><b>In a Jupyter environment, please rerun this cell to show the HTML representation or trust the notebook. <br />On GitHub, the HTML representation is unable to render, please try loading this page with nbviewer.org.</b></div><div class=\"sk-container\" hidden><div class=\"sk-item sk-dashed-wrapped\"><div class=\"sk-label-container\"><div class=\"sk-label sk-toggleable\"><input class=\"sk-toggleable__control sk-hidden--visually\" id=\"sk-estimator-id-11\" type=\"checkbox\" ><label for=\"sk-estimator-id-11\" class=\"sk-toggleable__label sk-toggleable__label-arrow\">Pipeline</label><div class=\"sk-toggleable__content\"><pre>Pipeline(steps=[(&#x27;polynomial&#x27;,\n",
       "                 PolynomialFeatures(degree=4, include_bias=False)),\n",
       "                (&#x27;ss&#x27;, StandardScaler()), (&#x27;model&#x27;, Ridge(alpha=10))])</pre></div></div></div><div class=\"sk-serial\"><div class=\"sk-item\"><div class=\"sk-estimator sk-toggleable\"><input class=\"sk-toggleable__control sk-hidden--visually\" id=\"sk-estimator-id-12\" type=\"checkbox\" ><label for=\"sk-estimator-id-12\" class=\"sk-toggleable__label sk-toggleable__label-arrow\">PolynomialFeatures</label><div class=\"sk-toggleable__content\"><pre>PolynomialFeatures(degree=4, include_bias=False)</pre></div></div></div><div class=\"sk-item\"><div class=\"sk-estimator sk-toggleable\"><input class=\"sk-toggleable__control sk-hidden--visually\" id=\"sk-estimator-id-13\" type=\"checkbox\" ><label for=\"sk-estimator-id-13\" class=\"sk-toggleable__label sk-toggleable__label-arrow\">StandardScaler</label><div class=\"sk-toggleable__content\"><pre>StandardScaler()</pre></div></div></div><div class=\"sk-item\"><div class=\"sk-estimator sk-toggleable\"><input class=\"sk-toggleable__control sk-hidden--visually\" id=\"sk-estimator-id-14\" type=\"checkbox\" ><label for=\"sk-estimator-id-14\" class=\"sk-toggleable__label sk-toggleable__label-arrow\">Ridge</label><div class=\"sk-toggleable__content\"><pre>Ridge(alpha=10)</pre></div></div></div></div></div></div></div>"
      ],
      "text/plain": [
       "Pipeline(steps=[('polynomial',\n",
       "                 PolynomialFeatures(degree=4, include_bias=False)),\n",
       "                ('ss', StandardScaler()), ('model', Ridge(alpha=10))])"
      ]
     },
     "execution_count": 71,
     "metadata": {},
     "output_type": "execute_result"
    }
   ],
   "source": [
    "best=search.best_estimator_\n",
    "best"
   ]
  },
  {
   "cell_type": "code",
   "execution_count": 72,
   "id": "2a8dbe9b",
   "metadata": {
    "execution": {
     "iopub.execute_input": "2023-08-07T15:28:20.856024Z",
     "iopub.status.busy": "2023-08-07T15:28:20.855349Z",
     "iopub.status.idle": "2023-08-07T15:28:20.877550Z",
     "shell.execute_reply": "2023-08-07T15:28:20.876132Z"
    },
    "papermill": {
     "duration": 0.062587,
     "end_time": "2023-08-07T15:28:20.880973",
     "exception": false,
     "start_time": "2023-08-07T15:28:20.818386",
     "status": "completed"
    },
    "tags": []
   },
   "outputs": [
    {
     "data": {
      "text/plain": [
       "array([11406.3583246 ,  8943.0926944 , 20315.89239506,  6649.9554078 ,\n",
       "       28959.16562316, 28783.39283894, 16087.25718283,  7095.78409345,\n",
       "       16489.81681875, 27523.54629523])"
      ]
     },
     "execution_count": 72,
     "metadata": {},
     "output_type": "execute_result"
    }
   ],
   "source": [
    "predict = best.predict(X_test)\n",
    "predict[:10]"
   ]
  },
  {
   "cell_type": "code",
   "execution_count": 73,
   "id": "8f3f89e3",
   "metadata": {
    "execution": {
     "iopub.execute_input": "2023-08-07T15:28:21.013220Z",
     "iopub.status.busy": "2023-08-07T15:28:21.012798Z",
     "iopub.status.idle": "2023-08-07T15:28:21.029300Z",
     "shell.execute_reply": "2023-08-07T15:28:21.027941Z"
    },
    "papermill": {
     "duration": 0.075368,
     "end_time": "2023-08-07T15:28:21.032753",
     "exception": false,
     "start_time": "2023-08-07T15:28:20.957385",
     "status": "completed"
    },
    "tags": []
   },
   "outputs": [
    {
     "data": {
      "text/plain": [
       "0.6753296400107358"
      ]
     },
     "execution_count": 73,
     "metadata": {},
     "output_type": "execute_result"
    }
   ],
   "source": [
    "best.score(X_test, y_test)"
   ]
  }
 ],
 "metadata": {
  "kernelspec": {
   "display_name": "Python 3 (ipykernel)",
   "language": "python",
   "name": "python3"
  },
  "language_info": {
   "codemirror_mode": {
    "name": "ipython",
    "version": 3
   },
   "file_extension": ".py",
   "mimetype": "text/x-python",
   "name": "python",
   "nbconvert_exporter": "python",
   "pygments_lexer": "ipython3",
   "version": "3.8.13"
  },
  "papermill": {
   "default_parameters": {},
   "duration": 28.868868,
   "end_time": "2023-08-07T15:28:23.735884",
   "environment_variables": {},
   "exception": null,
   "input_path": "__notebook__.ipynb",
   "output_path": "__notebook__.ipynb",
   "parameters": {},
   "start_time": "2023-08-07T15:27:54.867016",
   "version": "2.4.0"
  }
 },
 "nbformat": 4,
 "nbformat_minor": 5
}
