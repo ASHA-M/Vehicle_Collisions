{
 "cells": [
  {
   "cell_type": "code",
   "execution_count": 1,
   "id": "187361ee",
   "metadata": {
    "execution": {
     "iopub.execute_input": "2023-09-26T23:00:05.832521Z",
     "iopub.status.busy": "2023-09-26T23:00:05.831991Z",
     "iopub.status.idle": "2023-09-26T23:00:07.346716Z",
     "shell.execute_reply": "2023-09-26T23:00:07.345423Z"
    },
    "papermill": {
     "duration": 1.531772,
     "end_time": "2023-09-26T23:00:07.350029",
     "exception": false,
     "start_time": "2023-09-26T23:00:05.818257",
     "status": "completed"
    },
    "tags": []
   },
   "outputs": [],
   "source": [
    "import pandas as pd\n",
    "import numpy as np\n",
    "import plotly.express as px"
   ]
  },
  {
   "cell_type": "markdown",
   "id": "3af8035c",
   "metadata": {
    "papermill": {
     "duration": 0.007295,
     "end_time": "2023-09-26T23:00:07.365013",
     "exception": false,
     "start_time": "2023-09-26T23:00:07.357718",
     "status": "completed"
    },
    "tags": []
   },
   "source": [
    "# Data Loading"
   ]
  },
  {
   "cell_type": "code",
   "execution_count": 2,
   "id": "85a5ae92",
   "metadata": {
    "execution": {
     "iopub.execute_input": "2023-09-26T23:00:07.382893Z",
     "iopub.status.busy": "2023-09-26T23:00:07.381589Z",
     "iopub.status.idle": "2023-09-26T23:00:07.387414Z",
     "shell.execute_reply": "2023-09-26T23:00:07.386474Z"
    },
    "papermill": {
     "duration": 0.017892,
     "end_time": "2023-09-26T23:00:07.390456",
     "exception": false,
     "start_time": "2023-09-26T23:00:07.372564",
     "status": "completed"
    },
    "tags": []
   },
   "outputs": [],
   "source": [
    "columns_to_read = ['CRASH DATE', 'LATITUDE', 'LONGITUDE', 'NUMBER OF PERSONS INJURED', 'NUMBER OF PERSONS KILLED',\n",
    "                   'NUMBER OF PEDESTRIANS INJURED', 'NUMBER OF PEDESTRIANS KILLED', 'NUMBER OF CYCLIST INJURED',\n",
    "                   'NUMBER OF CYCLIST KILLED', 'NUMBER OF MOTORIST INJURED', 'NUMBER OF MOTORIST KILLED',\n",
    "                   'CONTRIBUTING FACTOR VEHICLE 1', 'VEHICLE TYPE CODE 1']"
   ]
  },
  {
   "cell_type": "code",
   "execution_count": 3,
   "id": "5b437d97",
   "metadata": {
    "execution": {
     "iopub.execute_input": "2023-09-26T23:00:07.408154Z",
     "iopub.status.busy": "2023-09-26T23:00:07.407457Z",
     "iopub.status.idle": "2023-09-26T23:00:07.440687Z",
     "shell.execute_reply": "2023-09-26T23:00:07.439655Z"
    },
    "papermill": {
     "duration": 0.045239,
     "end_time": "2023-09-26T23:00:07.443391",
     "exception": false,
     "start_time": "2023-09-26T23:00:07.398152",
     "status": "completed"
    },
    "tags": []
   },
   "outputs": [],
   "source": [
    "df = pd.read_csv('/kaggle/input/motor-vehicle-collisions-crashes/Motor_Vehicle_Collisions_-_Crashes.csv', sep=',', nrows=500, usecols=columns_to_read)"
   ]
  },
  {
   "cell_type": "code",
   "execution_count": 4,
   "id": "9216503b",
   "metadata": {
    "execution": {
     "iopub.execute_input": "2023-09-26T23:00:07.461326Z",
     "iopub.status.busy": "2023-09-26T23:00:07.460389Z",
     "iopub.status.idle": "2023-09-26T23:00:07.491630Z",
     "shell.execute_reply": "2023-09-26T23:00:07.490333Z"
    },
    "papermill": {
     "duration": 0.043296,
     "end_time": "2023-09-26T23:00:07.494620",
     "exception": false,
     "start_time": "2023-09-26T23:00:07.451324",
     "status": "completed"
    },
    "tags": []
   },
   "outputs": [
    {
     "data": {
      "text/html": [
       "<div>\n",
       "<style scoped>\n",
       "    .dataframe tbody tr th:only-of-type {\n",
       "        vertical-align: middle;\n",
       "    }\n",
       "\n",
       "    .dataframe tbody tr th {\n",
       "        vertical-align: top;\n",
       "    }\n",
       "\n",
       "    .dataframe thead th {\n",
       "        text-align: right;\n",
       "    }\n",
       "</style>\n",
       "<table border=\"1\" class=\"dataframe\">\n",
       "  <thead>\n",
       "    <tr style=\"text-align: right;\">\n",
       "      <th></th>\n",
       "      <th>CRASH DATE</th>\n",
       "      <th>LATITUDE</th>\n",
       "      <th>LONGITUDE</th>\n",
       "      <th>NUMBER OF PERSONS INJURED</th>\n",
       "      <th>NUMBER OF PERSONS KILLED</th>\n",
       "      <th>NUMBER OF PEDESTRIANS INJURED</th>\n",
       "      <th>NUMBER OF PEDESTRIANS KILLED</th>\n",
       "      <th>NUMBER OF CYCLIST INJURED</th>\n",
       "      <th>NUMBER OF CYCLIST KILLED</th>\n",
       "      <th>NUMBER OF MOTORIST INJURED</th>\n",
       "      <th>NUMBER OF MOTORIST KILLED</th>\n",
       "      <th>CONTRIBUTING FACTOR VEHICLE 1</th>\n",
       "      <th>VEHICLE TYPE CODE 1</th>\n",
       "    </tr>\n",
       "  </thead>\n",
       "  <tbody>\n",
       "    <tr>\n",
       "      <th>0</th>\n",
       "      <td>09/11/2021</td>\n",
       "      <td>NaN</td>\n",
       "      <td>NaN</td>\n",
       "      <td>2</td>\n",
       "      <td>0</td>\n",
       "      <td>0</td>\n",
       "      <td>0</td>\n",
       "      <td>0</td>\n",
       "      <td>0</td>\n",
       "      <td>2</td>\n",
       "      <td>0</td>\n",
       "      <td>Aggressive Driving/Road Rage</td>\n",
       "      <td>Sedan</td>\n",
       "    </tr>\n",
       "    <tr>\n",
       "      <th>1</th>\n",
       "      <td>03/26/2022</td>\n",
       "      <td>NaN</td>\n",
       "      <td>NaN</td>\n",
       "      <td>1</td>\n",
       "      <td>0</td>\n",
       "      <td>0</td>\n",
       "      <td>0</td>\n",
       "      <td>0</td>\n",
       "      <td>0</td>\n",
       "      <td>1</td>\n",
       "      <td>0</td>\n",
       "      <td>Pavement Slippery</td>\n",
       "      <td>Sedan</td>\n",
       "    </tr>\n",
       "    <tr>\n",
       "      <th>2</th>\n",
       "      <td>06/29/2022</td>\n",
       "      <td>NaN</td>\n",
       "      <td>NaN</td>\n",
       "      <td>0</td>\n",
       "      <td>0</td>\n",
       "      <td>0</td>\n",
       "      <td>0</td>\n",
       "      <td>0</td>\n",
       "      <td>0</td>\n",
       "      <td>0</td>\n",
       "      <td>0</td>\n",
       "      <td>Following Too Closely</td>\n",
       "      <td>Sedan</td>\n",
       "    </tr>\n",
       "    <tr>\n",
       "      <th>3</th>\n",
       "      <td>09/11/2021</td>\n",
       "      <td>40.667202</td>\n",
       "      <td>-73.866500</td>\n",
       "      <td>0</td>\n",
       "      <td>0</td>\n",
       "      <td>0</td>\n",
       "      <td>0</td>\n",
       "      <td>0</td>\n",
       "      <td>0</td>\n",
       "      <td>0</td>\n",
       "      <td>0</td>\n",
       "      <td>Unspecified</td>\n",
       "      <td>Sedan</td>\n",
       "    </tr>\n",
       "    <tr>\n",
       "      <th>4</th>\n",
       "      <td>12/14/2021</td>\n",
       "      <td>40.683304</td>\n",
       "      <td>-73.917274</td>\n",
       "      <td>0</td>\n",
       "      <td>0</td>\n",
       "      <td>0</td>\n",
       "      <td>0</td>\n",
       "      <td>0</td>\n",
       "      <td>0</td>\n",
       "      <td>0</td>\n",
       "      <td>0</td>\n",
       "      <td>NaN</td>\n",
       "      <td>NaN</td>\n",
       "    </tr>\n",
       "  </tbody>\n",
       "</table>\n",
       "</div>"
      ],
      "text/plain": [
       "   CRASH DATE   LATITUDE  LONGITUDE  NUMBER OF PERSONS INJURED  \\\n",
       "0  09/11/2021        NaN        NaN                          2   \n",
       "1  03/26/2022        NaN        NaN                          1   \n",
       "2  06/29/2022        NaN        NaN                          0   \n",
       "3  09/11/2021  40.667202 -73.866500                          0   \n",
       "4  12/14/2021  40.683304 -73.917274                          0   \n",
       "\n",
       "   NUMBER OF PERSONS KILLED  NUMBER OF PEDESTRIANS INJURED  \\\n",
       "0                         0                              0   \n",
       "1                         0                              0   \n",
       "2                         0                              0   \n",
       "3                         0                              0   \n",
       "4                         0                              0   \n",
       "\n",
       "   NUMBER OF PEDESTRIANS KILLED  NUMBER OF CYCLIST INJURED  \\\n",
       "0                             0                          0   \n",
       "1                             0                          0   \n",
       "2                             0                          0   \n",
       "3                             0                          0   \n",
       "4                             0                          0   \n",
       "\n",
       "   NUMBER OF CYCLIST KILLED  NUMBER OF MOTORIST INJURED  \\\n",
       "0                         0                           2   \n",
       "1                         0                           1   \n",
       "2                         0                           0   \n",
       "3                         0                           0   \n",
       "4                         0                           0   \n",
       "\n",
       "   NUMBER OF MOTORIST KILLED CONTRIBUTING FACTOR VEHICLE 1 VEHICLE TYPE CODE 1  \n",
       "0                          0  Aggressive Driving/Road Rage               Sedan  \n",
       "1                          0             Pavement Slippery               Sedan  \n",
       "2                          0         Following Too Closely               Sedan  \n",
       "3                          0                   Unspecified               Sedan  \n",
       "4                          0                           NaN                 NaN  "
      ]
     },
     "execution_count": 4,
     "metadata": {},
     "output_type": "execute_result"
    }
   ],
   "source": [
    "df.head()"
   ]
  },
  {
   "cell_type": "markdown",
   "id": "cdba61de",
   "metadata": {
    "papermill": {
     "duration": 0.007576,
     "end_time": "2023-09-26T23:00:07.510101",
     "exception": false,
     "start_time": "2023-09-26T23:00:07.502525",
     "status": "completed"
    },
    "tags": []
   },
   "source": [
    "# Data Cleaning"
   ]
  },
  {
   "cell_type": "markdown",
   "id": "926324a2",
   "metadata": {
    "papermill": {
     "duration": 0.008049,
     "end_time": "2023-09-26T23:00:07.526765",
     "exception": false,
     "start_time": "2023-09-26T23:00:07.518716",
     "status": "completed"
    },
    "tags": []
   },
   "source": [
    "## Removing Rows with Missing Contributing Factors\n",
    "\n",
    "This code performs data cleaning on a DataFrame (`df`) containing information about vehicle accidents. The objective is to remove rows where the 'CONTRIBUTING FACTOR VEHICLE 1' column has missing values.\n",
    "\n",
    "Here's a summary of what this code accomplishes:\n",
    "\n",
    "- **Data Integrity**: The 'CONTRIBUTING FACTOR VEHICLE 1' column is a critical attribute that identifies the primary contributing factors in each accident. To maintain data integrity and ensure meaningful analysis, it's essential to remove rows with missing values in this column.\n",
    "\n",
    "- **Drop Rows**: The `dropna()` function is used with `axis='rows'` and `subset=['CONTRIBUTING FACTOR VEHICLE 1']` to drop rows that have missing values specifically in the 'CONTRIBUTING FACTOR VEHICLE 1' column."
   ]
  },
  {
   "cell_type": "code",
   "execution_count": 5,
   "id": "1d41e3f9",
   "metadata": {
    "execution": {
     "iopub.execute_input": "2023-09-26T23:00:07.545178Z",
     "iopub.status.busy": "2023-09-26T23:00:07.544433Z",
     "iopub.status.idle": "2023-09-26T23:00:07.561302Z",
     "shell.execute_reply": "2023-09-26T23:00:07.560240Z"
    },
    "papermill": {
     "duration": 0.028974,
     "end_time": "2023-09-26T23:00:07.563943",
     "exception": false,
     "start_time": "2023-09-26T23:00:07.534969",
     "status": "completed"
    },
    "tags": []
   },
   "outputs": [],
   "source": [
    "df = df.dropna(axis='rows', subset=['CONTRIBUTING FACTOR VEHICLE 1'])"
   ]
  },
  {
   "cell_type": "markdown",
   "id": "b66dc543",
   "metadata": {
    "papermill": {
     "duration": 0.007512,
     "end_time": "2023-09-26T23:00:07.579610",
     "exception": false,
     "start_time": "2023-09-26T23:00:07.572098",
     "status": "completed"
    },
    "tags": []
   },
   "source": [
    "# Data Preprocessing"
   ]
  },
  {
   "cell_type": "markdown",
   "id": "0efa49ce",
   "metadata": {
    "papermill": {
     "duration": 0.007591,
     "end_time": "2023-09-26T23:00:07.595103",
     "exception": false,
     "start_time": "2023-09-26T23:00:07.587512",
     "status": "completed"
    },
    "tags": []
   },
   "source": [
    "## Calculation of Total Injuries and Fatalities\n",
    "\n",
    "This code snippet calculates the total number of injuries and fatalities resulting from various categories of accidents. The data is sourced from a DataFrame (`df`), and the following columns are considered:\n",
    "\n",
    "- `NUMBER OF PERSONS INJURED`\n",
    "- `NUMBER OF PERSONS KILLED`\n",
    "- `NUMBER OF PEDESTRIANS INJURED`\n",
    "- `NUMBER OF PEDESTRIANS KILLED`\n",
    "- `NUMBER OF CYCLIST INJURED`\n",
    "- `NUMBER OF CYCLIST KILLED`\n",
    "- `NUMBER OF MOTORIST INJURED`\n",
    "- `NUMBER OF MOTORIST KILLED`\n",
    "\n",
    "By adding these columns together, a new column, `NUMBER_OF_INJURED_OR_KILLED`, is created in the DataFrame. This column represents the total count of individuals who have been injured or killed in a range of accidents."
   ]
  },
  {
   "cell_type": "code",
   "execution_count": 6,
   "id": "9b24fe7d",
   "metadata": {
    "execution": {
     "iopub.execute_input": "2023-09-26T23:00:07.615073Z",
     "iopub.status.busy": "2023-09-26T23:00:07.614648Z",
     "iopub.status.idle": "2023-09-26T23:00:07.622667Z",
     "shell.execute_reply": "2023-09-26T23:00:07.621290Z"
    },
    "papermill": {
     "duration": 0.02219,
     "end_time": "2023-09-26T23:00:07.626309",
     "exception": false,
     "start_time": "2023-09-26T23:00:07.604119",
     "status": "completed"
    },
    "tags": []
   },
   "outputs": [],
   "source": [
    "df['NUMBER_OF_INJURED_OR_KILLED'] = df['NUMBER OF PERSONS INJURED'] + df['NUMBER OF PERSONS KILLED'] + df[\n",
    "    'NUMBER OF PEDESTRIANS INJURED'] + df['NUMBER OF PEDESTRIANS KILLED'] + df['NUMBER OF CYCLIST INJURED'] + df[\n",
    "                                        'NUMBER OF CYCLIST KILLED'] + df['NUMBER OF MOTORIST INJURED'] + df[\n",
    "                                        'NUMBER OF MOTORIST KILLED']\n"
   ]
  },
  {
   "cell_type": "markdown",
   "id": "92f4d788",
   "metadata": {
    "papermill": {
     "duration": 0.007522,
     "end_time": "2023-09-26T23:00:07.642175",
     "exception": false,
     "start_time": "2023-09-26T23:00:07.634653",
     "status": "completed"
    },
    "tags": []
   },
   "source": [
    "## Filling Missing Dates and Handling Missing Values\n",
    "\n",
    "This code performs essential data preprocessing steps on a DataFrame (`df`) containing information about vehicle accidents. The objective is to create a complete date range, merge it with the original data, and fill in missing values.\n",
    "\n",
    "Here's a breakdown of what each step does:\n",
    "\n",
    "1. **Convert to Datetime**: The 'CRASH DATE' column is converted to datetime format using `pd.to_datetime()`. This ensures that the dates are treated as datetime objects for subsequent operations.\n",
    "\n",
    "2. **Define Date Range**: A complete date range is defined based on the minimum and maximum dates found in the 'CRASH DATE' column. This range encompasses all possible dates within the dataset.\n",
    "\n",
    "3. **Create Complete DataFrame**: A new DataFrame (`complete_df`) is created with the complete date range. This DataFrame serves as a template with all possible dates.\n",
    "\n",
    "4. **Merge Data**: The complete date DataFrame is merged with the original data (`df`) using a left join on the 'CRASH DATE' column. This ensures that each date in the complete range is associated with the corresponding data from the original DataFrame.\n",
    "\n",
    "5. **Fill Missing Values**: Any missing values in the 'NUMBER_OF_INJURED_OR_KILLED' column are filled with 0 in the merged DataFrame (`merged_df`).\n",
    "\n",
    "These preprocessing steps are crucial for ensuring that the data is ready for analysis and visualization, as they help handle missing dates and values, ensuring a complete and consistent dataset.\n"
   ]
  },
  {
   "cell_type": "code",
   "execution_count": 7,
   "id": "92d2ab4b",
   "metadata": {
    "execution": {
     "iopub.execute_input": "2023-09-26T23:00:07.663137Z",
     "iopub.status.busy": "2023-09-26T23:00:07.661499Z",
     "iopub.status.idle": "2023-09-26T23:00:07.699170Z",
     "shell.execute_reply": "2023-09-26T23:00:07.697430Z"
    },
    "papermill": {
     "duration": 0.051102,
     "end_time": "2023-09-26T23:00:07.702210",
     "exception": false,
     "start_time": "2023-09-26T23:00:07.651108",
     "status": "completed"
    },
    "tags": []
   },
   "outputs": [],
   "source": [
    "# Convert 'CRASH DATE' column to datetime\n",
    "df['CRASH DATE'] = pd.to_datetime(df['CRASH DATE'])\n",
    "\n",
    "# Define a complete date range\n",
    "date_range = pd.date_range(start=df['CRASH DATE'].min(), end=df['CRASH DATE'].max())\n",
    "\n",
    "# Create a DataFrame with complete dates\n",
    "complete_df = pd.DataFrame({'CRASH DATE': date_range})\n",
    "\n",
    "# Merge the complete date DataFrame with your data\n",
    "merged_df = complete_df.merge(df, on='CRASH DATE', how='left')\n",
    "\n",
    "# Fill missing vales with 0\n",
    "merged_df = merged_df['NUMBER_OF_INJURED_OR_KILLED'].fillna(0)"
   ]
  },
  {
   "cell_type": "markdown",
   "id": "e58d3c88",
   "metadata": {
    "papermill": {
     "duration": 0.008276,
     "end_time": "2023-09-26T23:00:07.718742",
     "exception": false,
     "start_time": "2023-09-26T23:00:07.710466",
     "status": "completed"
    },
    "tags": []
   },
   "source": [
    "# Data Visualisation"
   ]
  },
  {
   "cell_type": "markdown",
   "id": "a53bbdab",
   "metadata": {
    "papermill": {
     "duration": 0.007904,
     "end_time": "2023-09-26T23:00:07.736080",
     "exception": false,
     "start_time": "2023-09-26T23:00:07.728176",
     "status": "completed"
    },
    "tags": []
   },
   "source": [
    "## New York City Vehicle Accidents Map\n",
    "\n",
    "This code snippet utilizes Plotly Express (`px`) to create an interactive scatter map visualization for exploring vehicle accidents in New York City. The data is sourced from a DataFrame (`df`) and mapped based on latitude and longitude coordinates.\n",
    "\n",
    "**Key Features:**\n",
    "\n",
    "- **Location Mapping**: The latitude (`LATITUDE`) and longitude (`LONGITUDE`) columns are used to pinpoint the exact locations of each vehicle accident on the map.\n",
    "\n",
    "- **Hover Information**: When hovering over data points on the map, additional details such as the 'CRASH DATE,' 'NUMBER_OF_INJURED_OR_KILLED,' and 'CONTRIBUTING FACTOR VEHICLE 1' are displayed, providing valuable insights into each accident.\n",
    "\n",
    "- **Map Center and Zoom**: The map is centered on New York City, and its initial zoom level is set to provide a comprehensive view of the city's accidents. You can adjust the zoom level to focus on specific areas of interest.\n",
    "\n",
    "This interactive map visualization allows users to explore the spatial distribution of vehicle accidents in New York City, identify accident patterns, and gain insights into contributing factors, all within an interactive and visually engaging environment.\n"
   ]
  },
  {
   "cell_type": "code",
   "execution_count": 8,
   "id": "836684ac",
   "metadata": {
    "execution": {
     "iopub.execute_input": "2023-09-26T23:00:07.755822Z",
     "iopub.status.busy": "2023-09-26T23:00:07.755342Z",
     "iopub.status.idle": "2023-09-26T23:00:10.049052Z",
     "shell.execute_reply": "2023-09-26T23:00:10.047884Z"
    },
    "papermill": {
     "duration": 2.307117,
     "end_time": "2023-09-26T23:00:10.052196",
     "exception": false,
     "start_time": "2023-09-26T23:00:07.745079",
     "status": "completed"
    },
    "tags": []
   },
   "outputs": [
    {
     "data": {
      "text/html": [
       "        <script type=\"text/javascript\">\n",
       "        window.PlotlyConfig = {MathJaxConfig: 'local'};\n",
       "        if (window.MathJax && window.MathJax.Hub && window.MathJax.Hub.Config) {window.MathJax.Hub.Config({SVG: {font: \"STIX-Web\"}});}\n",
       "        if (typeof require !== 'undefined') {\n",
       "        require.undef(\"plotly\");\n",
       "        requirejs.config({\n",
       "            paths: {\n",
       "                'plotly': ['https://cdn.plot.ly/plotly-2.24.1.min']\n",
       "            }\n",
       "        });\n",
       "        require(['plotly'], function(Plotly) {\n",
       "            window._Plotly = Plotly;\n",
       "        });\n",
       "        }\n",
       "        </script>\n",
       "        "
      ]
     },
     "metadata": {},
     "output_type": "display_data"
    },
    {
     "data": {
      "text/html": [
       "<div>                            <div id=\"60051d55-2ee6-4869-a8c0-3f55bb22f78a\" class=\"plotly-graph-div\" style=\"height:700px; width:700px;\"></div>            <script type=\"text/javascript\">                require([\"plotly\"], function(Plotly) {                    window.PLOTLYENV=window.PLOTLYENV || {};                                    if (document.getElementById(\"60051d55-2ee6-4869-a8c0-3f55bb22f78a\")) {                    Plotly.newPlot(                        \"60051d55-2ee6-4869-a8c0-3f55bb22f78a\",                        [{\"customdata\":[[4,\"Aggressive Driving\\u002fRoad Rage\"],[2,\"Pavement Slippery\"],[0,\"Following Too Closely\"],[0,\"Unspecified\"],[0,\"Unspecified\"],[0,\"Passing Too Closely\"],[4,\"Unspecified\"],[0,\"Driver Inexperience\"],[0,\"Passing Too Closely\"],[0,\"Passing or Lane Usage Improper\"],[0,\"Turning Improperly\"],[0,\"Unsafe Lane Changing\"],[0,\"Unsafe Speed\"],[4,\"Reaction to Uninvolved Vehicle\"],[0,\"Passing Too Closely\"],[8,\"Steering Failure\"],[6,\"Traffic Control Disregarded\"],[2,\"Unspecified\"],[0,\"Following Too Closely\"],[0,\"Following Too Closely\"],[2,\"Other Vehicular\"],[0,\"Unspecified\"],[2,\"Unspecified\"],[2,\"Unspecified\"],[2,\"Unspecified\"],[0,\"Passing Too Closely\"],[2,\"Unspecified\"],[2,\"Passing or Lane Usage Improper\"],[0,\"Driver Inattention\\u002fDistraction\"],[0,\"Passing Too Closely\"],[2,\"Driver Inattention\\u002fDistraction\"],[0,\"Driver Inattention\\u002fDistraction\"],[2,\"Traffic Control Disregarded\"],[2,\"Driver Inattention\\u002fDistraction\"],[0,\"Pavement Slippery\"],[2,\"Unsafe Lane Changing\"],[0,\"Oversized Vehicle\"],[0,\"Pedestrian\\u002fBicyclist\\u002fOther Pedestrian Error\\u002fConfusion\"],[2,\"Unspecified\"],[2,\"Driver Inattention\\u002fDistraction\"],[0,\"Unspecified\"],[2,\"Traffic Control Disregarded\"],[0,\"Unspecified\"],[0,\"Unsafe Lane Changing\"],[0,\"Alcohol Involvement\"],[0,\"Driver Inattention\\u002fDistraction\"],[1,\"Driver Inattention\\u002fDistraction\"],[0,\"Unspecified\"],[0,\"Driver Inattention\\u002fDistraction\"],[0,\"Unspecified\"],[2,\"View Obstructed\\u002fLimited\"],[2,\"Unspecified\"],[0,\"Turning Improperly\"],[2,\"Traffic Control Disregarded\"],[0,\"Driver Inexperience\"],[0,\"Unspecified\"],[2,\"Failure to Yield Right-of-Way\"],[2,\"Driver Inattention\\u002fDistraction\"],[0,\"Aggressive Driving\\u002fRoad Rage\"],[2,\"Driver Inattention\\u002fDistraction\"],[2,\"Traffic Control Disregarded\"],[2,\"Driver Inattention\\u002fDistraction\"],[0,\"Reaction to Uninvolved Vehicle\"],[0,\"Driver Inattention\\u002fDistraction\"],[0,\"Passing or Lane Usage Improper\"],[2,\"Driver Inattention\\u002fDistraction\"],[0,\"Unspecified\"],[2,\"Alcohol Involvement\"],[0,\"Unsafe Speed\"],[0,\"Driver Inattention\\u002fDistraction\"],[0,\"Failure to Yield Right-of-Way\"],[2,\"Driver Inattention\\u002fDistraction\"],[0,\"Unsafe Speed\"],[0,\"Passing or Lane Usage Improper\"],[0,\"Steering Failure\"],[0,\"Following Too Closely\"],[0,\"Following Too Closely\"],[0,\"Unspecified\"],[2,\"Following Too Closely\"],[2,\"Passing or Lane Usage Improper\"],[0,\"Unsafe Lane Changing\"],[8,\"Unsafe Speed\"],[0,\"Pavement Slippery\"],[0,\"Unspecified\"],[0,\"Driver Inattention\\u002fDistraction\"],[0,\"View Obstructed\\u002fLimited\"],[0,\"Passing Too Closely\"],[0,\"Oversized Vehicle\"],[0,\"Driver Inattention\\u002fDistraction\"],[2,\"Unspecified\"],[0,\"Passing or Lane Usage Improper\"],[0,\"Illnes\"],[4,\"Traffic Control Disregarded\"],[0,\"Driver Inattention\\u002fDistraction\"],[2,\"Traffic Control Disregarded\"],[2,\"Lost Consciousness\"],[2,\"Following Too Closely\"],[2,\"Following Too Closely\"],[0,\"Failure to Yield Right-of-Way\"],[0,\"Driver Inattention\\u002fDistraction\"],[4,\"Failure to Yield Right-of-Way\"],[0,\"Unspecified\"],[4,\"Alcohol Involvement\"],[0,\"Driver Inattention\\u002fDistraction\"],[0,\"Unsafe Speed\"],[2,\"Unsafe Speed\"],[0,\"Unspecified\"],[8,\"Other Vehicular\"],[2,\"Unspecified\"],[0,\"Brakes Defective\"],[4,\"Failure to Yield Right-of-Way\"],[0,\"Passing Too Closely\"],[0,\"Driver Inattention\\u002fDistraction\"],[0,\"Passing or Lane Usage Improper\"],[0,\"Following Too Closely\"],[2,\"Failure to Yield Right-of-Way\"],[0,\"Driver Inattention\\u002fDistraction\"],[2,\"Traffic Control Disregarded\"],[0,\"Backing Unsafely\"],[0,\"Unspecified\"],[0,\"Driver Inattention\\u002fDistraction\"],[2,\"Driver Inattention\\u002fDistraction\"],[0,\"Unsafe Speed\"],[2,\"Aggressive Driving\\u002fRoad Rage\"],[2,\"Driver Inattention\\u002fDistraction\"],[2,\"Following Too Closely\"],[2,\"Traffic Control Disregarded\"],[0,\"Following Too Closely\"],[2,\"Traffic Control Disregarded\"],[2,\"Driver Inattention\\u002fDistraction\"],[0,\"Driver Inattention\\u002fDistraction\"],[4,\"Unspecified\"],[2,\"Unspecified\"],[0,\"Passing Too Closely\"],[0,\"Driver Inattention\\u002fDistraction\"],[2,\"Unspecified\"],[2,\"Unspecified\"],[0,\"Unspecified\"],[0,\"Unspecified\"],[0,\"Turning Improperly\"],[0,\"Unspecified\"],[0,\"Unspecified\"],[2,\"Unspecified\"],[0,\"Driver Inattention\\u002fDistraction\"],[8,\"Passing Too Closely\"],[0,\"Traffic Control Disregarded\"],[2,\"Unspecified\"],[0,\"Following Too Closely\"],[0,\"Glare\"],[0,\"Driver Inattention\\u002fDistraction\"],[2,\"Passenger Distraction\"],[0,\"Failure to Yield Right-of-Way\"],[4,\"Unspecified\"],[0,\"Passing or Lane Usage Improper\"],[2,\"Reaction to Uninvolved Vehicle\"],[2,\"Failure to Yield Right-of-Way\"],[0,\"Backing Unsafely\"],[0,\"Backing Unsafely\"],[0,\"Driver Inattention\\u002fDistraction\"],[4,\"Passing or Lane Usage Improper\"],[0,\"Driver Inattention\\u002fDistraction\"],[2,\"Reaction to Uninvolved Vehicle\"],[2,\"Backing Unsafely\"],[0,\"Passing or Lane Usage Improper\"],[0,\"Following Too Closely\"],[0,\"Driver Inattention\\u002fDistraction\"],[2,\"Driver Inattention\\u002fDistraction\"],[0,\"Fell Asleep\"],[0,\"Unspecified\"],[0,\"Failure to Yield Right-of-Way\"],[0,\"Driver Inattention\\u002fDistraction\"],[2,\"Driver Inattention\\u002fDistraction\"],[2,\"Failure to Yield Right-of-Way\"],[0,\"Driver Inattention\\u002fDistraction\"],[0,\"Unsafe Speed\"],[0,\"Unsafe Speed\"],[2,\"Failure to Yield Right-of-Way\"],[0,\"Passing or Lane Usage Improper\"],[0,\"Unspecified\"],[0,\"Driver Inattention\\u002fDistraction\"],[2,\"Traffic Control Disregarded\"],[0,\"Following Too Closely\"],[0,\"Unspecified\"],[0,\"Unspecified\"],[2,\"Following Too Closely\"],[0,\"Unsafe Speed\"],[2,\"Unsafe Speed\"],[2,\"Driver Inattention\\u002fDistraction\"],[2,\"Turning Improperly\"],[0,\"Passing or Lane Usage Improper\"],[2,\"Alcohol Involvement\"],[0,\"Passing or Lane Usage Improper\"],[0,\"Unspecified\"],[0,\"Driver Inattention\\u002fDistraction\"],[2,\"Following Too Closely\"],[0,\"Driver Inattention\\u002fDistraction\"],[0,\"Unspecified\"],[0,\"Passing or Lane Usage Improper\"],[0,\"Unspecified\"],[0,\"Alcohol Involvement\"],[0,\"Unsafe Speed\"],[0,\"Unsafe Speed\"],[0,\"Driver Inattention\\u002fDistraction\"],[0,\"Passing or Lane Usage Improper\"],[0,\"Unspecified\"],[0,\"Unspecified\"],[0,\"Backing Unsafely\"],[0,\"Unspecified\"],[0,\"Other Vehicular\"],[0,\"Unspecified\"],[2,\"Traffic Control Disregarded\"],[0,\"Unspecified\"],[0,\"Following Too Closely\"],[0,\"Driver Inattention\\u002fDistraction\"],[2,\"Failure to Yield Right-of-Way\"],[0,\"Unsafe Lane Changing\"],[0,\"Driver Inattention\\u002fDistraction\"],[0,\"Passing Too Closely\"],[0,\"Unspecified\"],[2,\"Other Vehicular\"],[0,\"Unspecified\"],[0,\"Unspecified\"],[0,\"Following Too Closely\"],[0,\"Unsafe Speed\"],[0,\"Failure to Yield Right-of-Way\"],[4,\"Driver Inattention\\u002fDistraction\"],[0,\"Unspecified\"],[2,\"Pedestrian\\u002fBicyclist\\u002fOther Pedestrian Error\\u002fConfusion\"],[2,\"Following Too Closely\"],[0,\"Unspecified\"],[2,\"Alcohol Involvement\"],[0,\"Passing Too Closely\"],[0,\"Unspecified\"],[0,\"Unspecified\"],[0,\"Passing or Lane Usage Improper\"],[0,\"Driver Inexperience\"],[0,\"Unspecified\"],[0,\"Unspecified\"],[0,\"Alcohol Involvement\"],[2,\"Unspecified\"],[0,\"Passing Too Closely\"],[0,\"Following Too Closely\"],[2,\"Driver Inattention\\u002fDistraction\"],[0,\"Turning Improperly\"],[0,\"Passing or Lane Usage Improper\"],[2,\"Reaction to Uninvolved Vehicle\"],[2,\"Other Vehicular\"],[0,\"Passing Too Closely\"],[0,\"Backing Unsafely\"],[2,\"Driver Inattention\\u002fDistraction\"],[0,\"Unspecified\"],[0,\"Turning Improperly\"],[0,\"Passing Too Closely\"],[0,\"Unspecified\"],[2,\"Lost Consciousness\"],[2,\"Unsafe Speed\"],[0,\"Unspecified\"],[2,\"Passing or Lane Usage Improper\"],[0,\"Driver Inattention\\u002fDistraction\"],[0,\"Driver Inattention\\u002fDistraction\"],[0,\"Following Too Closely\"],[0,\"Unspecified\"],[0,\"Driver Inattention\\u002fDistraction\"],[0,\"Driver Inexperience\"],[0,\"Alcohol Involvement\"],[0,\"Following Too Closely\"],[2,\"Traffic Control Disregarded\"],[0,\"Following Too Closely\"],[2,\"Unspecified\"],[4,\"Failure to Yield Right-of-Way\"],[0,\"Traffic Control Disregarded\"],[0,\"Other Vehicular\"],[0,\"Driver Inattention\\u002fDistraction\"],[0,\"Unspecified\"],[2,\"Driver Inattention\\u002fDistraction\"],[2,\"Unspecified\"],[2,\"Driver Inexperience\"],[0,\"Backing Unsafely\"],[2,\"Following Too Closely\"],[2,\"Passing or Lane Usage Improper\"],[4,\"Following Too Closely\"],[0,\"Other Vehicular\"],[1,\"Driver Inattention\\u002fDistraction\"],[0,\"Backing Unsafely\"],[2,\"Driver Inattention\\u002fDistraction\"],[0,\"Passing Too Closely\"],[2,\"Lost Consciousness\"],[2,\"Driver Inattention\\u002fDistraction\"],[0,\"Following Too Closely\"],[0,\"Backing Unsafely\"],[0,\"Unspecified\"],[2,\"Driver Inattention\\u002fDistraction\"],[0,\"Unsafe Speed\"],[0,\"Failure to Yield Right-of-Way\"],[0,\"Driver Inattention\\u002fDistraction\"],[0,\"Failure to Yield Right-of-Way\"],[0,\"Driver Inattention\\u002fDistraction\"],[0,\"Passing Too Closely\"],[0,\"Obstruction\\u002fDebris\"],[0,\"Driver Inexperience\"],[0,\"Turning Improperly\"],[0,\"Unspecified\"],[2,\"View Obstructed\\u002fLimited\"],[2,\"Unspecified\"],[2,\"Unspecified\"],[0,\"Passing or Lane Usage Improper\"],[0,\"Unspecified\"],[0,\"Driver Inattention\\u002fDistraction\"],[2,\"Lost Consciousness\"],[0,\"Aggressive Driving\\u002fRoad Rage\"],[0,\"Backing Unsafely\"],[0,\"Unspecified\"],[0,\"Unsafe Lane Changing\"],[0,\"Unspecified\"],[0,\"Driver Inattention\\u002fDistraction\"],[2,\"Driver Inattention\\u002fDistraction\"],[2,\"Unsafe Speed\"],[2,\"Alcohol Involvement\"],[2,\"Failure to Yield Right-of-Way\"],[0,\"Unsafe Speed\"],[0,\"Traffic Control Disregarded\"],[2,\"Failure to Yield Right-of-Way\"],[4,\"Driver Inattention\\u002fDistraction\"],[0,\"Unsafe Speed\"],[0,\"Unspecified\"],[0,\"Unspecified\"],[0,\"Driver Inattention\\u002fDistraction\"],[0,\"Passing Too Closely\"],[0,\"Turning Improperly\"],[0,\"Unsafe Speed\"],[0,\"Passing Too Closely\"],[0,\"Passing or Lane Usage Improper\"],[0,\"Failure to Yield Right-of-Way\"],[0,\"Driver Inattention\\u002fDistraction\"],[2,\"Driver Inattention\\u002fDistraction\"],[0,\"Backing Unsafely\"],[4,\"Driver Inattention\\u002fDistraction\"],[0,\"Driver Inattention\\u002fDistraction\"],[2,\"Unspecified\"],[0,\"Driver Inexperience\"],[2,\"Driver Inattention\\u002fDistraction\"],[0,\"Other Vehicular\"],[2,\"Unspecified\"],[0,\"Passing or Lane Usage Improper\"],[4,\"Driver Inattention\\u002fDistraction\"],[0,\"Driver Inattention\\u002fDistraction\"],[2,\"Following Too Closely\"],[0,\"Driver Inattention\\u002fDistraction\"],[2,\"Unspecified\"],[2,\"Passing or Lane Usage Improper\"],[0,\"Driver Inattention\\u002fDistraction\"],[2,\"Driver Inattention\\u002fDistraction\"],[0,\"Unspecified\"],[2,\"Unspecified\"],[1,\"Driver Inattention\\u002fDistraction\"],[4,\"Failure to Yield Right-of-Way\"],[0,\"Driver Inexperience\"],[0,\"Driver Inexperience\"],[0,\"Passing or Lane Usage Improper\"],[0,\"Driver Inexperience\"],[0,\"Unspecified\"],[0,\"Following Too Closely\"],[0,\"Pavement Slippery\"],[0,\"Unsafe Lane Changing\"],[2,\"Tinted Windows\"],[0,\"Driver Inattention\\u002fDistraction\"],[0,\"Passing Too Closely\"],[2,\"Driver Inattention\\u002fDistraction\"],[0,\"Following Too Closely\"],[0,\"Driver Inattention\\u002fDistraction\"],[0,\"Aggressive Driving\\u002fRoad Rage\"],[2,\"Failure to Yield Right-of-Way\"],[0,\"Unsafe Lane Changing\"],[2,\"Following Too Closely\"],[2,\"Unspecified\"],[2,\"Driver Inattention\\u002fDistraction\"],[0,\"Driver Inattention\\u002fDistraction\"],[0,\"Fell Asleep\"],[0,\"Passing Too Closely\"],[0,\"Unspecified\"],[0,\"Passing or Lane Usage Improper\"],[0,\"Driver Inattention\\u002fDistraction\"],[1,\"Unspecified\"],[2,\"Following Too Closely\"],[0,\"Unspecified\"],[2,\"Passing or Lane Usage Improper\"],[0,\"Driver Inattention\\u002fDistraction\"],[0,\"Unspecified\"],[0,\"Backing Unsafely\"],[0,\"Unspecified\"],[0,\"Following Too Closely\"],[0,\"Driver Inattention\\u002fDistraction\"],[0,\"Unspecified\"],[0,\"Unsafe Lane Changing\"],[2,\"Unspecified\"],[2,\"Unsafe Speed\"],[0,\"Driver Inattention\\u002fDistraction\"],[0,\"Driver Inattention\\u002fDistraction\"],[6,\"Driver Inexperience\"],[0,\"Backing Unsafely\"],[0,\"Unsafe Speed\"],[0,\"Failure to Yield Right-of-Way\"],[0,\"Unspecified\"],[0,\"Unspecified\"],[0,\"Unspecified\"],[0,\"Unsafe Speed\"],[1,\"Unsafe Lane Changing\"],[0,\"Driver Inattention\\u002fDistraction\"],[0,\"Passing or Lane Usage Improper\"],[0,\"Driver Inattention\\u002fDistraction\"],[2,\"Pedestrian\\u002fBicyclist\\u002fOther Pedestrian Error\\u002fConfusion\"],[0,\"Driver Inattention\\u002fDistraction\"],[0,\"Unsafe Speed\"],[0,\"Driver Inattention\\u002fDistraction\"],[0,\"Passing Too Closely\"],[0,\"Unspecified\"],[0,\"Driver Inattention\\u002fDistraction\"],[2,\"Failure to Yield Right-of-Way\"],[1,\"Driver Inattention\\u002fDistraction\"],[0,\"Following Too Closely\"],[0,\"Driver Inexperience\"],[0,\"Driver Inattention\\u002fDistraction\"],[0,\"Unspecified\"],[0,\"Driver Inattention\\u002fDistraction\"],[2,\"Driver Inattention\\u002fDistraction\"],[4,\"Driver Inexperience\"],[2,\"Driver Inattention\\u002fDistraction\"],[10,\"Unspecified\"],[0,\"Driver Inattention\\u002fDistraction\"],[6,\"Unsafe Speed\"],[0,\"Unspecified\"],[0,\"Unspecified\"],[2,\"Driver Inattention\\u002fDistraction\"],[2,\"Following Too Closely\"],[2,\"Unspecified\"],[0,\"Passing Too Closely\"],[0,\"Failure to Yield Right-of-Way\"],[0,\"Unsafe Speed\"],[0,\"Traffic Control Disregarded\"],[0,\"Animals Action\"],[0,\"Passing Too Closely\"],[0,\"Driver Inattention\\u002fDistraction\"],[4,\"Driver Inattention\\u002fDistraction\"],[2,\"Pedestrian\\u002fBicyclist\\u002fOther Pedestrian Error\\u002fConfusion\"],[2,\"Reaction to Uninvolved Vehicle\"],[0,\"Driver Inattention\\u002fDistraction\"],[0,\"Driver Inattention\\u002fDistraction\"],[0,\"Passing or Lane Usage Improper\"],[0,\"Driver Inattention\\u002fDistraction\"],[0,\"Unspecified\"],[2,\"Following Too Closely\"],[2,\"Driver Inexperience\"],[14,\"Failure to Yield Right-of-Way\"],[2,\"Driver Inattention\\u002fDistraction\"],[0,\"Following Too Closely\"],[2,\"Brakes Defective\"],[0,\"Driver Inattention\\u002fDistraction\"],[0,\"Following Too Closely\"],[0,\"Passing Too Closely\"],[0,\"Turning Improperly\"],[0,\"Unspecified\"],[0,\"Driver Inexperience\"],[0,\"Unspecified\"],[4,\"Unsafe Speed\"],[2,\"Following Too Closely\"],[0,\"Backing Unsafely\"],[0,\"Driver Inattention\\u002fDistraction\"],[0,\"Driver Inattention\\u002fDistraction\"],[4,\"Unsafe Speed\"],[6,\"Unspecified\"],[0,\"Driver Inattention\\u002fDistraction\"],[0,\"Passing or Lane Usage Improper\"],[0,\"Passing Too Closely\"],[0,\"Driver Inattention\\u002fDistraction\"],[2,\"Passing Too Closely\"],[0,\"Unspecified\"],[0,\"View Obstructed\\u002fLimited\"],[0,\"Steering Failure\"],[2,\"Failure to Yield Right-of-Way\"],[0,\"Unspecified\"],[6,\"Unspecified\"],[0,\"Traffic Control Disregarded\"],[0,\"Unspecified\"],[2,\"Passing or Lane Usage Improper\"],[2,\"Drugs (illegal)\"],[0,\"Other Vehicular\"],[0,\"Reaction to Uninvolved Vehicle\"],[0,\"Following Too Closely\"],[2,\"Driver Inattention\\u002fDistraction\"],[2,\"Turning Improperly\"],[10,\"Traffic Control Disregarded\"],[0,\"Unspecified\"],[0,\"Unspecified\"],[0,\"Unspecified\"],[2,\"Unspecified\"],[0,\"Aggressive Driving\\u002fRoad Rage\"],[0,\"Driver Inattention\\u002fDistraction\"]],\"hovertemplate\":\"\\u003cb\\u003e%{hovertext}\\u003c\\u002fb\\u003e\\u003cbr\\u003e\\u003cbr\\u003eLATITUDE=%{lat}\\u003cbr\\u003eLONGITUDE=%{lon}\\u003cbr\\u003eNUMBER_OF_INJURED_OR_KILLED=%{customdata[0]}\\u003cbr\\u003eCONTRIBUTING FACTOR VEHICLE 1=%{customdata[1]}\\u003cextra\\u003e\\u003c\\u002fextra\\u003e\",\"hovertext\":[\"2021-09-11T00:00:00\",\"2022-03-26T00:00:00\",\"2022-06-29T00:00:00\",\"2021-09-11T00:00:00\",\"2021-04-14T00:00:00\",\"2021-12-14T00:00:00\",\"2021-12-14T00:00:00\",\"2021-12-14T00:00:00\",\"2021-12-14T00:00:00\",\"2021-12-13T00:00:00\",\"2021-12-14T00:00:00\",\"2021-12-14T00:00:00\",\"2021-12-14T00:00:00\",\"2021-12-14T00:00:00\",\"2021-12-14T00:00:00\",\"2021-12-14T00:00:00\",\"2021-12-14T00:00:00\",\"2021-12-11T00:00:00\",\"2021-12-14T00:00:00\",\"2021-12-11T00:00:00\",\"2021-12-14T00:00:00\",\"2021-12-13T00:00:00\",\"2021-12-14T00:00:00\",\"2021-12-13T00:00:00\",\"2021-12-14T00:00:00\",\"2021-12-14T00:00:00\",\"2021-12-14T00:00:00\",\"2021-12-14T00:00:00\",\"2021-12-14T00:00:00\",\"2021-12-12T00:00:00\",\"2021-12-14T00:00:00\",\"2021-04-14T00:00:00\",\"2021-12-16T00:00:00\",\"2022-06-29T00:00:00\",\"2021-04-15T00:00:00\",\"2021-07-07T00:00:00\",\"2022-07-12T00:00:00\",\"2022-03-23T00:00:00\",\"2021-07-09T00:00:00\",\"2022-04-24T00:00:00\",\"2022-04-24T00:00:00\",\"2022-04-22T00:00:00\",\"2022-04-24T00:00:00\",\"2022-04-24T00:00:00\",\"2022-04-24T00:00:00\",\"2022-04-24T00:00:00\",\"2022-04-15T00:00:00\",\"2022-04-24T00:00:00\",\"2022-04-24T00:00:00\",\"2022-03-08T00:00:00\",\"2022-04-24T00:00:00\",\"2022-04-22T00:00:00\",\"2022-04-24T00:00:00\",\"2022-04-24T00:00:00\",\"2022-04-20T00:00:00\",\"2022-04-24T00:00:00\",\"2022-04-12T00:00:00\",\"2022-04-24T00:00:00\",\"2022-04-24T00:00:00\",\"2022-04-24T00:00:00\",\"2022-04-24T00:00:00\",\"2022-04-24T00:00:00\",\"2022-04-24T00:00:00\",\"2022-04-07T00:00:00\",\"2021-06-29T00:00:00\",\"2021-12-09T00:00:00\",\"2021-12-09T00:00:00\",\"2021-12-09T00:00:00\",\"2021-12-06T00:00:00\",\"2021-12-04T00:00:00\",\"2021-12-08T00:00:00\",\"2021-12-09T00:00:00\",\"2021-12-01T00:00:00\",\"2021-12-10T00:00:00\",\"2021-12-07T00:00:00\",\"2021-12-09T00:00:00\",\"2021-12-07T00:00:00\",\"2021-12-05T00:00:00\",\"2021-12-08T00:00:00\",\"2021-12-08T00:00:00\",\"2021-12-10T00:00:00\",\"2021-12-08T00:00:00\",\"2021-12-08T00:00:00\",\"2021-12-08T00:00:00\",\"2021-12-07T00:00:00\",\"2021-12-08T00:00:00\",\"2021-12-08T00:00:00\",\"2021-12-10T00:00:00\",\"2021-12-10T00:00:00\",\"2021-12-09T00:00:00\",\"2021-12-08T00:00:00\",\"2021-12-09T00:00:00\",\"2021-12-09T00:00:00\",\"2022-03-26T00:00:00\",\"2022-03-26T00:00:00\",\"2022-03-26T00:00:00\",\"2022-03-26T00:00:00\",\"2022-03-21T00:00:00\",\"2022-03-26T00:00:00\",\"2022-03-26T00:00:00\",\"2022-03-26T00:00:00\",\"2022-03-26T00:00:00\",\"2022-03-26T00:00:00\",\"2022-03-26T00:00:00\",\"2022-03-26T00:00:00\",\"2022-03-26T00:00:00\",\"2022-03-26T00:00:00\",\"2022-03-10T00:00:00\",\"2022-03-24T00:00:00\",\"2022-03-26T00:00:00\",\"2022-03-26T00:00:00\",\"2022-03-26T00:00:00\",\"2022-03-26T00:00:00\",\"2022-03-26T00:00:00\",\"2022-02-25T00:00:00\",\"2022-03-26T00:00:00\",\"2022-03-26T00:00:00\",\"2022-03-17T00:00:00\",\"2022-03-26T00:00:00\",\"2021-12-16T00:00:00\",\"2022-03-25T00:00:00\",\"2022-03-26T00:00:00\",\"2022-03-26T00:00:00\",\"2022-03-22T00:00:00\",\"2022-03-26T00:00:00\",\"2022-03-26T00:00:00\",\"2022-03-23T00:00:00\",\"2022-03-26T00:00:00\",\"2022-03-25T00:00:00\",\"2022-03-26T00:00:00\",\"2022-03-26T00:00:00\",\"2022-03-25T00:00:00\",\"2022-03-26T00:00:00\",\"2022-03-25T00:00:00\",\"2022-03-23T00:00:00\",\"2022-03-26T00:00:00\",\"2022-03-26T00:00:00\",\"2022-03-26T00:00:00\",\"2022-03-26T00:00:00\",\"2022-03-26T00:00:00\",\"2022-03-26T00:00:00\",\"2022-03-26T00:00:00\",\"2022-03-16T00:00:00\",\"2022-03-26T00:00:00\",\"2022-03-26T00:00:00\",\"2022-03-25T00:00:00\",\"2021-12-12T00:00:00\",\"2021-04-13T00:00:00\",\"2021-08-05T00:00:00\",\"2022-03-26T00:00:00\",\"2022-03-26T00:00:00\",\"2022-03-26T00:00:00\",\"2022-03-25T00:00:00\",\"2022-03-26T00:00:00\",\"2022-03-26T00:00:00\",\"2022-03-25T00:00:00\",\"2022-03-26T00:00:00\",\"2022-03-26T00:00:00\",\"2022-03-26T00:00:00\",\"2022-03-26T00:00:00\",\"2022-03-24T00:00:00\",\"2022-03-26T00:00:00\",\"2022-03-20T00:00:00\",\"2022-03-26T00:00:00\",\"2022-03-25T00:00:00\",\"2022-03-25T00:00:00\",\"2022-03-21T00:00:00\",\"2022-03-26T00:00:00\",\"2022-03-25T00:00:00\",\"2022-03-26T00:00:00\",\"2022-03-26T00:00:00\",\"2022-03-26T00:00:00\",\"2022-03-26T00:00:00\",\"2022-03-25T00:00:00\",\"2022-03-26T00:00:00\",\"2022-03-26T00:00:00\",\"2022-03-09T00:00:00\",\"2022-03-26T00:00:00\",\"2022-03-26T00:00:00\",\"2022-03-26T00:00:00\",\"2022-03-26T00:00:00\",\"2022-03-25T00:00:00\",\"2022-03-23T00:00:00\",\"2022-03-26T00:00:00\",\"2022-03-26T00:00:00\",\"2022-03-26T00:00:00\",\"2022-03-26T00:00:00\",\"2022-03-25T00:00:00\",\"2022-03-22T00:00:00\",\"2022-03-26T00:00:00\",\"2022-03-26T00:00:00\",\"2022-03-26T00:00:00\",\"2022-03-14T00:00:00\",\"2022-03-26T00:00:00\",\"2022-03-26T00:00:00\",\"2022-03-26T00:00:00\",\"2022-03-05T00:00:00\",\"2022-03-26T00:00:00\",\"2022-03-26T00:00:00\",\"2022-03-26T00:00:00\",\"2022-03-26T00:00:00\",\"2022-03-23T00:00:00\",\"2022-04-24T00:00:00\",\"2021-09-11T00:00:00\",\"2021-09-10T00:00:00\",\"2021-09-11T00:00:00\",\"2021-09-09T00:00:00\",\"2021-12-10T00:00:00\",\"2021-12-10T00:00:00\",\"2021-11-27T00:00:00\",\"2021-12-09T00:00:00\",\"2021-12-08T00:00:00\",\"2021-12-08T00:00:00\",\"2021-12-10T00:00:00\",\"2021-12-10T00:00:00\",\"2021-12-10T00:00:00\",\"2021-12-10T00:00:00\",\"2021-12-08T00:00:00\",\"2021-12-03T00:00:00\",\"2021-12-10T00:00:00\",\"2021-12-09T00:00:00\",\"2021-12-10T00:00:00\",\"2021-12-08T00:00:00\",\"2021-12-10T00:00:00\",\"2021-12-10T00:00:00\",\"2021-12-09T00:00:00\",\"2021-12-09T00:00:00\",\"2021-11-24T00:00:00\",\"2021-12-09T00:00:00\",\"2021-12-08T00:00:00\",\"2021-09-11T00:00:00\",\"2021-07-09T00:00:00\",\"2021-09-11T00:00:00\",\"2021-09-10T00:00:00\",\"2021-07-01T00:00:00\",\"2021-07-07T00:00:00\",\"2021-09-11T00:00:00\",\"2021-07-07T00:00:00\",\"2021-09-11T00:00:00\",\"2021-09-11T00:00:00\",\"2021-09-03T00:00:00\",\"2021-07-08T00:00:00\",\"2021-08-23T00:00:00\",\"2021-09-11T00:00:00\",\"2021-09-11T00:00:00\",\"2021-09-06T00:00:00\",\"2021-07-08T00:00:00\",\"2021-07-07T00:00:00\",\"2021-09-11T00:00:00\",\"2021-09-07T00:00:00\",\"2021-09-11T00:00:00\",\"2021-07-08T00:00:00\",\"2021-09-11T00:00:00\",\"2021-09-11T00:00:00\",\"2021-07-08T00:00:00\",\"2021-09-10T00:00:00\",\"2021-09-11T00:00:00\",\"2021-09-09T00:00:00\",\"2021-04-13T00:00:00\",\"2021-09-11T00:00:00\",\"2021-09-11T00:00:00\",\"2021-09-11T00:00:00\",\"2021-09-10T00:00:00\",\"2021-07-08T00:00:00\",\"2021-09-11T00:00:00\",\"2022-03-26T00:00:00\",\"2021-09-11T00:00:00\",\"2021-09-11T00:00:00\",\"2021-09-11T00:00:00\",\"2021-09-10T00:00:00\",\"2021-09-11T00:00:00\",\"2021-07-06T00:00:00\",\"2021-07-09T00:00:00\",\"2021-09-10T00:00:00\",\"2021-09-11T00:00:00\",\"2021-09-11T00:00:00\",\"2021-07-02T00:00:00\",\"2021-09-06T00:00:00\",\"2021-09-11T00:00:00\",\"2021-09-11T00:00:00\",\"2021-09-11T00:00:00\",\"2021-07-09T00:00:00\",\"2021-09-11T00:00:00\",\"2021-09-11T00:00:00\",\"2021-07-08T00:00:00\",\"2021-07-09T00:00:00\",\"2021-09-02T00:00:00\",\"2021-09-07T00:00:00\",\"2021-09-11T00:00:00\",\"2021-09-11T00:00:00\",\"2021-09-11T00:00:00\",\"2021-08-29T00:00:00\",\"2021-09-11T00:00:00\",\"2021-09-11T00:00:00\",\"2021-07-08T00:00:00\",\"2021-09-09T00:00:00\",\"2021-07-06T00:00:00\",\"2021-09-11T00:00:00\",\"2021-07-06T00:00:00\",\"2021-07-05T00:00:00\",\"2021-09-11T00:00:00\",\"2021-09-11T00:00:00\",\"2021-07-09T00:00:00\",\"2021-09-11T00:00:00\",\"2021-07-08T00:00:00\",\"2021-09-11T00:00:00\",\"2021-09-11T00:00:00\",\"2021-09-05T00:00:00\",\"2021-09-11T00:00:00\",\"2021-09-11T00:00:00\",\"2021-09-10T00:00:00\",\"2021-06-26T00:00:00\",\"2021-07-01T00:00:00\",\"2021-04-16T00:00:00\",\"2021-09-11T00:00:00\",\"2021-07-04T00:00:00\",\"2021-09-11T00:00:00\",\"2021-07-04T00:00:00\",\"2021-09-11T00:00:00\",\"2021-07-02T00:00:00\",\"2021-09-11T00:00:00\",\"2021-07-03T00:00:00\",\"2021-09-11T00:00:00\",\"2021-09-11T00:00:00\",\"2021-09-11T00:00:00\",\"2021-07-04T00:00:00\",\"2021-09-11T00:00:00\",\"2021-09-11T00:00:00\",\"2021-07-08T00:00:00\",\"2021-08-11T00:00:00\",\"2021-09-11T00:00:00\",\"2021-09-11T00:00:00\",\"2021-09-11T00:00:00\",\"2021-09-11T00:00:00\",\"2021-09-07T00:00:00\",\"2021-09-11T00:00:00\",\"2021-07-08T00:00:00\",\"2021-09-11T00:00:00\",\"2021-09-11T00:00:00\",\"2021-07-08T00:00:00\",\"2021-09-07T00:00:00\",\"2021-07-05T00:00:00\",\"2021-09-11T00:00:00\",\"2021-09-10T00:00:00\",\"2021-07-06T00:00:00\",\"2021-07-01T00:00:00\",\"2021-07-07T00:00:00\",\"2021-09-08T00:00:00\",\"2021-09-11T00:00:00\",\"2021-07-08T00:00:00\",\"2021-09-11T00:00:00\",\"2021-09-08T00:00:00\",\"2021-09-11T00:00:00\",\"2021-09-09T00:00:00\",\"2021-07-07T00:00:00\",\"2021-09-11T00:00:00\",\"2021-09-09T00:00:00\",\"2021-09-08T00:00:00\",\"2021-09-11T00:00:00\",\"2021-07-05T00:00:00\",\"2021-09-11T00:00:00\",\"2021-06-29T00:00:00\",\"2021-07-09T00:00:00\",\"2021-07-08T00:00:00\",\"2021-07-09T00:00:00\",\"2021-09-11T00:00:00\",\"2021-09-11T00:00:00\",\"2021-09-11T00:00:00\",\"2021-09-11T00:00:00\",\"2021-07-08T00:00:00\",\"2021-09-11T00:00:00\",\"2021-09-10T00:00:00\",\"2021-09-08T00:00:00\",\"2021-09-10T00:00:00\",\"2021-09-10T00:00:00\",\"2021-07-08T00:00:00\",\"2021-09-11T00:00:00\",\"2021-09-11T00:00:00\",\"2021-09-11T00:00:00\",\"2021-09-11T00:00:00\",\"2021-09-11T00:00:00\",\"2021-09-11T00:00:00\",\"2021-09-10T00:00:00\",\"2021-09-10T00:00:00\",\"2021-06-26T00:00:00\",\"2021-09-11T00:00:00\",\"2021-09-10T00:00:00\",\"2021-09-11T00:00:00\",\"2021-07-08T00:00:00\",\"2021-09-02T00:00:00\",\"2021-09-11T00:00:00\",\"2021-09-07T00:00:00\",\"2021-06-25T00:00:00\",\"2021-07-08T00:00:00\",\"2021-07-04T00:00:00\",\"2021-07-08T00:00:00\",\"2021-09-11T00:00:00\",\"2021-09-10T00:00:00\",\"2021-09-11T00:00:00\",\"2021-09-10T00:00:00\",\"2021-09-11T00:00:00\",\"2021-09-11T00:00:00\",\"2021-07-08T00:00:00\",\"2021-09-11T00:00:00\",\"2021-09-11T00:00:00\",\"2021-09-07T00:00:00\",\"2021-09-10T00:00:00\",\"2021-09-11T00:00:00\",\"2021-06-30T00:00:00\",\"2021-09-10T00:00:00\",\"2021-07-08T00:00:00\",\"2021-09-11T00:00:00\",\"2021-09-11T00:00:00\",\"2021-07-04T00:00:00\",\"2021-07-01T00:00:00\",\"2021-09-11T00:00:00\",\"2022-03-25T00:00:00\",\"2021-09-01T00:00:00\",\"2021-09-10T00:00:00\",\"2021-09-11T00:00:00\",\"2021-09-11T00:00:00\",\"2021-09-10T00:00:00\",\"2021-09-11T00:00:00\",\"2021-09-11T00:00:00\",\"2021-09-11T00:00:00\",\"2021-09-11T00:00:00\",\"2021-07-09T00:00:00\",\"2021-09-05T00:00:00\",\"2021-09-11T00:00:00\",\"2021-09-11T00:00:00\",\"2021-09-11T00:00:00\",\"2021-07-08T00:00:00\",\"2021-07-02T00:00:00\",\"2021-09-11T00:00:00\",\"2021-07-08T00:00:00\",\"2021-07-08T00:00:00\",\"2021-07-09T00:00:00\",\"2021-09-09T00:00:00\",\"2021-07-09T00:00:00\",\"2021-09-11T00:00:00\",\"2021-07-09T00:00:00\",\"2021-09-11T00:00:00\",\"2021-09-10T00:00:00\",\"2021-09-08T00:00:00\",\"2021-09-11T00:00:00\",\"2021-09-11T00:00:00\",\"2021-09-11T00:00:00\",\"2019-05-21T00:00:00\",\"2020-01-21T00:00:00\",\"2021-02-26T00:00:00\",\"2021-03-09T00:00:00\",\"2021-03-31T00:00:00\",\"2021-04-06T00:00:00\",\"2021-04-09T00:00:00\",\"2021-04-14T00:00:00\",\"2021-04-14T00:00:00\",\"2021-04-16T00:00:00\",\"2021-04-15T00:00:00\",\"2021-04-14T00:00:00\",\"2021-04-14T00:00:00\",\"2021-04-16T00:00:00\",\"2021-04-16T00:00:00\",\"2021-04-15T00:00:00\",\"2021-04-16T00:00:00\",\"2021-04-15T00:00:00\",\"2021-04-16T00:00:00\",\"2021-04-16T00:00:00\",\"2021-04-15T00:00:00\",\"2021-09-11T00:00:00\",\"2021-04-16T00:00:00\",\"2021-04-16T00:00:00\",\"2021-04-14T00:00:00\",\"2021-06-30T00:00:00\",\"2021-04-14T00:00:00\",\"2021-04-14T00:00:00\",\"2021-04-15T00:00:00\",\"2021-04-16T00:00:00\",\"2021-04-14T00:00:00\",\"2021-04-13T00:00:00\",\"2021-04-13T00:00:00\",\"2021-04-14T00:00:00\",\"2021-04-15T00:00:00\",\"2021-04-15T00:00:00\",\"2021-04-15T00:00:00\",\"2021-04-14T00:00:00\",\"2021-04-14T00:00:00\",\"2021-04-16T00:00:00\",\"2021-04-14T00:00:00\",\"2021-04-15T00:00:00\",\"2021-04-16T00:00:00\",\"2021-04-16T00:00:00\",\"2021-04-16T00:00:00\",\"2021-04-16T00:00:00\",\"2021-04-15T00:00:00\",\"2021-04-12T00:00:00\",\"2021-04-14T00:00:00\",\"2021-04-14T00:00:00\"],\"lat\":[null,null,null,40.667202,null,40.709183,40.86816,40.67172,40.75144,40.701275,40.675884,null,40.59662,40.66684,40.68158,40.65068,null,40.87262,40.783268,40.748917,40.744644,40.75373,40.804375,40.63165,40.623104,40.66576,40.687534,40.710957,40.81813,40.70447,40.784615,null,null,null,null,null,40.663303,null,40.720535,40.607685,40.855972,40.790276,40.642986,0.0,40.843906,40.89481,0.0,40.85169,40.861862,40.666256,40.767242,40.62417,40.679955,40.692356,40.78291,40.67308,40.65011,40.638382,40.69261,40.745235,null,40.758705,40.695156,40.748158,40.609535,40.59207,40.850018,40.653023,40.62573,40.665375,40.776237,40.640835,40.593636,40.674263,40.70476,40.569626,40.698463,40.658413,40.76175,40.736614,null,null,40.62121,40.873737,40.66718,40.754295,40.588116,40.854935,40.662575,40.7448,40.79672,40.752777,40.638523,40.637833,40.797836,40.734375,40.699947,40.75632,40.69614,40.631687,40.88839,40.844425,40.833965,40.705738,40.637905,40.635063,40.804153,40.676403,40.829777,40.613926,40.635563,40.675167,40.761486,40.712284,40.70546,40.74967,40.833786,40.67794,40.637985,null,40.9046,40.742508,null,null,40.67046,40.72224,40.67639,40.88893,40.80118,40.757668,40.668896,40.63654,40.831055,40.85868,40.62466,40.63947,40.86173,40.69538,40.63063,40.82707,40.60548,40.692593,null,40.680664,40.645718,40.68327,40.84036,null,null,40.577652,40.730145,40.67478,40.624622,40.67271,40.7314,40.632786,40.596733,40.617645,null,40.68651,40.69831,40.692455,40.778805,40.747894,40.83578,40.61763,40.731407,40.60784,40.752563,40.67848,40.629475,40.668797,40.754707,40.85713,40.857418,40.702972,40.786366,40.624474,40.76532,40.597683,40.609768,40.798286,40.776764,40.747498,40.701637,40.69349,40.726463,40.856434,40.87151,40.68686,40.624763,40.678417,40.692596,40.734486,40.88399,40.683872,40.799484,40.70839,40.766502,40.676304,40.66447,40.709835,40.585342,40.746395,40.617004,40.718662,40.680664,40.67392,40.806835,40.627735,0.0,40.661263,40.844883,40.76104,40.669777,40.839443,40.75245,40.687748,40.87356,40.8176,40.638428,40.813885,null,40.77733,40.713135,40.775486,40.591137,40.865536,40.76551,40.63311,40.823772,40.84497,null,40.675507,40.609535,40.730446,40.721645,40.853477,40.66901,40.629475,40.6843,40.767612,40.80066,40.87645,40.737865,40.764103,40.66735,40.824265,40.702045,40.85306,0.0,40.697315,40.679344,40.708923,40.60203,40.693787,40.826767,40.56692,null,40.623913,40.592422,40.6783,40.748962,40.631508,40.677322,40.57666,40.804585,40.832916,40.722515,40.692127,40.807537,40.878128,40.75777,40.6569,40.845024,40.817795,40.81915,40.591778,40.753994,40.724846,null,40.822933,40.680477,40.648243,40.64366,40.6843,40.602425,40.662037,40.68164,40.781315,40.74498,40.6117,40.616295,40.78322,40.87122,40.680077,40.843384,40.680023,40.72937,40.683754,40.70413,40.609985,40.673676,40.751442,40.86514,40.72218,40.797924,40.626373,40.883133,40.90222,40.72717,40.600792,40.84434,40.67922,40.802982,40.731544,40.683323,40.732006,40.6544,40.589592,40.736164,40.59723,40.67393,40.840153,40.599503,40.822456,40.59841,40.697083,40.896385,40.695637,40.69982,40.590313,40.787544,40.67539,40.634007,40.73844,40.60855,40.58573,40.599907,40.806713,40.748318,40.68651,null,40.624203,40.744526,40.576965,40.8502,40.715477,40.611477,40.681515,40.61578,40.82207,40.74606,40.72013,40.688435,40.84964,40.68329,40.812912,40.6639,40.59312,null,40.596687,null,40.673107,40.63874,40.675255,40.846313,40.608364,null,40.682724,40.80789,40.607754,null,40.708324,40.79194,40.718792,40.86463,40.67856,40.721474,40.79184,40.78076,40.7359,40.710697,40.760777,40.81358,40.575302,40.66843,40.81701,40.85755,40.89711,40.685795,40.69305,40.609535,40.720627,40.763496,40.686646,40.579445,40.762966,40.76555,40.779602,40.553192,40.836094,40.59692,40.62318,40.67562,40.80609,40.87739,40.689133,40.83604,40.76649,40.731613,40.708324,40.65375,null,40.60675,null,40.743534,40.678364,40.724274,null,40.8188,40.69558,40.80484,40.658466,40.868164,40.66169,40.87037,40.69674,40.65958,40.83232,40.708534,40.777496,40.83406,40.66615,null,40.82324,40.6974,null,40.67897,40.590313,40.654343,40.62782,40.592037,40.79293,40.8452,40.72609,40.76092,40.69754,null,40.843464,40.692547,40.626457,40.526894,40.840775,null,40.694035,null,40.857365,40.698807,40.71402,40.815,40.55079,40.655903,40.890076,40.650402,40.79335,40.72538,40.75184,40.755516,40.649788,40.686928,40.712963,40.694294,40.801285,40.633976,40.670296,40.66423,40.817696,40.668495,40.662476,null,40.841087,40.70955,40.733376,40.700356,40.83801,40.66584,null,40.761436,40.74958,40.73197,40.76249,40.668507,40.638268,40.696735,40.870823,40.574867],\"legendgroup\":\"\",\"lon\":[null,null,null,-73.8665,null,-73.956825,-73.83148,-73.8971,-73.97397,-73.88887,-73.75577,null,-74.00231,-73.78941,-73.97463,-73.95881,null,-73.904686,-73.82485,-73.993546,-73.77041,-73.88505,-73.93742,-74.08762,-73.95809,-73.9845,-73.9775,-73.951126,-73.910126,-73.90148,-73.953964,null,null,null,null,null,-73.96049,null,-73.88885,-74.13892,-73.869896,-73.9396,-74.01621,0.0,-73.92413,-73.86183,0.0,-73.95238,-73.91275,-73.900215,-73.986206,-73.97048,-73.97491,-73.94282,-73.98578,-73.91124,-73.930214,-74.03668,-73.81143,-73.937706,null,-73.93793,-73.845406,-73.97033,-73.75372,-73.96299,-73.9107,-73.73895,-73.9564,-73.934235,-73.943825,-73.98967,-73.797264,-73.80453,-73.96491,-74.190735,-73.960205,-73.9171,-73.96899,-73.9951,null,null,-74.12385,-73.90593,-73.95076,-73.93946,-73.97261,-73.85822,-73.93448,-73.953415,-73.97618,-73.70743,-73.92607,-74.08193,-73.96946,-73.87342,-73.736626,-73.999275,-73.81789,-73.9205,-73.84666,-73.8639,-73.8629,-73.944695,-73.8878,-73.94788,-73.91304,-73.96287,-73.85055,-74.030174,-73.89577,-73.825264,-73.96061,-73.964005,-73.7949,-73.99531,-73.94037,-73.8023,-74.0076,null,-73.852936,-73.91788,null,null,-73.88788,-73.9863,-73.97189,-73.86579,-73.93975,-73.95915,-73.95339,-73.97707,-73.905846,-73.89922,-74.17856,-73.902756,-73.91182,-73.985115,-74.00923,-73.87075,-73.93922,-73.91551,null,-73.902626,-73.95002,-73.95016,-73.91807,null,null,-73.96344,-73.99781,-73.806206,-73.97598,-73.97089,-73.926094,-74.13712,-74.07045,-73.92092,null,-73.98378,-73.9498,-73.76814,-73.974075,-73.989174,-73.871445,-74.133575,-73.99698,-73.961975,-73.74328,-73.98232,-74.004166,-73.93113,-73.99164,-73.8808,-73.89996,-73.888054,-73.97598,-74.00668,-73.771904,-73.96686,-74.06969,-73.938705,-73.848015,-73.91309,-73.942276,-73.826546,-73.85943,-73.886826,-73.87057,-73.96758,-73.96518,-73.729225,-73.79078,-73.891754,-73.82641,-73.95998,-73.92929,-74.00482,-73.99418,-73.816284,-73.89593,-74.014885,-73.94157,-73.9856,-73.96912,-74.00615,-73.97028,-73.91012,-73.924355,-73.920105,0.0,-73.955765,-73.907295,-73.88162,-73.9583,-73.90436,-73.94507,-73.980125,-73.81853,-73.90373,-73.91275,-73.95211,null,-73.95456,-74.00407,-73.98217,-73.97752,-73.92728,-73.97795,-73.97217,-73.87245,-73.90247,null,-74.00075,-73.75372,-74.00431,-73.8026,-73.82622,-73.80265,-74.1123,-73.99724,-73.950005,-73.9544,-73.848175,-73.876144,-73.93277,-73.76994,-73.95642,-73.9156,-73.931,0.0,-73.932274,-73.859535,-73.81877,-74.09572,-73.81173,-73.888855,-74.116234,null,-74.00726,-73.99508,-73.88988,-73.89176,-73.90506,-73.790955,-73.965836,-73.94782,-73.92939,-73.73332,-73.83484,-73.8798,-73.86944,-73.854164,-73.907486,-73.92632,-73.89319,-73.93062,-74.12734,-73.94244,-73.999,null,-73.93813,-73.951164,-73.929,-73.90067,-73.94121,-74.091354,-73.95077,-73.98568,-73.94614,-73.89325,-74.13918,-73.92991,-73.84586,-73.83709,-73.852684,-73.88987,-73.794624,-73.955444,-73.88565,-73.76984,-73.96239,-73.86576,-73.97606,-73.801544,-73.84406,-73.9296,-73.99754,-73.882095,-73.85589,-73.78739,-73.76711,-73.91475,-73.90405,-73.93815,-73.955315,-73.80648,-73.95795,-73.92044,-73.786385,-73.97891,-73.76237,-73.999954,-73.88572,-74.067116,-73.868065,-73.97592,-73.85476,-73.87246,-73.80372,-73.996254,-74.09794,-73.82394,-73.88113,-74.07516,-73.88628,-74.13216,-74.16865,-73.94664,-73.93782,-73.87742,-73.76815,null,-74.177124,-73.77161,-74.16974,-73.8302,-73.998085,-73.94883,-73.90412,-73.99995,-73.94993,-73.85583,-73.79038,-73.78765,-73.89661,-73.85491,-73.95364,-73.7804,-73.772705,null,-73.74422,null,-73.99959,-73.8952,-73.73207,-73.92385,-73.95727,null,-73.88539,-73.852844,-74.13205,null,-73.84314,-73.95281,-73.98902,-73.892136,-73.889015,-73.98383,-73.93556,-73.825424,-73.91338,-73.984634,-73.95702,-73.89385,-73.98453,-73.91919,-73.9595,-73.882835,-73.88008,-73.911644,-73.799446,-73.75372,-74.00522,-73.87814,-73.849075,-73.9544,-73.973976,-73.83911,-73.95553,-74.164345,-73.883995,-73.94122,-73.98611,-73.88826,-73.95414,-73.8665,-73.951324,-73.92222,-73.95696,-73.9545,-74.00311,-73.931274,null,-73.756645,null,-73.93951,-73.77949,-74.01136,null,-73.956024,-73.788704,-73.912796,-73.96049,-73.90054,-73.96143,-73.87052,-73.76292,-73.89247,-73.87395,-73.914925,-73.90784,-73.944885,-73.80575,null,-73.938835,-73.80952,null,-73.75985,-74.09794,-73.864204,-74.12126,-74.15436,-73.950005,-73.916885,-73.830154,-73.96704,-73.98312,null,-73.836,-73.990974,-73.918,-74.16728,-73.87246,null,-73.72679,null,-73.84657,-73.91837,-73.74827,-73.89402,-74.20098,-73.89817,-73.819855,-73.89422,-73.97275,-74.00011,-73.90358,-73.961105,-73.9622,-73.920815,-73.93647,-73.74868,-73.95394,-74.02211,-73.997604,-73.919106,-73.922615,-73.925606,-73.768326,null,-73.86447,-73.95887,-73.86665,-73.95732,-73.87329,-73.75551,null,-73.76995,-73.86541,-73.78651,-73.839584,-73.779625,-73.93187,-73.93481,-73.8721,-74.00069],\"marker\":{\"color\":\"darkblue\"},\"mode\":\"markers\",\"name\":\"\",\"showlegend\":false,\"subplot\":\"mapbox\",\"type\":\"scattermapbox\"}],                        {\"template\":{\"data\":{\"barpolar\":[{\"marker\":{\"line\":{\"color\":\"rgb(17,17,17)\",\"width\":0.5},\"pattern\":{\"fillmode\":\"overlay\",\"size\":10,\"solidity\":0.2}},\"type\":\"barpolar\"}],\"bar\":[{\"error_x\":{\"color\":\"#f2f5fa\"},\"error_y\":{\"color\":\"#f2f5fa\"},\"marker\":{\"line\":{\"color\":\"rgb(17,17,17)\",\"width\":0.5},\"pattern\":{\"fillmode\":\"overlay\",\"size\":10,\"solidity\":0.2}},\"type\":\"bar\"}],\"carpet\":[{\"aaxis\":{\"endlinecolor\":\"#A2B1C6\",\"gridcolor\":\"#506784\",\"linecolor\":\"#506784\",\"minorgridcolor\":\"#506784\",\"startlinecolor\":\"#A2B1C6\"},\"baxis\":{\"endlinecolor\":\"#A2B1C6\",\"gridcolor\":\"#506784\",\"linecolor\":\"#506784\",\"minorgridcolor\":\"#506784\",\"startlinecolor\":\"#A2B1C6\"},\"type\":\"carpet\"}],\"choropleth\":[{\"colorbar\":{\"outlinewidth\":0,\"ticks\":\"\"},\"type\":\"choropleth\"}],\"contourcarpet\":[{\"colorbar\":{\"outlinewidth\":0,\"ticks\":\"\"},\"type\":\"contourcarpet\"}],\"contour\":[{\"colorbar\":{\"outlinewidth\":0,\"ticks\":\"\"},\"colorscale\":[[0.0,\"#0d0887\"],[0.1111111111111111,\"#46039f\"],[0.2222222222222222,\"#7201a8\"],[0.3333333333333333,\"#9c179e\"],[0.4444444444444444,\"#bd3786\"],[0.5555555555555556,\"#d8576b\"],[0.6666666666666666,\"#ed7953\"],[0.7777777777777778,\"#fb9f3a\"],[0.8888888888888888,\"#fdca26\"],[1.0,\"#f0f921\"]],\"type\":\"contour\"}],\"heatmapgl\":[{\"colorbar\":{\"outlinewidth\":0,\"ticks\":\"\"},\"colorscale\":[[0.0,\"#0d0887\"],[0.1111111111111111,\"#46039f\"],[0.2222222222222222,\"#7201a8\"],[0.3333333333333333,\"#9c179e\"],[0.4444444444444444,\"#bd3786\"],[0.5555555555555556,\"#d8576b\"],[0.6666666666666666,\"#ed7953\"],[0.7777777777777778,\"#fb9f3a\"],[0.8888888888888888,\"#fdca26\"],[1.0,\"#f0f921\"]],\"type\":\"heatmapgl\"}],\"heatmap\":[{\"colorbar\":{\"outlinewidth\":0,\"ticks\":\"\"},\"colorscale\":[[0.0,\"#0d0887\"],[0.1111111111111111,\"#46039f\"],[0.2222222222222222,\"#7201a8\"],[0.3333333333333333,\"#9c179e\"],[0.4444444444444444,\"#bd3786\"],[0.5555555555555556,\"#d8576b\"],[0.6666666666666666,\"#ed7953\"],[0.7777777777777778,\"#fb9f3a\"],[0.8888888888888888,\"#fdca26\"],[1.0,\"#f0f921\"]],\"type\":\"heatmap\"}],\"histogram2dcontour\":[{\"colorbar\":{\"outlinewidth\":0,\"ticks\":\"\"},\"colorscale\":[[0.0,\"#0d0887\"],[0.1111111111111111,\"#46039f\"],[0.2222222222222222,\"#7201a8\"],[0.3333333333333333,\"#9c179e\"],[0.4444444444444444,\"#bd3786\"],[0.5555555555555556,\"#d8576b\"],[0.6666666666666666,\"#ed7953\"],[0.7777777777777778,\"#fb9f3a\"],[0.8888888888888888,\"#fdca26\"],[1.0,\"#f0f921\"]],\"type\":\"histogram2dcontour\"}],\"histogram2d\":[{\"colorbar\":{\"outlinewidth\":0,\"ticks\":\"\"},\"colorscale\":[[0.0,\"#0d0887\"],[0.1111111111111111,\"#46039f\"],[0.2222222222222222,\"#7201a8\"],[0.3333333333333333,\"#9c179e\"],[0.4444444444444444,\"#bd3786\"],[0.5555555555555556,\"#d8576b\"],[0.6666666666666666,\"#ed7953\"],[0.7777777777777778,\"#fb9f3a\"],[0.8888888888888888,\"#fdca26\"],[1.0,\"#f0f921\"]],\"type\":\"histogram2d\"}],\"histogram\":[{\"marker\":{\"pattern\":{\"fillmode\":\"overlay\",\"size\":10,\"solidity\":0.2}},\"type\":\"histogram\"}],\"mesh3d\":[{\"colorbar\":{\"outlinewidth\":0,\"ticks\":\"\"},\"type\":\"mesh3d\"}],\"parcoords\":[{\"line\":{\"colorbar\":{\"outlinewidth\":0,\"ticks\":\"\"}},\"type\":\"parcoords\"}],\"pie\":[{\"automargin\":true,\"type\":\"pie\"}],\"scatter3d\":[{\"line\":{\"colorbar\":{\"outlinewidth\":0,\"ticks\":\"\"}},\"marker\":{\"colorbar\":{\"outlinewidth\":0,\"ticks\":\"\"}},\"type\":\"scatter3d\"}],\"scattercarpet\":[{\"marker\":{\"colorbar\":{\"outlinewidth\":0,\"ticks\":\"\"}},\"type\":\"scattercarpet\"}],\"scattergeo\":[{\"marker\":{\"colorbar\":{\"outlinewidth\":0,\"ticks\":\"\"}},\"type\":\"scattergeo\"}],\"scattergl\":[{\"marker\":{\"line\":{\"color\":\"#283442\"}},\"type\":\"scattergl\"}],\"scattermapbox\":[{\"marker\":{\"colorbar\":{\"outlinewidth\":0,\"ticks\":\"\"}},\"type\":\"scattermapbox\"}],\"scatterpolargl\":[{\"marker\":{\"colorbar\":{\"outlinewidth\":0,\"ticks\":\"\"}},\"type\":\"scatterpolargl\"}],\"scatterpolar\":[{\"marker\":{\"colorbar\":{\"outlinewidth\":0,\"ticks\":\"\"}},\"type\":\"scatterpolar\"}],\"scatter\":[{\"marker\":{\"line\":{\"color\":\"#283442\"}},\"type\":\"scatter\"}],\"scatterternary\":[{\"marker\":{\"colorbar\":{\"outlinewidth\":0,\"ticks\":\"\"}},\"type\":\"scatterternary\"}],\"surface\":[{\"colorbar\":{\"outlinewidth\":0,\"ticks\":\"\"},\"colorscale\":[[0.0,\"#0d0887\"],[0.1111111111111111,\"#46039f\"],[0.2222222222222222,\"#7201a8\"],[0.3333333333333333,\"#9c179e\"],[0.4444444444444444,\"#bd3786\"],[0.5555555555555556,\"#d8576b\"],[0.6666666666666666,\"#ed7953\"],[0.7777777777777778,\"#fb9f3a\"],[0.8888888888888888,\"#fdca26\"],[1.0,\"#f0f921\"]],\"type\":\"surface\"}],\"table\":[{\"cells\":{\"fill\":{\"color\":\"#506784\"},\"line\":{\"color\":\"rgb(17,17,17)\"}},\"header\":{\"fill\":{\"color\":\"#2a3f5f\"},\"line\":{\"color\":\"rgb(17,17,17)\"}},\"type\":\"table\"}]},\"layout\":{\"annotationdefaults\":{\"arrowcolor\":\"#f2f5fa\",\"arrowhead\":0,\"arrowwidth\":1},\"autotypenumbers\":\"strict\",\"coloraxis\":{\"colorbar\":{\"outlinewidth\":0,\"ticks\":\"\"}},\"colorscale\":{\"diverging\":[[0,\"#8e0152\"],[0.1,\"#c51b7d\"],[0.2,\"#de77ae\"],[0.3,\"#f1b6da\"],[0.4,\"#fde0ef\"],[0.5,\"#f7f7f7\"],[0.6,\"#e6f5d0\"],[0.7,\"#b8e186\"],[0.8,\"#7fbc41\"],[0.9,\"#4d9221\"],[1,\"#276419\"]],\"sequential\":[[0.0,\"#0d0887\"],[0.1111111111111111,\"#46039f\"],[0.2222222222222222,\"#7201a8\"],[0.3333333333333333,\"#9c179e\"],[0.4444444444444444,\"#bd3786\"],[0.5555555555555556,\"#d8576b\"],[0.6666666666666666,\"#ed7953\"],[0.7777777777777778,\"#fb9f3a\"],[0.8888888888888888,\"#fdca26\"],[1.0,\"#f0f921\"]],\"sequentialminus\":[[0.0,\"#0d0887\"],[0.1111111111111111,\"#46039f\"],[0.2222222222222222,\"#7201a8\"],[0.3333333333333333,\"#9c179e\"],[0.4444444444444444,\"#bd3786\"],[0.5555555555555556,\"#d8576b\"],[0.6666666666666666,\"#ed7953\"],[0.7777777777777778,\"#fb9f3a\"],[0.8888888888888888,\"#fdca26\"],[1.0,\"#f0f921\"]]},\"colorway\":[\"#636efa\",\"#EF553B\",\"#00cc96\",\"#ab63fa\",\"#FFA15A\",\"#19d3f3\",\"#FF6692\",\"#B6E880\",\"#FF97FF\",\"#FECB52\"],\"font\":{\"color\":\"#f2f5fa\"},\"geo\":{\"bgcolor\":\"rgb(17,17,17)\",\"lakecolor\":\"rgb(17,17,17)\",\"landcolor\":\"rgb(17,17,17)\",\"showlakes\":true,\"showland\":true,\"subunitcolor\":\"#506784\"},\"hoverlabel\":{\"align\":\"left\"},\"hovermode\":\"closest\",\"mapbox\":{\"style\":\"dark\"},\"paper_bgcolor\":\"rgb(17,17,17)\",\"plot_bgcolor\":\"rgb(17,17,17)\",\"polar\":{\"angularaxis\":{\"gridcolor\":\"#506784\",\"linecolor\":\"#506784\",\"ticks\":\"\"},\"bgcolor\":\"rgb(17,17,17)\",\"radialaxis\":{\"gridcolor\":\"#506784\",\"linecolor\":\"#506784\",\"ticks\":\"\"}},\"scene\":{\"xaxis\":{\"backgroundcolor\":\"rgb(17,17,17)\",\"gridcolor\":\"#506784\",\"gridwidth\":2,\"linecolor\":\"#506784\",\"showbackground\":true,\"ticks\":\"\",\"zerolinecolor\":\"#C8D4E3\"},\"yaxis\":{\"backgroundcolor\":\"rgb(17,17,17)\",\"gridcolor\":\"#506784\",\"gridwidth\":2,\"linecolor\":\"#506784\",\"showbackground\":true,\"ticks\":\"\",\"zerolinecolor\":\"#C8D4E3\"},\"zaxis\":{\"backgroundcolor\":\"rgb(17,17,17)\",\"gridcolor\":\"#506784\",\"gridwidth\":2,\"linecolor\":\"#506784\",\"showbackground\":true,\"ticks\":\"\",\"zerolinecolor\":\"#C8D4E3\"}},\"shapedefaults\":{\"line\":{\"color\":\"#f2f5fa\"}},\"sliderdefaults\":{\"bgcolor\":\"#C8D4E3\",\"bordercolor\":\"rgb(17,17,17)\",\"borderwidth\":1,\"tickwidth\":0},\"ternary\":{\"aaxis\":{\"gridcolor\":\"#506784\",\"linecolor\":\"#506784\",\"ticks\":\"\"},\"baxis\":{\"gridcolor\":\"#506784\",\"linecolor\":\"#506784\",\"ticks\":\"\"},\"bgcolor\":\"rgb(17,17,17)\",\"caxis\":{\"gridcolor\":\"#506784\",\"linecolor\":\"#506784\",\"ticks\":\"\"}},\"title\":{\"x\":0.05},\"updatemenudefaults\":{\"bgcolor\":\"#506784\",\"borderwidth\":0},\"xaxis\":{\"automargin\":true,\"gridcolor\":\"#283442\",\"linecolor\":\"#506784\",\"ticks\":\"\",\"title\":{\"standoff\":15},\"zerolinecolor\":\"#283442\",\"zerolinewidth\":2},\"yaxis\":{\"automargin\":true,\"gridcolor\":\"#283442\",\"linecolor\":\"#506784\",\"ticks\":\"\",\"title\":{\"standoff\":15},\"zerolinecolor\":\"#283442\",\"zerolinewidth\":2}}},\"mapbox\":{\"domain\":{\"x\":[0.0,1.0],\"y\":[0.0,1.0]},\"center\":{\"lat\":40.7,\"lon\":-73.9},\"zoom\":9,\"style\":\"open-street-map\"},\"legend\":{\"tracegroupgap\":0},\"margin\":{\"t\":60},\"height\":700,\"width\":700},                        {\"responsive\": true}                    ).then(function(){\n",
       "                            \n",
       "var gd = document.getElementById('60051d55-2ee6-4869-a8c0-3f55bb22f78a');\n",
       "var x = new MutationObserver(function (mutations, observer) {{\n",
       "        var display = window.getComputedStyle(gd).display;\n",
       "        if (!display || display === 'none') {{\n",
       "            console.log([gd, 'removed!']);\n",
       "            Plotly.purge(gd);\n",
       "            observer.disconnect();\n",
       "        }}\n",
       "}});\n",
       "\n",
       "// Listen for the removal of the full notebook cells\n",
       "var notebookContainer = gd.closest('#notebook-container');\n",
       "if (notebookContainer) {{\n",
       "    x.observe(notebookContainer, {childList: true});\n",
       "}}\n",
       "\n",
       "// Listen for the clearing of the current output cell\n",
       "var outputEl = gd.closest('.output');\n",
       "if (outputEl) {{\n",
       "    x.observe(outputEl, {childList: true});\n",
       "}}\n",
       "\n",
       "                        })                };                });            </script>        </div>"
      ]
     },
     "metadata": {},
     "output_type": "display_data"
    }
   ],
   "source": [
    "fig = px.scatter_mapbox(df, lat=\"LATITUDE\", lon=\"LONGITUDE\", hover_name=\"CRASH DATE\",\n",
    "                        hover_data=[\"NUMBER_OF_INJURED_OR_KILLED\", 'CONTRIBUTING FACTOR VEHICLE 1'],\n",
    "                        center={'lat': 40.7, 'lon': -73.9},\n",
    "                        width=700,\n",
    "                        height=700,\n",
    "                        zoom=9,\n",
    "                        color_discrete_sequence=[\"darkblue\"],\n",
    "                        template='plotly_dark')\n",
    "fig.update_layout(mapbox_style=\"open-street-map\")\n",
    "fig.show()"
   ]
  },
  {
   "cell_type": "markdown",
   "id": "120375c5",
   "metadata": {
    "papermill": {
     "duration": 0.009489,
     "end_time": "2023-09-26T23:00:10.070258",
     "exception": false,
     "start_time": "2023-09-26T23:00:10.060769",
     "status": "completed"
    },
    "tags": []
   },
   "source": [
    "## New York City Vehicle Accidents Time Series Analysis\n",
    "\n",
    "This code utilizes Plotly Express (`px`) to create a line plot for analyzing time series data related to vehicle accidents in New York City. The data is loaded into a pandas DataFrame (`df`), and the 'CRASH DATE' column is used as the x-axis, representing the timeline. The 'NUMBER_OF_INJURED_OR_KILLED' column is used as the y-axis to show the count of individuals injured or killed in each accident.\n",
    "\n",
    "The resulting plot provides insights into the trend of injuries or fatalities in vehicle accidents over time in New York City, aiding in understanding patterns, identifying potential hotspots, and informing safety measures and policies.\n"
   ]
  },
  {
   "cell_type": "code",
   "execution_count": 9,
   "id": "cefc6275",
   "metadata": {
    "execution": {
     "iopub.execute_input": "2023-09-26T23:00:10.091281Z",
     "iopub.status.busy": "2023-09-26T23:00:10.090170Z",
     "iopub.status.idle": "2023-09-26T23:00:10.233699Z",
     "shell.execute_reply": "2023-09-26T23:00:10.231896Z"
    },
    "papermill": {
     "duration": 0.157259,
     "end_time": "2023-09-26T23:00:10.236555",
     "exception": false,
     "start_time": "2023-09-26T23:00:10.079296",
     "status": "completed"
    },
    "tags": []
   },
   "outputs": [
    {
     "data": {
      "text/html": [
       "<div>                            <div id=\"09fe4190-95db-4148-a495-300bc2bdf381\" class=\"plotly-graph-div\" style=\"height:525px; width:100%;\"></div>            <script type=\"text/javascript\">                require([\"plotly\"], function(Plotly) {                    window.PLOTLYENV=window.PLOTLYENV || {};                                    if (document.getElementById(\"09fe4190-95db-4148-a495-300bc2bdf381\")) {                    Plotly.newPlot(                        \"09fe4190-95db-4148-a495-300bc2bdf381\",                        [{\"hovertemplate\":\"CRASH DATE=%{x}\\u003cbr\\u003eNUMBER_OF_INJURED_OR_KILLED=%{y}\\u003cextra\\u003e\\u003c\\u002fextra\\u003e\",\"legendgroup\":\"\",\"line\":{\"color\":\"#636efa\",\"dash\":\"solid\"},\"marker\":{\"symbol\":\"circle\"},\"mode\":\"lines\",\"name\":\"\",\"orientation\":\"v\",\"showlegend\":false,\"x\":[\"2022-07-12T00:00:00\",\"2022-06-29T00:00:00\",\"2022-06-29T00:00:00\",\"2022-04-24T00:00:00\",\"2022-04-24T00:00:00\",\"2022-04-24T00:00:00\",\"2022-04-24T00:00:00\",\"2022-04-24T00:00:00\",\"2022-04-24T00:00:00\",\"2022-04-24T00:00:00\",\"2022-04-24T00:00:00\",\"2022-04-24T00:00:00\",\"2022-04-24T00:00:00\",\"2022-04-24T00:00:00\",\"2022-04-24T00:00:00\",\"2022-04-24T00:00:00\",\"2022-04-24T00:00:00\",\"2022-04-24T00:00:00\",\"2022-04-24T00:00:00\",\"2022-04-24T00:00:00\",\"2022-04-24T00:00:00\",\"2022-04-24T00:00:00\",\"2022-04-22T00:00:00\",\"2022-04-22T00:00:00\",\"2022-04-20T00:00:00\",\"2022-04-15T00:00:00\",\"2022-04-12T00:00:00\",\"2022-04-07T00:00:00\",\"2022-03-26T00:00:00\",\"2022-03-26T00:00:00\",\"2022-03-26T00:00:00\",\"2022-03-26T00:00:00\",\"2022-03-26T00:00:00\",\"2022-03-26T00:00:00\",\"2022-03-26T00:00:00\",\"2022-03-26T00:00:00\",\"2022-03-26T00:00:00\",\"2022-03-26T00:00:00\",\"2022-03-26T00:00:00\",\"2022-03-26T00:00:00\",\"2022-03-26T00:00:00\",\"2022-03-26T00:00:00\",\"2022-03-26T00:00:00\",\"2022-03-26T00:00:00\",\"2022-03-26T00:00:00\",\"2022-03-26T00:00:00\",\"2022-03-26T00:00:00\",\"2022-03-26T00:00:00\",\"2022-03-26T00:00:00\",\"2022-03-26T00:00:00\",\"2022-03-26T00:00:00\",\"2022-03-26T00:00:00\",\"2022-03-26T00:00:00\",\"2022-03-26T00:00:00\",\"2022-03-26T00:00:00\",\"2022-03-26T00:00:00\",\"2022-03-26T00:00:00\",\"2022-03-26T00:00:00\",\"2022-03-26T00:00:00\",\"2022-03-26T00:00:00\",\"2022-03-26T00:00:00\",\"2022-03-26T00:00:00\",\"2022-03-26T00:00:00\",\"2022-03-26T00:00:00\",\"2022-03-26T00:00:00\",\"2022-03-26T00:00:00\",\"2022-03-26T00:00:00\",\"2022-03-26T00:00:00\",\"2022-03-26T00:00:00\",\"2022-03-26T00:00:00\",\"2022-03-26T00:00:00\",\"2022-03-26T00:00:00\",\"2022-03-26T00:00:00\",\"2022-03-26T00:00:00\",\"2022-03-26T00:00:00\",\"2022-03-26T00:00:00\",\"2022-03-26T00:00:00\",\"2022-03-26T00:00:00\",\"2022-03-26T00:00:00\",\"2022-03-26T00:00:00\",\"2022-03-26T00:00:00\",\"2022-03-26T00:00:00\",\"2022-03-26T00:00:00\",\"2022-03-26T00:00:00\",\"2022-03-26T00:00:00\",\"2022-03-26T00:00:00\",\"2022-03-26T00:00:00\",\"2022-03-26T00:00:00\",\"2022-03-26T00:00:00\",\"2022-03-26T00:00:00\",\"2022-03-26T00:00:00\",\"2022-03-26T00:00:00\",\"2022-03-26T00:00:00\",\"2022-03-26T00:00:00\",\"2022-03-26T00:00:00\",\"2022-03-26T00:00:00\",\"2022-03-26T00:00:00\",\"2022-03-26T00:00:00\",\"2022-03-26T00:00:00\",\"2022-03-26T00:00:00\",\"2022-03-26T00:00:00\",\"2022-03-26T00:00:00\",\"2022-03-26T00:00:00\",\"2022-03-26T00:00:00\",\"2022-03-25T00:00:00\",\"2022-03-25T00:00:00\",\"2022-03-25T00:00:00\",\"2022-03-25T00:00:00\",\"2022-03-25T00:00:00\",\"2022-03-25T00:00:00\",\"2022-03-25T00:00:00\",\"2022-03-25T00:00:00\",\"2022-03-25T00:00:00\",\"2022-03-25T00:00:00\",\"2022-03-25T00:00:00\",\"2022-03-25T00:00:00\",\"2022-03-25T00:00:00\",\"2022-03-25T00:00:00\",\"2022-03-24T00:00:00\",\"2022-03-24T00:00:00\",\"2022-03-23T00:00:00\",\"2022-03-23T00:00:00\",\"2022-03-23T00:00:00\",\"2022-03-23T00:00:00\",\"2022-03-23T00:00:00\",\"2022-03-22T00:00:00\",\"2022-03-22T00:00:00\",\"2022-03-21T00:00:00\",\"2022-03-21T00:00:00\",\"2022-03-20T00:00:00\",\"2022-03-17T00:00:00\",\"2022-03-16T00:00:00\",\"2022-03-14T00:00:00\",\"2022-03-10T00:00:00\",\"2022-03-09T00:00:00\",\"2022-03-08T00:00:00\",\"2022-03-05T00:00:00\",\"2022-02-25T00:00:00\",\"2021-12-16T00:00:00\",\"2021-12-16T00:00:00\",\"2021-12-14T00:00:00\",\"2021-12-14T00:00:00\",\"2021-12-14T00:00:00\",\"2021-12-14T00:00:00\",\"2021-12-14T00:00:00\",\"2021-12-14T00:00:00\",\"2021-12-14T00:00:00\",\"2021-12-14T00:00:00\",\"2021-12-14T00:00:00\",\"2021-12-14T00:00:00\",\"2021-12-14T00:00:00\",\"2021-12-14T00:00:00\",\"2021-12-14T00:00:00\",\"2021-12-14T00:00:00\",\"2021-12-14T00:00:00\",\"2021-12-14T00:00:00\",\"2021-12-14T00:00:00\",\"2021-12-14T00:00:00\",\"2021-12-14T00:00:00\",\"2021-12-14T00:00:00\",\"2021-12-13T00:00:00\",\"2021-12-13T00:00:00\",\"2021-12-13T00:00:00\",\"2021-12-12T00:00:00\",\"2021-12-12T00:00:00\",\"2021-12-11T00:00:00\",\"2021-12-11T00:00:00\",\"2021-12-10T00:00:00\",\"2021-12-10T00:00:00\",\"2021-12-10T00:00:00\",\"2021-12-10T00:00:00\",\"2021-12-10T00:00:00\",\"2021-12-10T00:00:00\",\"2021-12-10T00:00:00\",\"2021-12-10T00:00:00\",\"2021-12-10T00:00:00\",\"2021-12-10T00:00:00\",\"2021-12-10T00:00:00\",\"2021-12-10T00:00:00\",\"2021-12-10T00:00:00\",\"2021-12-10T00:00:00\",\"2021-12-09T00:00:00\",\"2021-12-09T00:00:00\",\"2021-12-09T00:00:00\",\"2021-12-09T00:00:00\",\"2021-12-09T00:00:00\",\"2021-12-09T00:00:00\",\"2021-12-09T00:00:00\",\"2021-12-09T00:00:00\",\"2021-12-09T00:00:00\",\"2021-12-09T00:00:00\",\"2021-12-09T00:00:00\",\"2021-12-09T00:00:00\",\"2021-12-09T00:00:00\",\"2021-12-08T00:00:00\",\"2021-12-08T00:00:00\",\"2021-12-08T00:00:00\",\"2021-12-08T00:00:00\",\"2021-12-08T00:00:00\",\"2021-12-08T00:00:00\",\"2021-12-08T00:00:00\",\"2021-12-08T00:00:00\",\"2021-12-08T00:00:00\",\"2021-12-08T00:00:00\",\"2021-12-08T00:00:00\",\"2021-12-08T00:00:00\",\"2021-12-08T00:00:00\",\"2021-12-08T00:00:00\",\"2021-12-07T00:00:00\",\"2021-12-07T00:00:00\",\"2021-12-07T00:00:00\",\"2021-12-06T00:00:00\",\"2021-12-05T00:00:00\",\"2021-12-04T00:00:00\",\"2021-12-03T00:00:00\",\"2021-12-01T00:00:00\",\"2021-11-27T00:00:00\",\"2021-11-24T00:00:00\",\"2021-09-11T00:00:00\",\"2021-09-11T00:00:00\",\"2021-09-11T00:00:00\",\"2021-09-11T00:00:00\",\"2021-09-11T00:00:00\",\"2021-09-11T00:00:00\",\"2021-09-11T00:00:00\",\"2021-09-11T00:00:00\",\"2021-09-11T00:00:00\",\"2021-09-11T00:00:00\",\"2021-09-11T00:00:00\",\"2021-09-11T00:00:00\",\"2021-09-11T00:00:00\",\"2021-09-11T00:00:00\",\"2021-09-11T00:00:00\",\"2021-09-11T00:00:00\",\"2021-09-11T00:00:00\",\"2021-09-11T00:00:00\",\"2021-09-11T00:00:00\",\"2021-09-11T00:00:00\",\"2021-09-11T00:00:00\",\"2021-09-11T00:00:00\",\"2021-09-11T00:00:00\",\"2021-09-11T00:00:00\",\"2021-09-11T00:00:00\",\"2021-09-11T00:00:00\",\"2021-09-11T00:00:00\",\"2021-09-11T00:00:00\",\"2021-09-11T00:00:00\",\"2021-09-11T00:00:00\",\"2021-09-11T00:00:00\",\"2021-09-11T00:00:00\",\"2021-09-11T00:00:00\",\"2021-09-11T00:00:00\",\"2021-09-11T00:00:00\",\"2021-09-11T00:00:00\",\"2021-09-11T00:00:00\",\"2021-09-11T00:00:00\",\"2021-09-11T00:00:00\",\"2021-09-11T00:00:00\",\"2021-09-11T00:00:00\",\"2021-09-11T00:00:00\",\"2021-09-11T00:00:00\",\"2021-09-11T00:00:00\",\"2021-09-11T00:00:00\",\"2021-09-11T00:00:00\",\"2021-09-11T00:00:00\",\"2021-09-11T00:00:00\",\"2021-09-11T00:00:00\",\"2021-09-11T00:00:00\",\"2021-09-11T00:00:00\",\"2021-09-11T00:00:00\",\"2021-09-11T00:00:00\",\"2021-09-11T00:00:00\",\"2021-09-11T00:00:00\",\"2021-09-11T00:00:00\",\"2021-09-11T00:00:00\",\"2021-09-11T00:00:00\",\"2021-09-11T00:00:00\",\"2021-09-11T00:00:00\",\"2021-09-11T00:00:00\",\"2021-09-11T00:00:00\",\"2021-09-11T00:00:00\",\"2021-09-11T00:00:00\",\"2021-09-11T00:00:00\",\"2021-09-11T00:00:00\",\"2021-09-11T00:00:00\",\"2021-09-11T00:00:00\",\"2021-09-11T00:00:00\",\"2021-09-11T00:00:00\",\"2021-09-11T00:00:00\",\"2021-09-11T00:00:00\",\"2021-09-11T00:00:00\",\"2021-09-11T00:00:00\",\"2021-09-11T00:00:00\",\"2021-09-11T00:00:00\",\"2021-09-11T00:00:00\",\"2021-09-11T00:00:00\",\"2021-09-11T00:00:00\",\"2021-09-11T00:00:00\",\"2021-09-11T00:00:00\",\"2021-09-11T00:00:00\",\"2021-09-11T00:00:00\",\"2021-09-11T00:00:00\",\"2021-09-11T00:00:00\",\"2021-09-11T00:00:00\",\"2021-09-11T00:00:00\",\"2021-09-11T00:00:00\",\"2021-09-11T00:00:00\",\"2021-09-11T00:00:00\",\"2021-09-11T00:00:00\",\"2021-09-11T00:00:00\",\"2021-09-11T00:00:00\",\"2021-09-11T00:00:00\",\"2021-09-11T00:00:00\",\"2021-09-11T00:00:00\",\"2021-09-11T00:00:00\",\"2021-09-11T00:00:00\",\"2021-09-11T00:00:00\",\"2021-09-11T00:00:00\",\"2021-09-11T00:00:00\",\"2021-09-11T00:00:00\",\"2021-09-11T00:00:00\",\"2021-09-11T00:00:00\",\"2021-09-11T00:00:00\",\"2021-09-11T00:00:00\",\"2021-09-11T00:00:00\",\"2021-09-10T00:00:00\",\"2021-09-10T00:00:00\",\"2021-09-10T00:00:00\",\"2021-09-10T00:00:00\",\"2021-09-10T00:00:00\",\"2021-09-10T00:00:00\",\"2021-09-10T00:00:00\",\"2021-09-10T00:00:00\",\"2021-09-10T00:00:00\",\"2021-09-10T00:00:00\",\"2021-09-10T00:00:00\",\"2021-09-10T00:00:00\",\"2021-09-10T00:00:00\",\"2021-09-10T00:00:00\",\"2021-09-10T00:00:00\",\"2021-09-10T00:00:00\",\"2021-09-10T00:00:00\",\"2021-09-10T00:00:00\",\"2021-09-10T00:00:00\",\"2021-09-10T00:00:00\",\"2021-09-10T00:00:00\",\"2021-09-09T00:00:00\",\"2021-09-09T00:00:00\",\"2021-09-09T00:00:00\",\"2021-09-09T00:00:00\",\"2021-09-09T00:00:00\",\"2021-09-09T00:00:00\",\"2021-09-08T00:00:00\",\"2021-09-08T00:00:00\",\"2021-09-08T00:00:00\",\"2021-09-08T00:00:00\",\"2021-09-08T00:00:00\",\"2021-09-07T00:00:00\",\"2021-09-07T00:00:00\",\"2021-09-07T00:00:00\",\"2021-09-07T00:00:00\",\"2021-09-07T00:00:00\",\"2021-09-07T00:00:00\",\"2021-09-06T00:00:00\",\"2021-09-06T00:00:00\",\"2021-09-05T00:00:00\",\"2021-09-05T00:00:00\",\"2021-09-03T00:00:00\",\"2021-09-02T00:00:00\",\"2021-09-02T00:00:00\",\"2021-09-01T00:00:00\",\"2021-08-29T00:00:00\",\"2021-08-23T00:00:00\",\"2021-08-11T00:00:00\",\"2021-08-05T00:00:00\",\"2021-07-09T00:00:00\",\"2021-07-09T00:00:00\",\"2021-07-09T00:00:00\",\"2021-07-09T00:00:00\",\"2021-07-09T00:00:00\",\"2021-07-09T00:00:00\",\"2021-07-09T00:00:00\",\"2021-07-09T00:00:00\",\"2021-07-09T00:00:00\",\"2021-07-09T00:00:00\",\"2021-07-09T00:00:00\",\"2021-07-09T00:00:00\",\"2021-07-08T00:00:00\",\"2021-07-08T00:00:00\",\"2021-07-08T00:00:00\",\"2021-07-08T00:00:00\",\"2021-07-08T00:00:00\",\"2021-07-08T00:00:00\",\"2021-07-08T00:00:00\",\"2021-07-08T00:00:00\",\"2021-07-08T00:00:00\",\"2021-07-08T00:00:00\",\"2021-07-08T00:00:00\",\"2021-07-08T00:00:00\",\"2021-07-08T00:00:00\",\"2021-07-08T00:00:00\",\"2021-07-08T00:00:00\",\"2021-07-08T00:00:00\",\"2021-07-08T00:00:00\",\"2021-07-08T00:00:00\",\"2021-07-08T00:00:00\",\"2021-07-08T00:00:00\",\"2021-07-08T00:00:00\",\"2021-07-08T00:00:00\",\"2021-07-08T00:00:00\",\"2021-07-07T00:00:00\",\"2021-07-07T00:00:00\",\"2021-07-07T00:00:00\",\"2021-07-07T00:00:00\",\"2021-07-07T00:00:00\",\"2021-07-07T00:00:00\",\"2021-07-06T00:00:00\",\"2021-07-06T00:00:00\",\"2021-07-06T00:00:00\",\"2021-07-06T00:00:00\",\"2021-07-05T00:00:00\",\"2021-07-05T00:00:00\",\"2021-07-05T00:00:00\",\"2021-07-04T00:00:00\",\"2021-07-04T00:00:00\",\"2021-07-04T00:00:00\",\"2021-07-04T00:00:00\",\"2021-07-04T00:00:00\",\"2021-07-03T00:00:00\",\"2021-07-02T00:00:00\",\"2021-07-02T00:00:00\",\"2021-07-02T00:00:00\",\"2021-07-01T00:00:00\",\"2021-07-01T00:00:00\",\"2021-07-01T00:00:00\",\"2021-07-01T00:00:00\",\"2021-06-30T00:00:00\",\"2021-06-30T00:00:00\",\"2021-06-29T00:00:00\",\"2021-06-29T00:00:00\",\"2021-06-26T00:00:00\",\"2021-06-26T00:00:00\",\"2021-06-25T00:00:00\",\"2021-04-16T00:00:00\",\"2021-04-16T00:00:00\",\"2021-04-16T00:00:00\",\"2021-04-16T00:00:00\",\"2021-04-16T00:00:00\",\"2021-04-16T00:00:00\",\"2021-04-16T00:00:00\",\"2021-04-16T00:00:00\",\"2021-04-16T00:00:00\",\"2021-04-16T00:00:00\",\"2021-04-16T00:00:00\",\"2021-04-16T00:00:00\",\"2021-04-16T00:00:00\",\"2021-04-16T00:00:00\",\"2021-04-16T00:00:00\",\"2021-04-15T00:00:00\",\"2021-04-15T00:00:00\",\"2021-04-15T00:00:00\",\"2021-04-15T00:00:00\",\"2021-04-15T00:00:00\",\"2021-04-15T00:00:00\",\"2021-04-15T00:00:00\",\"2021-04-15T00:00:00\",\"2021-04-15T00:00:00\",\"2021-04-15T00:00:00\",\"2021-04-15T00:00:00\",\"2021-04-14T00:00:00\",\"2021-04-14T00:00:00\",\"2021-04-14T00:00:00\",\"2021-04-14T00:00:00\",\"2021-04-14T00:00:00\",\"2021-04-14T00:00:00\",\"2021-04-14T00:00:00\",\"2021-04-14T00:00:00\",\"2021-04-14T00:00:00\",\"2021-04-14T00:00:00\",\"2021-04-14T00:00:00\",\"2021-04-14T00:00:00\",\"2021-04-14T00:00:00\",\"2021-04-14T00:00:00\",\"2021-04-14T00:00:00\",\"2021-04-14T00:00:00\",\"2021-04-13T00:00:00\",\"2021-04-13T00:00:00\",\"2021-04-13T00:00:00\",\"2021-04-13T00:00:00\",\"2021-04-12T00:00:00\",\"2021-04-09T00:00:00\",\"2021-04-06T00:00:00\",\"2021-03-31T00:00:00\",\"2021-03-09T00:00:00\",\"2021-02-26T00:00:00\",\"2020-01-21T00:00:00\",\"2019-05-21T00:00:00\"],\"xaxis\":\"x\",\"y\":[0,0,2,0,2,2,0,0,2,0,2,0,0,2,2,0,0,0,0,0,0,2,2,2,0,1,2,0,0,4,2,2,0,0,0,2,2,2,2,0,0,4,0,4,0,0,0,0,0,0,0,0,0,8,0,2,0,0,2,0,0,0,4,2,0,0,0,0,0,0,2,0,0,2,2,2,2,0,2,0,2,2,0,0,0,2,0,0,2,0,2,0,2,0,0,0,0,0,2,0,0,2,0,0,0,0,0,0,0,4,0,2,4,0,2,2,0,0,2,0,0,0,2,0,0,2,2,2,2,2,2,2,0,8,2,0,0,0,2,0,6,0,2,2,0,4,0,2,0,8,0,0,2,0,0,2,4,0,0,2,0,0,2,2,0,0,2,0,0,0,2,0,0,0,0,0,0,0,0,0,2,4,0,2,2,0,2,2,0,2,0,4,0,2,0,0,0,0,0,0,0,0,0,8,2,2,0,0,0,0,0,0,0,0,0,0,0,2,2,0,0,0,2,0,2,0,0,4,0,0,0,0,0,2,0,2,0,0,0,0,2,0,0,2,0,2,0,4,0,0,0,0,0,0,4,0,0,0,0,2,4,0,6,0,0,2,0,0,2,0,0,4,0,0,0,0,0,0,0,0,2,0,0,0,6,0,0,0,0,0,0,0,0,0,0,2,4,2,0,2,0,0,0,2,2,0,0,0,0,0,2,0,1,0,2,0,0,0,2,0,0,0,0,0,0,0,0,0,0,1,2,0,2,2,1,0,2,1,2,0,0,4,0,0,4,0,0,2,0,0,2,0,0,0,2,2,0,2,2,0,2,2,0,0,2,10,0,0,2,0,2,2,2,0,0,0,0,0,0,2,2,0,0,0,2,0,2,0,0,0,2,0,0,2,2,0,4,0,2,0,2,0,2,2,0,0,2,2,0,0,0,2,2,0,0,1,4,0,0,0,0,0,0,2,0,2,2,0,2,2,0,2,0,0,0,0,0,0,0,0,0,0,0,6,0,0,0,4,0,0,0,0,0,0,0,0,2,10,2,0,0,0,0,0,0,0,2,2,0,6,0,0,0,2,0,0,2,0,0,0,0,2,0,0,0,0,2,0,0,2,2,14,2,2,0,0,0],\"yaxis\":\"y\",\"type\":\"scatter\"}],                        {\"template\":{\"data\":{\"barpolar\":[{\"marker\":{\"line\":{\"color\":\"rgb(17,17,17)\",\"width\":0.5},\"pattern\":{\"fillmode\":\"overlay\",\"size\":10,\"solidity\":0.2}},\"type\":\"barpolar\"}],\"bar\":[{\"error_x\":{\"color\":\"#f2f5fa\"},\"error_y\":{\"color\":\"#f2f5fa\"},\"marker\":{\"line\":{\"color\":\"rgb(17,17,17)\",\"width\":0.5},\"pattern\":{\"fillmode\":\"overlay\",\"size\":10,\"solidity\":0.2}},\"type\":\"bar\"}],\"carpet\":[{\"aaxis\":{\"endlinecolor\":\"#A2B1C6\",\"gridcolor\":\"#506784\",\"linecolor\":\"#506784\",\"minorgridcolor\":\"#506784\",\"startlinecolor\":\"#A2B1C6\"},\"baxis\":{\"endlinecolor\":\"#A2B1C6\",\"gridcolor\":\"#506784\",\"linecolor\":\"#506784\",\"minorgridcolor\":\"#506784\",\"startlinecolor\":\"#A2B1C6\"},\"type\":\"carpet\"}],\"choropleth\":[{\"colorbar\":{\"outlinewidth\":0,\"ticks\":\"\"},\"type\":\"choropleth\"}],\"contourcarpet\":[{\"colorbar\":{\"outlinewidth\":0,\"ticks\":\"\"},\"type\":\"contourcarpet\"}],\"contour\":[{\"colorbar\":{\"outlinewidth\":0,\"ticks\":\"\"},\"colorscale\":[[0.0,\"#0d0887\"],[0.1111111111111111,\"#46039f\"],[0.2222222222222222,\"#7201a8\"],[0.3333333333333333,\"#9c179e\"],[0.4444444444444444,\"#bd3786\"],[0.5555555555555556,\"#d8576b\"],[0.6666666666666666,\"#ed7953\"],[0.7777777777777778,\"#fb9f3a\"],[0.8888888888888888,\"#fdca26\"],[1.0,\"#f0f921\"]],\"type\":\"contour\"}],\"heatmapgl\":[{\"colorbar\":{\"outlinewidth\":0,\"ticks\":\"\"},\"colorscale\":[[0.0,\"#0d0887\"],[0.1111111111111111,\"#46039f\"],[0.2222222222222222,\"#7201a8\"],[0.3333333333333333,\"#9c179e\"],[0.4444444444444444,\"#bd3786\"],[0.5555555555555556,\"#d8576b\"],[0.6666666666666666,\"#ed7953\"],[0.7777777777777778,\"#fb9f3a\"],[0.8888888888888888,\"#fdca26\"],[1.0,\"#f0f921\"]],\"type\":\"heatmapgl\"}],\"heatmap\":[{\"colorbar\":{\"outlinewidth\":0,\"ticks\":\"\"},\"colorscale\":[[0.0,\"#0d0887\"],[0.1111111111111111,\"#46039f\"],[0.2222222222222222,\"#7201a8\"],[0.3333333333333333,\"#9c179e\"],[0.4444444444444444,\"#bd3786\"],[0.5555555555555556,\"#d8576b\"],[0.6666666666666666,\"#ed7953\"],[0.7777777777777778,\"#fb9f3a\"],[0.8888888888888888,\"#fdca26\"],[1.0,\"#f0f921\"]],\"type\":\"heatmap\"}],\"histogram2dcontour\":[{\"colorbar\":{\"outlinewidth\":0,\"ticks\":\"\"},\"colorscale\":[[0.0,\"#0d0887\"],[0.1111111111111111,\"#46039f\"],[0.2222222222222222,\"#7201a8\"],[0.3333333333333333,\"#9c179e\"],[0.4444444444444444,\"#bd3786\"],[0.5555555555555556,\"#d8576b\"],[0.6666666666666666,\"#ed7953\"],[0.7777777777777778,\"#fb9f3a\"],[0.8888888888888888,\"#fdca26\"],[1.0,\"#f0f921\"]],\"type\":\"histogram2dcontour\"}],\"histogram2d\":[{\"colorbar\":{\"outlinewidth\":0,\"ticks\":\"\"},\"colorscale\":[[0.0,\"#0d0887\"],[0.1111111111111111,\"#46039f\"],[0.2222222222222222,\"#7201a8\"],[0.3333333333333333,\"#9c179e\"],[0.4444444444444444,\"#bd3786\"],[0.5555555555555556,\"#d8576b\"],[0.6666666666666666,\"#ed7953\"],[0.7777777777777778,\"#fb9f3a\"],[0.8888888888888888,\"#fdca26\"],[1.0,\"#f0f921\"]],\"type\":\"histogram2d\"}],\"histogram\":[{\"marker\":{\"pattern\":{\"fillmode\":\"overlay\",\"size\":10,\"solidity\":0.2}},\"type\":\"histogram\"}],\"mesh3d\":[{\"colorbar\":{\"outlinewidth\":0,\"ticks\":\"\"},\"type\":\"mesh3d\"}],\"parcoords\":[{\"line\":{\"colorbar\":{\"outlinewidth\":0,\"ticks\":\"\"}},\"type\":\"parcoords\"}],\"pie\":[{\"automargin\":true,\"type\":\"pie\"}],\"scatter3d\":[{\"line\":{\"colorbar\":{\"outlinewidth\":0,\"ticks\":\"\"}},\"marker\":{\"colorbar\":{\"outlinewidth\":0,\"ticks\":\"\"}},\"type\":\"scatter3d\"}],\"scattercarpet\":[{\"marker\":{\"colorbar\":{\"outlinewidth\":0,\"ticks\":\"\"}},\"type\":\"scattercarpet\"}],\"scattergeo\":[{\"marker\":{\"colorbar\":{\"outlinewidth\":0,\"ticks\":\"\"}},\"type\":\"scattergeo\"}],\"scattergl\":[{\"marker\":{\"line\":{\"color\":\"#283442\"}},\"type\":\"scattergl\"}],\"scattermapbox\":[{\"marker\":{\"colorbar\":{\"outlinewidth\":0,\"ticks\":\"\"}},\"type\":\"scattermapbox\"}],\"scatterpolargl\":[{\"marker\":{\"colorbar\":{\"outlinewidth\":0,\"ticks\":\"\"}},\"type\":\"scatterpolargl\"}],\"scatterpolar\":[{\"marker\":{\"colorbar\":{\"outlinewidth\":0,\"ticks\":\"\"}},\"type\":\"scatterpolar\"}],\"scatter\":[{\"marker\":{\"line\":{\"color\":\"#283442\"}},\"type\":\"scatter\"}],\"scatterternary\":[{\"marker\":{\"colorbar\":{\"outlinewidth\":0,\"ticks\":\"\"}},\"type\":\"scatterternary\"}],\"surface\":[{\"colorbar\":{\"outlinewidth\":0,\"ticks\":\"\"},\"colorscale\":[[0.0,\"#0d0887\"],[0.1111111111111111,\"#46039f\"],[0.2222222222222222,\"#7201a8\"],[0.3333333333333333,\"#9c179e\"],[0.4444444444444444,\"#bd3786\"],[0.5555555555555556,\"#d8576b\"],[0.6666666666666666,\"#ed7953\"],[0.7777777777777778,\"#fb9f3a\"],[0.8888888888888888,\"#fdca26\"],[1.0,\"#f0f921\"]],\"type\":\"surface\"}],\"table\":[{\"cells\":{\"fill\":{\"color\":\"#506784\"},\"line\":{\"color\":\"rgb(17,17,17)\"}},\"header\":{\"fill\":{\"color\":\"#2a3f5f\"},\"line\":{\"color\":\"rgb(17,17,17)\"}},\"type\":\"table\"}]},\"layout\":{\"annotationdefaults\":{\"arrowcolor\":\"#f2f5fa\",\"arrowhead\":0,\"arrowwidth\":1},\"autotypenumbers\":\"strict\",\"coloraxis\":{\"colorbar\":{\"outlinewidth\":0,\"ticks\":\"\"}},\"colorscale\":{\"diverging\":[[0,\"#8e0152\"],[0.1,\"#c51b7d\"],[0.2,\"#de77ae\"],[0.3,\"#f1b6da\"],[0.4,\"#fde0ef\"],[0.5,\"#f7f7f7\"],[0.6,\"#e6f5d0\"],[0.7,\"#b8e186\"],[0.8,\"#7fbc41\"],[0.9,\"#4d9221\"],[1,\"#276419\"]],\"sequential\":[[0.0,\"#0d0887\"],[0.1111111111111111,\"#46039f\"],[0.2222222222222222,\"#7201a8\"],[0.3333333333333333,\"#9c179e\"],[0.4444444444444444,\"#bd3786\"],[0.5555555555555556,\"#d8576b\"],[0.6666666666666666,\"#ed7953\"],[0.7777777777777778,\"#fb9f3a\"],[0.8888888888888888,\"#fdca26\"],[1.0,\"#f0f921\"]],\"sequentialminus\":[[0.0,\"#0d0887\"],[0.1111111111111111,\"#46039f\"],[0.2222222222222222,\"#7201a8\"],[0.3333333333333333,\"#9c179e\"],[0.4444444444444444,\"#bd3786\"],[0.5555555555555556,\"#d8576b\"],[0.6666666666666666,\"#ed7953\"],[0.7777777777777778,\"#fb9f3a\"],[0.8888888888888888,\"#fdca26\"],[1.0,\"#f0f921\"]]},\"colorway\":[\"#636efa\",\"#EF553B\",\"#00cc96\",\"#ab63fa\",\"#FFA15A\",\"#19d3f3\",\"#FF6692\",\"#B6E880\",\"#FF97FF\",\"#FECB52\"],\"font\":{\"color\":\"#f2f5fa\"},\"geo\":{\"bgcolor\":\"rgb(17,17,17)\",\"lakecolor\":\"rgb(17,17,17)\",\"landcolor\":\"rgb(17,17,17)\",\"showlakes\":true,\"showland\":true,\"subunitcolor\":\"#506784\"},\"hoverlabel\":{\"align\":\"left\"},\"hovermode\":\"closest\",\"mapbox\":{\"style\":\"dark\"},\"paper_bgcolor\":\"rgb(17,17,17)\",\"plot_bgcolor\":\"rgb(17,17,17)\",\"polar\":{\"angularaxis\":{\"gridcolor\":\"#506784\",\"linecolor\":\"#506784\",\"ticks\":\"\"},\"bgcolor\":\"rgb(17,17,17)\",\"radialaxis\":{\"gridcolor\":\"#506784\",\"linecolor\":\"#506784\",\"ticks\":\"\"}},\"scene\":{\"xaxis\":{\"backgroundcolor\":\"rgb(17,17,17)\",\"gridcolor\":\"#506784\",\"gridwidth\":2,\"linecolor\":\"#506784\",\"showbackground\":true,\"ticks\":\"\",\"zerolinecolor\":\"#C8D4E3\"},\"yaxis\":{\"backgroundcolor\":\"rgb(17,17,17)\",\"gridcolor\":\"#506784\",\"gridwidth\":2,\"linecolor\":\"#506784\",\"showbackground\":true,\"ticks\":\"\",\"zerolinecolor\":\"#C8D4E3\"},\"zaxis\":{\"backgroundcolor\":\"rgb(17,17,17)\",\"gridcolor\":\"#506784\",\"gridwidth\":2,\"linecolor\":\"#506784\",\"showbackground\":true,\"ticks\":\"\",\"zerolinecolor\":\"#C8D4E3\"}},\"shapedefaults\":{\"line\":{\"color\":\"#f2f5fa\"}},\"sliderdefaults\":{\"bgcolor\":\"#C8D4E3\",\"bordercolor\":\"rgb(17,17,17)\",\"borderwidth\":1,\"tickwidth\":0},\"ternary\":{\"aaxis\":{\"gridcolor\":\"#506784\",\"linecolor\":\"#506784\",\"ticks\":\"\"},\"baxis\":{\"gridcolor\":\"#506784\",\"linecolor\":\"#506784\",\"ticks\":\"\"},\"bgcolor\":\"rgb(17,17,17)\",\"caxis\":{\"gridcolor\":\"#506784\",\"linecolor\":\"#506784\",\"ticks\":\"\"}},\"title\":{\"x\":0.05},\"updatemenudefaults\":{\"bgcolor\":\"#506784\",\"borderwidth\":0},\"xaxis\":{\"automargin\":true,\"gridcolor\":\"#283442\",\"linecolor\":\"#506784\",\"ticks\":\"\",\"title\":{\"standoff\":15},\"zerolinecolor\":\"#283442\",\"zerolinewidth\":2},\"yaxis\":{\"automargin\":true,\"gridcolor\":\"#283442\",\"linecolor\":\"#506784\",\"ticks\":\"\",\"title\":{\"standoff\":15},\"zerolinecolor\":\"#283442\",\"zerolinewidth\":2}}},\"xaxis\":{\"anchor\":\"y\",\"domain\":[0.0,1.0],\"title\":{\"text\":\"CRASH DATE\"}},\"yaxis\":{\"anchor\":\"x\",\"domain\":[0.0,1.0],\"title\":{\"text\":\"NUMBER_OF_INJURED_OR_KILLED\"}},\"legend\":{\"tracegroupgap\":0},\"title\":{\"text\":\"New York City Vehicle Accidents\"}},                        {\"responsive\": true}                    ).then(function(){\n",
       "                            \n",
       "var gd = document.getElementById('09fe4190-95db-4148-a495-300bc2bdf381');\n",
       "var x = new MutationObserver(function (mutations, observer) {{\n",
       "        var display = window.getComputedStyle(gd).display;\n",
       "        if (!display || display === 'none') {{\n",
       "            console.log([gd, 'removed!']);\n",
       "            Plotly.purge(gd);\n",
       "            observer.disconnect();\n",
       "        }}\n",
       "}});\n",
       "\n",
       "// Listen for the removal of the full notebook cells\n",
       "var notebookContainer = gd.closest('#notebook-container');\n",
       "if (notebookContainer) {{\n",
       "    x.observe(notebookContainer, {childList: true});\n",
       "}}\n",
       "\n",
       "// Listen for the clearing of the current output cell\n",
       "var outputEl = gd.closest('.output');\n",
       "if (outputEl) {{\n",
       "    x.observe(outputEl, {childList: true});\n",
       "}}\n",
       "\n",
       "                        })                };                });            </script>        </div>"
      ]
     },
     "metadata": {},
     "output_type": "display_data"
    }
   ],
   "source": [
    "fig = px.line(df.sort_values(by='CRASH DATE', ascending=False), x='CRASH DATE', y=\"NUMBER_OF_INJURED_OR_KILLED\",\n",
    "              title='New York City Vehicle Accidents', template='plotly_dark')\n",
    "fig.show()"
   ]
  },
  {
   "cell_type": "markdown",
   "id": "2911104d",
   "metadata": {
    "papermill": {
     "duration": 0.008721,
     "end_time": "2023-09-26T23:00:10.254594",
     "exception": false,
     "start_time": "2023-09-26T23:00:10.245873",
     "status": "completed"
    },
    "tags": []
   },
   "source": [
    "## Vehicle Type Analysis"
   ]
  },
  {
   "cell_type": "markdown",
   "id": "6338dca1",
   "metadata": {
    "papermill": {
     "duration": 0.008851,
     "end_time": "2023-09-26T23:00:10.272519",
     "exception": false,
     "start_time": "2023-09-26T23:00:10.263668",
     "status": "completed"
    },
    "tags": []
   },
   "source": [
    "### Identifying Common Vehicle Types\n",
    "\n",
    "This code snippet focuses on analyzing vehicle types involved in accidents within a DataFrame (`df`). The objective is to identify and retain vehicle types that appear more than once in the dataset, potentially indicating common types of vehicles in accidents.\n",
    "\n",
    "Here's a breakdown of the code's functionality:\n",
    "\n",
    "1. **Count Vehicle Types**: The code first counts the occurrences of each unique vehicle type in the 'VEHICLE TYPE CODE 1' column using the `value_counts()` method. The result is stored as a DataFrame named `df_vehicle_type`.\n",
    "\n",
    "2. **Set Vehicle Type as a Column**: The index of `df_vehicle_type` is set as a new column 'VEHICLE TYPE CODE 1' to make it accessible for analysis.\n",
    "\n",
    "3. **Reset Index**: The code resets the index of `df_vehicle_type` using `reset_index(drop=True)` to obtain a cleaner and more consistent DataFrame structure.\n",
    "\n",
    "4. **Filter Common Vehicle Types**: Rows in `df_vehicle_type` where the 'count' (indicating the frequency of each vehicle type) is less than or equal to 5 are dropped. This step helps retain only those vehicle types that appear more than once in the dataset, filtering out less common types."
   ]
  },
  {
   "cell_type": "code",
   "execution_count": 10,
   "id": "4ce1c1c4",
   "metadata": {
    "execution": {
     "iopub.execute_input": "2023-09-26T23:00:10.294073Z",
     "iopub.status.busy": "2023-09-26T23:00:10.292457Z",
     "iopub.status.idle": "2023-09-26T23:00:10.306128Z",
     "shell.execute_reply": "2023-09-26T23:00:10.305135Z"
    },
    "papermill": {
     "duration": 0.027275,
     "end_time": "2023-09-26T23:00:10.308887",
     "exception": false,
     "start_time": "2023-09-26T23:00:10.281612",
     "status": "completed"
    },
    "tags": []
   },
   "outputs": [],
   "source": [
    "df_vehicle_type = df['VEHICLE TYPE CODE 1'].value_counts().to_frame()\n",
    "df_vehicle_type['VEHICLE TYPE CODE 1'] = df_vehicle_type.index\n",
    "df_vehicle_type = df_vehicle_type.reset_index(drop=True)\n",
    "df_vehicle_type = df_vehicle_type.drop(df_vehicle_type[df_vehicle_type['count'] <= 5].index)"
   ]
  },
  {
   "cell_type": "code",
   "execution_count": 11,
   "id": "48849351",
   "metadata": {
    "execution": {
     "iopub.execute_input": "2023-09-26T23:00:10.329618Z",
     "iopub.status.busy": "2023-09-26T23:00:10.329211Z",
     "iopub.status.idle": "2023-09-26T23:00:10.340417Z",
     "shell.execute_reply": "2023-09-26T23:00:10.339038Z"
    },
    "papermill": {
     "duration": 0.025961,
     "end_time": "2023-09-26T23:00:10.344524",
     "exception": false,
     "start_time": "2023-09-26T23:00:10.318563",
     "status": "completed"
    },
    "tags": []
   },
   "outputs": [
    {
     "data": {
      "text/html": [
       "<div>\n",
       "<style scoped>\n",
       "    .dataframe tbody tr th:only-of-type {\n",
       "        vertical-align: middle;\n",
       "    }\n",
       "\n",
       "    .dataframe tbody tr th {\n",
       "        vertical-align: top;\n",
       "    }\n",
       "\n",
       "    .dataframe thead th {\n",
       "        text-align: right;\n",
       "    }\n",
       "</style>\n",
       "<table border=\"1\" class=\"dataframe\">\n",
       "  <thead>\n",
       "    <tr style=\"text-align: right;\">\n",
       "      <th></th>\n",
       "      <th>count</th>\n",
       "      <th>VEHICLE TYPE CODE 1</th>\n",
       "    </tr>\n",
       "  </thead>\n",
       "  <tbody>\n",
       "    <tr>\n",
       "      <th>0</th>\n",
       "      <td>249</td>\n",
       "      <td>Sedan</td>\n",
       "    </tr>\n",
       "    <tr>\n",
       "      <th>1</th>\n",
       "      <td>160</td>\n",
       "      <td>Station Wagon/Sport Utility Vehicle</td>\n",
       "    </tr>\n",
       "    <tr>\n",
       "      <th>2</th>\n",
       "      <td>20</td>\n",
       "      <td>Taxi</td>\n",
       "    </tr>\n",
       "    <tr>\n",
       "      <th>3</th>\n",
       "      <td>10</td>\n",
       "      <td>Pick-up Truck</td>\n",
       "    </tr>\n",
       "    <tr>\n",
       "      <th>4</th>\n",
       "      <td>10</td>\n",
       "      <td>Box Truck</td>\n",
       "    </tr>\n",
       "    <tr>\n",
       "      <th>5</th>\n",
       "      <td>6</td>\n",
       "      <td>Bike</td>\n",
       "    </tr>\n",
       "    <tr>\n",
       "      <th>6</th>\n",
       "      <td>6</td>\n",
       "      <td>E-Bike</td>\n",
       "    </tr>\n",
       "    <tr>\n",
       "      <th>7</th>\n",
       "      <td>6</td>\n",
       "      <td>Motorcycle</td>\n",
       "    </tr>\n",
       "  </tbody>\n",
       "</table>\n",
       "</div>"
      ],
      "text/plain": [
       "   count                  VEHICLE TYPE CODE 1\n",
       "0    249                                Sedan\n",
       "1    160  Station Wagon/Sport Utility Vehicle\n",
       "2     20                                 Taxi\n",
       "3     10                        Pick-up Truck\n",
       "4     10                            Box Truck\n",
       "5      6                                 Bike\n",
       "6      6                               E-Bike\n",
       "7      6                           Motorcycle"
      ]
     },
     "execution_count": 11,
     "metadata": {},
     "output_type": "execute_result"
    }
   ],
   "source": [
    "df_vehicle_type"
   ]
  },
  {
   "cell_type": "markdown",
   "id": "4a5f7cdc",
   "metadata": {
    "papermill": {
     "duration": 0.009057,
     "end_time": "2023-09-26T23:00:10.363002",
     "exception": false,
     "start_time": "2023-09-26T23:00:10.353945",
     "status": "completed"
    },
    "tags": []
   },
   "source": [
    "### Vehicle Type Distribution: Pie Chart Visualization\n",
    "\n",
    "This code cell utilizes Plotly Express (`px`) to create a pie chart visualization based on vehicle type data stored in the DataFrame `df_vehicle_type`. The primary goal is to visualize the distribution of vehicle types involved in accidents.\n",
    "\n",
    "Here's an overview of what this code accomplishes:\n",
    "\n",
    "- **Pie Chart Creation**: The code uses `px.pie` to generate a pie chart. The 'count' column from `df_vehicle_type` is used as the values for the pie chart slices, while the 'VEHICLE TYPE CODE 1' column provides the labels (names) for each slice.\n",
    "\n",
    "- **Visualization**: By calling `fig.show()`, the pie chart is displayed, allowing viewers to easily understand the relative proportions of different vehicle types in accidents.\n",
    "\n",
    "This visualization is particularly useful for gaining insights into the composition of vehicle types involved in accidents.\n"
   ]
  },
  {
   "cell_type": "code",
   "execution_count": 12,
   "id": "322c7050",
   "metadata": {
    "execution": {
     "iopub.execute_input": "2023-09-26T23:00:10.385557Z",
     "iopub.status.busy": "2023-09-26T23:00:10.384876Z",
     "iopub.status.idle": "2023-09-26T23:00:10.487146Z",
     "shell.execute_reply": "2023-09-26T23:00:10.485847Z"
    },
    "papermill": {
     "duration": 0.117361,
     "end_time": "2023-09-26T23:00:10.490925",
     "exception": false,
     "start_time": "2023-09-26T23:00:10.373564",
     "status": "completed"
    },
    "tags": []
   },
   "outputs": [
    {
     "data": {
      "text/html": [
       "<div>                            <div id=\"376c8c70-0ddc-47c5-88d0-8595fd87eb22\" class=\"plotly-graph-div\" style=\"height:525px; width:100%;\"></div>            <script type=\"text/javascript\">                require([\"plotly\"], function(Plotly) {                    window.PLOTLYENV=window.PLOTLYENV || {};                                    if (document.getElementById(\"376c8c70-0ddc-47c5-88d0-8595fd87eb22\")) {                    Plotly.newPlot(                        \"376c8c70-0ddc-47c5-88d0-8595fd87eb22\",                        [{\"domain\":{\"x\":[0.0,1.0],\"y\":[0.0,1.0]},\"hovertemplate\":\"VEHICLE TYPE CODE 1=%{label}\\u003cbr\\u003ecount=%{value}\\u003cextra\\u003e\\u003c\\u002fextra\\u003e\",\"labels\":[\"Sedan\",\"Station Wagon\\u002fSport Utility Vehicle\",\"Taxi\",\"Pick-up Truck\",\"Box Truck\",\"Bike\",\"E-Bike\",\"Motorcycle\"],\"legendgroup\":\"\",\"name\":\"\",\"showlegend\":true,\"values\":[249,160,20,10,10,6,6,6],\"type\":\"pie\"}],                        {\"template\":{\"data\":{\"barpolar\":[{\"marker\":{\"line\":{\"color\":\"rgb(17,17,17)\",\"width\":0.5},\"pattern\":{\"fillmode\":\"overlay\",\"size\":10,\"solidity\":0.2}},\"type\":\"barpolar\"}],\"bar\":[{\"error_x\":{\"color\":\"#f2f5fa\"},\"error_y\":{\"color\":\"#f2f5fa\"},\"marker\":{\"line\":{\"color\":\"rgb(17,17,17)\",\"width\":0.5},\"pattern\":{\"fillmode\":\"overlay\",\"size\":10,\"solidity\":0.2}},\"type\":\"bar\"}],\"carpet\":[{\"aaxis\":{\"endlinecolor\":\"#A2B1C6\",\"gridcolor\":\"#506784\",\"linecolor\":\"#506784\",\"minorgridcolor\":\"#506784\",\"startlinecolor\":\"#A2B1C6\"},\"baxis\":{\"endlinecolor\":\"#A2B1C6\",\"gridcolor\":\"#506784\",\"linecolor\":\"#506784\",\"minorgridcolor\":\"#506784\",\"startlinecolor\":\"#A2B1C6\"},\"type\":\"carpet\"}],\"choropleth\":[{\"colorbar\":{\"outlinewidth\":0,\"ticks\":\"\"},\"type\":\"choropleth\"}],\"contourcarpet\":[{\"colorbar\":{\"outlinewidth\":0,\"ticks\":\"\"},\"type\":\"contourcarpet\"}],\"contour\":[{\"colorbar\":{\"outlinewidth\":0,\"ticks\":\"\"},\"colorscale\":[[0.0,\"#0d0887\"],[0.1111111111111111,\"#46039f\"],[0.2222222222222222,\"#7201a8\"],[0.3333333333333333,\"#9c179e\"],[0.4444444444444444,\"#bd3786\"],[0.5555555555555556,\"#d8576b\"],[0.6666666666666666,\"#ed7953\"],[0.7777777777777778,\"#fb9f3a\"],[0.8888888888888888,\"#fdca26\"],[1.0,\"#f0f921\"]],\"type\":\"contour\"}],\"heatmapgl\":[{\"colorbar\":{\"outlinewidth\":0,\"ticks\":\"\"},\"colorscale\":[[0.0,\"#0d0887\"],[0.1111111111111111,\"#46039f\"],[0.2222222222222222,\"#7201a8\"],[0.3333333333333333,\"#9c179e\"],[0.4444444444444444,\"#bd3786\"],[0.5555555555555556,\"#d8576b\"],[0.6666666666666666,\"#ed7953\"],[0.7777777777777778,\"#fb9f3a\"],[0.8888888888888888,\"#fdca26\"],[1.0,\"#f0f921\"]],\"type\":\"heatmapgl\"}],\"heatmap\":[{\"colorbar\":{\"outlinewidth\":0,\"ticks\":\"\"},\"colorscale\":[[0.0,\"#0d0887\"],[0.1111111111111111,\"#46039f\"],[0.2222222222222222,\"#7201a8\"],[0.3333333333333333,\"#9c179e\"],[0.4444444444444444,\"#bd3786\"],[0.5555555555555556,\"#d8576b\"],[0.6666666666666666,\"#ed7953\"],[0.7777777777777778,\"#fb9f3a\"],[0.8888888888888888,\"#fdca26\"],[1.0,\"#f0f921\"]],\"type\":\"heatmap\"}],\"histogram2dcontour\":[{\"colorbar\":{\"outlinewidth\":0,\"ticks\":\"\"},\"colorscale\":[[0.0,\"#0d0887\"],[0.1111111111111111,\"#46039f\"],[0.2222222222222222,\"#7201a8\"],[0.3333333333333333,\"#9c179e\"],[0.4444444444444444,\"#bd3786\"],[0.5555555555555556,\"#d8576b\"],[0.6666666666666666,\"#ed7953\"],[0.7777777777777778,\"#fb9f3a\"],[0.8888888888888888,\"#fdca26\"],[1.0,\"#f0f921\"]],\"type\":\"histogram2dcontour\"}],\"histogram2d\":[{\"colorbar\":{\"outlinewidth\":0,\"ticks\":\"\"},\"colorscale\":[[0.0,\"#0d0887\"],[0.1111111111111111,\"#46039f\"],[0.2222222222222222,\"#7201a8\"],[0.3333333333333333,\"#9c179e\"],[0.4444444444444444,\"#bd3786\"],[0.5555555555555556,\"#d8576b\"],[0.6666666666666666,\"#ed7953\"],[0.7777777777777778,\"#fb9f3a\"],[0.8888888888888888,\"#fdca26\"],[1.0,\"#f0f921\"]],\"type\":\"histogram2d\"}],\"histogram\":[{\"marker\":{\"pattern\":{\"fillmode\":\"overlay\",\"size\":10,\"solidity\":0.2}},\"type\":\"histogram\"}],\"mesh3d\":[{\"colorbar\":{\"outlinewidth\":0,\"ticks\":\"\"},\"type\":\"mesh3d\"}],\"parcoords\":[{\"line\":{\"colorbar\":{\"outlinewidth\":0,\"ticks\":\"\"}},\"type\":\"parcoords\"}],\"pie\":[{\"automargin\":true,\"type\":\"pie\"}],\"scatter3d\":[{\"line\":{\"colorbar\":{\"outlinewidth\":0,\"ticks\":\"\"}},\"marker\":{\"colorbar\":{\"outlinewidth\":0,\"ticks\":\"\"}},\"type\":\"scatter3d\"}],\"scattercarpet\":[{\"marker\":{\"colorbar\":{\"outlinewidth\":0,\"ticks\":\"\"}},\"type\":\"scattercarpet\"}],\"scattergeo\":[{\"marker\":{\"colorbar\":{\"outlinewidth\":0,\"ticks\":\"\"}},\"type\":\"scattergeo\"}],\"scattergl\":[{\"marker\":{\"line\":{\"color\":\"#283442\"}},\"type\":\"scattergl\"}],\"scattermapbox\":[{\"marker\":{\"colorbar\":{\"outlinewidth\":0,\"ticks\":\"\"}},\"type\":\"scattermapbox\"}],\"scatterpolargl\":[{\"marker\":{\"colorbar\":{\"outlinewidth\":0,\"ticks\":\"\"}},\"type\":\"scatterpolargl\"}],\"scatterpolar\":[{\"marker\":{\"colorbar\":{\"outlinewidth\":0,\"ticks\":\"\"}},\"type\":\"scatterpolar\"}],\"scatter\":[{\"marker\":{\"line\":{\"color\":\"#283442\"}},\"type\":\"scatter\"}],\"scatterternary\":[{\"marker\":{\"colorbar\":{\"outlinewidth\":0,\"ticks\":\"\"}},\"type\":\"scatterternary\"}],\"surface\":[{\"colorbar\":{\"outlinewidth\":0,\"ticks\":\"\"},\"colorscale\":[[0.0,\"#0d0887\"],[0.1111111111111111,\"#46039f\"],[0.2222222222222222,\"#7201a8\"],[0.3333333333333333,\"#9c179e\"],[0.4444444444444444,\"#bd3786\"],[0.5555555555555556,\"#d8576b\"],[0.6666666666666666,\"#ed7953\"],[0.7777777777777778,\"#fb9f3a\"],[0.8888888888888888,\"#fdca26\"],[1.0,\"#f0f921\"]],\"type\":\"surface\"}],\"table\":[{\"cells\":{\"fill\":{\"color\":\"#506784\"},\"line\":{\"color\":\"rgb(17,17,17)\"}},\"header\":{\"fill\":{\"color\":\"#2a3f5f\"},\"line\":{\"color\":\"rgb(17,17,17)\"}},\"type\":\"table\"}]},\"layout\":{\"annotationdefaults\":{\"arrowcolor\":\"#f2f5fa\",\"arrowhead\":0,\"arrowwidth\":1},\"autotypenumbers\":\"strict\",\"coloraxis\":{\"colorbar\":{\"outlinewidth\":0,\"ticks\":\"\"}},\"colorscale\":{\"diverging\":[[0,\"#8e0152\"],[0.1,\"#c51b7d\"],[0.2,\"#de77ae\"],[0.3,\"#f1b6da\"],[0.4,\"#fde0ef\"],[0.5,\"#f7f7f7\"],[0.6,\"#e6f5d0\"],[0.7,\"#b8e186\"],[0.8,\"#7fbc41\"],[0.9,\"#4d9221\"],[1,\"#276419\"]],\"sequential\":[[0.0,\"#0d0887\"],[0.1111111111111111,\"#46039f\"],[0.2222222222222222,\"#7201a8\"],[0.3333333333333333,\"#9c179e\"],[0.4444444444444444,\"#bd3786\"],[0.5555555555555556,\"#d8576b\"],[0.6666666666666666,\"#ed7953\"],[0.7777777777777778,\"#fb9f3a\"],[0.8888888888888888,\"#fdca26\"],[1.0,\"#f0f921\"]],\"sequentialminus\":[[0.0,\"#0d0887\"],[0.1111111111111111,\"#46039f\"],[0.2222222222222222,\"#7201a8\"],[0.3333333333333333,\"#9c179e\"],[0.4444444444444444,\"#bd3786\"],[0.5555555555555556,\"#d8576b\"],[0.6666666666666666,\"#ed7953\"],[0.7777777777777778,\"#fb9f3a\"],[0.8888888888888888,\"#fdca26\"],[1.0,\"#f0f921\"]]},\"colorway\":[\"#636efa\",\"#EF553B\",\"#00cc96\",\"#ab63fa\",\"#FFA15A\",\"#19d3f3\",\"#FF6692\",\"#B6E880\",\"#FF97FF\",\"#FECB52\"],\"font\":{\"color\":\"#f2f5fa\"},\"geo\":{\"bgcolor\":\"rgb(17,17,17)\",\"lakecolor\":\"rgb(17,17,17)\",\"landcolor\":\"rgb(17,17,17)\",\"showlakes\":true,\"showland\":true,\"subunitcolor\":\"#506784\"},\"hoverlabel\":{\"align\":\"left\"},\"hovermode\":\"closest\",\"mapbox\":{\"style\":\"dark\"},\"paper_bgcolor\":\"rgb(17,17,17)\",\"plot_bgcolor\":\"rgb(17,17,17)\",\"polar\":{\"angularaxis\":{\"gridcolor\":\"#506784\",\"linecolor\":\"#506784\",\"ticks\":\"\"},\"bgcolor\":\"rgb(17,17,17)\",\"radialaxis\":{\"gridcolor\":\"#506784\",\"linecolor\":\"#506784\",\"ticks\":\"\"}},\"scene\":{\"xaxis\":{\"backgroundcolor\":\"rgb(17,17,17)\",\"gridcolor\":\"#506784\",\"gridwidth\":2,\"linecolor\":\"#506784\",\"showbackground\":true,\"ticks\":\"\",\"zerolinecolor\":\"#C8D4E3\"},\"yaxis\":{\"backgroundcolor\":\"rgb(17,17,17)\",\"gridcolor\":\"#506784\",\"gridwidth\":2,\"linecolor\":\"#506784\",\"showbackground\":true,\"ticks\":\"\",\"zerolinecolor\":\"#C8D4E3\"},\"zaxis\":{\"backgroundcolor\":\"rgb(17,17,17)\",\"gridcolor\":\"#506784\",\"gridwidth\":2,\"linecolor\":\"#506784\",\"showbackground\":true,\"ticks\":\"\",\"zerolinecolor\":\"#C8D4E3\"}},\"shapedefaults\":{\"line\":{\"color\":\"#f2f5fa\"}},\"sliderdefaults\":{\"bgcolor\":\"#C8D4E3\",\"bordercolor\":\"rgb(17,17,17)\",\"borderwidth\":1,\"tickwidth\":0},\"ternary\":{\"aaxis\":{\"gridcolor\":\"#506784\",\"linecolor\":\"#506784\",\"ticks\":\"\"},\"baxis\":{\"gridcolor\":\"#506784\",\"linecolor\":\"#506784\",\"ticks\":\"\"},\"bgcolor\":\"rgb(17,17,17)\",\"caxis\":{\"gridcolor\":\"#506784\",\"linecolor\":\"#506784\",\"ticks\":\"\"}},\"title\":{\"x\":0.05},\"updatemenudefaults\":{\"bgcolor\":\"#506784\",\"borderwidth\":0},\"xaxis\":{\"automargin\":true,\"gridcolor\":\"#283442\",\"linecolor\":\"#506784\",\"ticks\":\"\",\"title\":{\"standoff\":15},\"zerolinecolor\":\"#283442\",\"zerolinewidth\":2},\"yaxis\":{\"automargin\":true,\"gridcolor\":\"#283442\",\"linecolor\":\"#506784\",\"ticks\":\"\",\"title\":{\"standoff\":15},\"zerolinecolor\":\"#283442\",\"zerolinewidth\":2}}},\"legend\":{\"tracegroupgap\":0},\"title\":{\"text\":\"Collision Vehicle Type Distribution\"}},                        {\"responsive\": true}                    ).then(function(){\n",
       "                            \n",
       "var gd = document.getElementById('376c8c70-0ddc-47c5-88d0-8595fd87eb22');\n",
       "var x = new MutationObserver(function (mutations, observer) {{\n",
       "        var display = window.getComputedStyle(gd).display;\n",
       "        if (!display || display === 'none') {{\n",
       "            console.log([gd, 'removed!']);\n",
       "            Plotly.purge(gd);\n",
       "            observer.disconnect();\n",
       "        }}\n",
       "}});\n",
       "\n",
       "// Listen for the removal of the full notebook cells\n",
       "var notebookContainer = gd.closest('#notebook-container');\n",
       "if (notebookContainer) {{\n",
       "    x.observe(notebookContainer, {childList: true});\n",
       "}}\n",
       "\n",
       "// Listen for the clearing of the current output cell\n",
       "var outputEl = gd.closest('.output');\n",
       "if (outputEl) {{\n",
       "    x.observe(outputEl, {childList: true});\n",
       "}}\n",
       "\n",
       "                        })                };                });            </script>        </div>"
      ]
     },
     "metadata": {},
     "output_type": "display_data"
    }
   ],
   "source": [
    "fig = px.pie(df_vehicle_type, values='count', names='VEHICLE TYPE CODE 1', title='Collision Vehicle Type Distribution', template='plotly_dark')\n",
    "fig.show()"
   ]
  }
 ],
 "metadata": {
  "kernelspec": {
   "display_name": "Python 3 (ipykernel)",
   "language": "python",
   "name": "python3"
  },
  "language_info": {
   "codemirror_mode": {
    "name": "ipython",
    "version": 3
   },
   "file_extension": ".py",
   "mimetype": "text/x-python",
   "name": "python",
   "nbconvert_exporter": "python",
   "pygments_lexer": "ipython3",
   "version": "3.8.13"
  },
  "papermill": {
   "default_parameters": {},
   "duration": 9.610623,
   "end_time": "2023-09-26T23:00:11.327042",
   "environment_variables": {},
   "exception": null,
   "input_path": "__notebook__.ipynb",
   "output_path": "__notebook__.ipynb",
   "parameters": {},
   "start_time": "2023-09-26T23:00:01.716419",
   "version": "2.4.0"
  }
 },
 "nbformat": 4,
 "nbformat_minor": 5
}
