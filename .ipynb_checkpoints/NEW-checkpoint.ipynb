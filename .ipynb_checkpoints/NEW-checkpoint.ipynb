{
 "cells": [
  {
   "cell_type": "code",
   "execution_count": null,
   "id": "50191c39",
   "metadata": {},
   "outputs": [],
   "source": [
    "# Running this code will display the query used to generate your previous job\n",
    "\n",
    "job = client.get_job('bquxjob_659ee023_18b1f003883') # Job ID inserted based on the query results selected to explore\n",
    "print(job.query)"
   ]
  },
  {
   "cell_type": "code",
   "execution_count": null,
   "id": "f9485eb2",
   "metadata": {},
   "outputs": [],
   "source": [
    "# Running this code will read results from your previous job\n",
    "\n",
    "job = client.get_job('bquxjob_659ee023_18b1f003883') # Job ID inserted based on the query results selected to explore\n",
    "results = job.to_dataframe()\n",
    "results"
   ]
  },
  {
   "cell_type": "code",
   "execution_count": null,
   "id": "81e02559",
   "metadata": {},
   "outputs": [],
   "source": [
    "results.to_csv('results.csv', index=False)"
   ]
  }
 ],
 "metadata": {
  "kernelspec": {
   "display_name": "Python 3 (ipykernel)",
   "language": "python",
   "name": "python3"
  },
  "language_info": {
   "codemirror_mode": {
    "name": "ipython",
    "version": 3
   },
   "file_extension": ".py",
   "mimetype": "text/x-python",
   "name": "python",
   "nbconvert_exporter": "python",
   "pygments_lexer": "ipython3",
   "version": "3.8.13"
  }
 },
 "nbformat": 4,
 "nbformat_minor": 5
}
